{
 "cells": [
  {
   "cell_type": "code",
   "execution_count": 2,
   "metadata": {},
   "outputs": [
    {
     "name": "stderr",
     "output_type": "stream",
     "text": [
      "[nltk_data] Downloading package stopwords to\n",
      "[nltk_data]     C:\\Users\\kartik.sonaghela\\AppData\\Roaming\\nltk_data...\n",
      "[nltk_data]   Package stopwords is already up-to-date!\n"
     ]
    },
    {
     "data": {
      "text/plain": [
       "True"
      ]
     },
     "execution_count": 2,
     "metadata": {},
     "output_type": "execute_result"
    }
   ],
   "source": [
    "import nltk\n",
    "from nltk import FreqDist\n",
    "nltk.download('stopwords')"
   ]
  },
  {
   "cell_type": "code",
   "execution_count": 3,
   "metadata": {},
   "outputs": [],
   "source": [
    "import pandas as pd\n",
    "pd.set_option(\"display.max_colwidth\", 200)\n",
    "import numpy as np\n",
    "import re\n",
    "import spacy\n",
    "\n",
    "import gensim\n",
    "from gensim import corpora\n",
    "\n",
    "# libraries for visualization\n",
    "import pyLDAvis\n",
    "import pyLDAvis.gensim_models\n",
    "import matplotlib.pyplot as plt\n",
    "import seaborn as sns\n",
    "%matplotlib inline\n",
    "\n",
    "import warnings\n",
    "warnings.filterwarnings('ignore')"
   ]
  },
  {
   "cell_type": "code",
   "execution_count": 4,
   "metadata": {},
   "outputs": [
    {
     "data": {
      "text/html": [
       "<div>\n",
       "<style scoped>\n",
       "    .dataframe tbody tr th:only-of-type {\n",
       "        vertical-align: middle;\n",
       "    }\n",
       "\n",
       "    .dataframe tbody tr th {\n",
       "        vertical-align: top;\n",
       "    }\n",
       "\n",
       "    .dataframe thead th {\n",
       "        text-align: right;\n",
       "    }\n",
       "</style>\n",
       "<table border=\"1\" class=\"dataframe\">\n",
       "  <thead>\n",
       "    <tr style=\"text-align: right;\">\n",
       "      <th></th>\n",
       "      <th>Ratings</th>\n",
       "      <th>Comment</th>\n",
       "      <th>Reviews</th>\n",
       "    </tr>\n",
       "  </thead>\n",
       "  <tbody>\n",
       "    <tr>\n",
       "      <th>0</th>\n",
       "      <td>5</td>\n",
       "      <td>Super!</td>\n",
       "      <td>Great camera for pics and videos Battery life is good so far with some setting turn of which i never use and when i use i turn those on and i use it in power saving mode all the time so a full day...</td>\n",
       "    </tr>\n",
       "    <tr>\n",
       "      <th>1</th>\n",
       "      <td>5</td>\n",
       "      <td>Must buy!</td>\n",
       "      <td>Great device. Let me tell the Pros..1. Superb build quality 2. Great display. 3. Camera is great in good lighting conditions 4. Processing is great. 5. Sound is superb. 6. Call quality is great. 7...</td>\n",
       "    </tr>\n",
       "    <tr>\n",
       "      <th>2</th>\n",
       "      <td>5</td>\n",
       "      <td>Great product</td>\n",
       "      <td>Who all loves older size i.e., 4.7 inch type should definitely go for this.  Nothing is better than XR, XS or 11. Best for price and usage.READ MORE</td>\n",
       "    </tr>\n",
       "    <tr>\n",
       "      <th>3</th>\n",
       "      <td>5</td>\n",
       "      <td>Simply awesome</td>\n",
       "      <td>This iPhone SE is the best phone ever you get. Beautifully designed gives a classy look in your palms. Moreover, performance wise it is a benchmark. You will not be disappointed in this budget. My...</td>\n",
       "    </tr>\n",
       "    <tr>\n",
       "      <th>4</th>\n",
       "      <td>5</td>\n",
       "      <td>Classy product</td>\n",
       "      <td>This is my second iphone after iphone 4s. I’ve been a long time android user in between. I’ll tell you who this phone is for. Prospective buyers can then decide1. For photo and video enthusiasts. ...</td>\n",
       "    </tr>\n",
       "  </tbody>\n",
       "</table>\n",
       "</div>"
      ],
      "text/plain": [
       "   Ratings         Comment  \\\n",
       "0        5          Super!   \n",
       "1        5       Must buy!   \n",
       "2        5   Great product   \n",
       "3        5  Simply awesome   \n",
       "4        5  Classy product   \n",
       "\n",
       "                                                                                                                                                                                                   Reviews  \n",
       "0  Great camera for pics and videos Battery life is good so far with some setting turn of which i never use and when i use i turn those on and i use it in power saving mode all the time so a full day...  \n",
       "1  Great device. Let me tell the Pros..1. Superb build quality 2. Great display. 3. Camera is great in good lighting conditions 4. Processing is great. 5. Sound is superb. 6. Call quality is great. 7...  \n",
       "2                                                     Who all loves older size i.e., 4.7 inch type should definitely go for this.  Nothing is better than XR, XS or 11. Best for price and usage.READ MORE  \n",
       "3  This iPhone SE is the best phone ever you get. Beautifully designed gives a classy look in your palms. Moreover, performance wise it is a benchmark. You will not be disappointed in this budget. My...  \n",
       "4  This is my second iphone after iphone 4s. I’ve been a long time android user in between. I’ll tell you who this phone is for. Prospective buyers can then decide1. For photo and video enthusiasts. ...  "
      ]
     },
     "execution_count": 4,
     "metadata": {},
     "output_type": "execute_result"
    }
   ],
   "source": [
    "df = pd.read_csv('APPLE_iPhone_SE.csv')\n",
    "df.head()"
   ]
  },
  {
   "cell_type": "code",
   "execution_count": 6,
   "metadata": {},
   "outputs": [],
   "source": [
    "# function to plot most frequent terms\n",
    "def freq_words(x, terms ):\n",
    "    all_words = ' '.join([text for text in x])\n",
    "    \n",
    "    all_words = all_words.split()\n",
    "    fdist = FreqDist(all_words)\n",
    "    words_df = pd.DataFrame({'word':list(fdist.keys()), 'count':list(fdist.values())})\n",
    "    # selecting top 30 most frequent words\n",
    "    d = words_df.nlargest(columns=\"count\", n = terms)\n",
    "    plt.figure(figsize=(20,5))\n",
    "    ax = sns.barplot(data=d, x= \"word\", y = \"count\")\n",
    "    ax.set(ylabel = 'Count')\n",
    "    plt.show()\n"
   ]
  },
  {
   "cell_type": "code",
   "execution_count": 7,
   "metadata": {},
   "outputs": [
    {
     "data": {
      "image/png": "[encoded data removed]",
      "text/plain": [
       "<Figure size 1440x360 with 1 Axes>"
      ]
     },
     "metadata": {
      "needs_background": "light"
     },
     "output_type": "display_data"
    }
   ],
   "source": [
    "freq_words(df['Reviews'],30)"
   ]
  },
  {
   "cell_type": "code",
   "execution_count": 9,
   "metadata": {},
   "outputs": [],
   "source": [
    "# remove unwanted characters, numbers and symbols\n",
    "df['Reviews'] = df['Reviews'].str.replace(\"[^a-zA-Z#]\", \" \")"
   ]
  },
  {
   "cell_type": "code",
   "execution_count": 10,
   "metadata": {},
   "outputs": [],
   "source": [
    "from nltk.corpus import stopwords\n",
    "stop_words = stopwords.words('english')"
   ]
  },
  {
   "cell_type": "code",
   "execution_count": 11,
   "metadata": {},
   "outputs": [],
   "source": [
    "# function to remove stopwords\n",
    "def remove_stopwords(rev):\n",
    "    rev_new = \" \".join([i for i in rev if i not in stop_words])\n",
    "    return rev_new\n",
    "\n",
    "# remove short words (length < 3)\n",
    "df['Reviews'] = df['Reviews'].apply(lambda x: ' '.join([w for w in x.split() if len(w)>2]))\n",
    "\n",
    "# remove stopwords from the text\n",
    "reviews = [remove_stopwords(r.split()) for r in df['Reviews']]\n",
    "\n",
    "# make entire text lowercase\n",
    "reviews = [r.lower() for r in reviews]"
   ]
  },
  {
   "cell_type": "code",
   "execution_count": 12,
   "metadata": {},
   "outputs": [
    {
     "data": {
      "image/png": "[encoded data removed]",
      "text/plain": [
       "<Figure size 1440x360 with 1 Axes>"
      ]
     },
     "metadata": {
      "needs_background": "light"
     },
     "output_type": "display_data"
    }
   ],
   "source": [
    "freq_words(reviews, 30)"
   ]
  },
  {
   "cell_type": "code",
   "execution_count": 13,
   "metadata": {},
   "outputs": [
    {
     "name": "stdout",
     "output_type": "stream",
     "text": [
      "Requirement already satisfied: en-core-web-sm==3.0.0 from https://github.com/explosion/spacy-models/releases/download/en_core_web_sm-3.0.0/en_core_web_sm-3.0.0-py3-none-any.whl#egg=en_core_web_sm==3.0.0 in c:\\users\\kartik.sonaghela\\anaconda3\\lib\\site-packages (3.0.0)"
     ]
    },
    {
     "name": "stderr",
     "output_type": "stream",
     "text": [
      "2021-12-11 20:36:33.128889: W tensorflow/stream_executor/platform/default/dso_loader.cc:60] Could not load dynamic library 'cudart64_110.dll'; dlerror: cudart64_110.dll not found\n",
      "2021-12-11 20:36:33.128987: I tensorflow/stream_executor/cuda/cudart_stub.cc:29] Ignore above cudart dlerror if you do not have a GPU set up on your machine.\n"
     ]
    },
    {
     "name": "stdout",
     "output_type": "stream",
     "text": [
      "\n",
      "Requirement already satisfied: spacy<3.1.0,>=3.0.0 in c:\\users\\kartik.sonaghela\\anaconda3\\lib\\site-packages (from en-core-web-sm==3.0.0) (3.0.6)\n",
      "Requirement already satisfied: preshed<3.1.0,>=3.0.2 in c:\\users\\kartik.sonaghela\\anaconda3\\lib\\site-packages (from spacy<3.1.0,>=3.0.0->en-core-web-sm==3.0.0) (3.0.5)\n",
      "Requirement already satisfied: spacy-legacy<3.1.0,>=3.0.4 in c:\\users\\kartik.sonaghela\\anaconda3\\lib\\site-packages (from spacy<3.1.0,>=3.0.0->en-core-web-sm==3.0.0) (3.0.5)\n",
      "Requirement already satisfied: srsly<3.0.0,>=2.4.1 in c:\\users\\kartik.sonaghela\\anaconda3\\lib\\site-packages (from spacy<3.1.0,>=3.0.0->en-core-web-sm==3.0.0) (2.4.1)\n",
      "Requirement already satisfied: requests<3.0.0,>=2.13.0 in c:\\users\\kartik.sonaghela\\anaconda3\\lib\\site-packages (from spacy<3.1.0,>=3.0.0->en-core-web-sm==3.0.0) (2.22.0)\n",
      "Requirement already satisfied: thinc<8.1.0,>=8.0.3 in c:\\users\\kartik.sonaghela\\anaconda3\\lib\\site-packages (from spacy<3.1.0,>=3.0.0->en-core-web-sm==3.0.0) (8.0.3)\n",
      "Requirement already satisfied: numpy>=1.15.0 in c:\\users\\kartik.sonaghela\\anaconda3\\lib\\site-packages (from spacy<3.1.0,>=3.0.0->en-core-web-sm==3.0.0) (1.18.1)\n",
      "Requirement already satisfied: packaging>=20.0 in c:\\users\\kartik.sonaghela\\anaconda3\\lib\\site-packages (from spacy<3.1.0,>=3.0.0->en-core-web-sm==3.0.0) (20.4)\n",
      "Requirement already satisfied: setuptools in c:\\users\\kartik.sonaghela\\anaconda3\\lib\\site-packages (from spacy<3.1.0,>=3.0.0->en-core-web-sm==3.0.0) (50.3.1.post20201107)\n",
      "Requirement already satisfied: blis<0.8.0,>=0.4.0 in c:\\users\\kartik.sonaghela\\anaconda3\\lib\\site-packages (from spacy<3.1.0,>=3.0.0->en-core-web-sm==3.0.0) (0.7.4)\n",
      "Requirement already satisfied: pathy>=0.3.5 in c:\\users\\kartik.sonaghela\\anaconda3\\lib\\site-packages (from spacy<3.1.0,>=3.0.0->en-core-web-sm==3.0.0) (0.5.2)\n",
      "Requirement already satisfied: typer<0.4.0,>=0.3.0 in c:\\users\\kartik.sonaghela\\anaconda3\\lib\\site-packages (from spacy<3.1.0,>=3.0.0->en-core-web-sm==3.0.0) (0.3.2)\n",
      "Requirement already satisfied: wasabi<1.1.0,>=0.8.1 in c:\\users\\kartik.sonaghela\\anaconda3\\lib\\site-packages (from spacy<3.1.0,>=3.0.0->en-core-web-sm==3.0.0) (0.8.2)\n",
      "Requirement already satisfied: tqdm<5.0.0,>=4.38.0 in c:\\users\\kartik.sonaghela\\anaconda3\\lib\\site-packages (from spacy<3.1.0,>=3.0.0->en-core-web-sm==3.0.0) (4.46.0)\n",
      "Requirement already satisfied: cymem<2.1.0,>=2.0.2 in c:\\users\\kartik.sonaghela\\anaconda3\\lib\\site-packages (from spacy<3.1.0,>=3.0.0->en-core-web-sm==3.0.0) (2.0.5)\n",
      "Requirement already satisfied: pydantic<1.8.0,>=1.7.1 in c:\\users\\kartik.sonaghela\\anaconda3\\lib\\site-packages (from spacy<3.1.0,>=3.0.0->en-core-web-sm==3.0.0) (1.7.4)\n",
      "Requirement already satisfied: catalogue<2.1.0,>=2.0.3 in c:\\users\\kartik.sonaghela\\anaconda3\\lib\\site-packages (from spacy<3.1.0,>=3.0.0->en-core-web-sm==3.0.0) (2.0.4)\n",
      "Requirement already satisfied: murmurhash<1.1.0,>=0.28.0 in c:\\users\\kartik.sonaghela\\anaconda3\\lib\\site-packages (from spacy<3.1.0,>=3.0.0->en-core-web-sm==3.0.0) (1.0.5)\n",
      "Requirement already satisfied: jinja2 in c:\\users\\kartik.sonaghela\\anaconda3\\lib\\site-packages (from spacy<3.1.0,>=3.0.0->en-core-web-sm==3.0.0) (2.11.1)\n",
      "Requirement already satisfied: certifi>=2017.4.17 in c:\\users\\kartik.sonaghela\\anaconda3\\lib\\site-packages (from requests<3.0.0,>=2.13.0->spacy<3.1.0,>=3.0.0->en-core-web-sm==3.0.0) (2019.11.28)\n",
      "Requirement already satisfied: chardet<3.1.0,>=3.0.2 in c:\\users\\kartik.sonaghela\\anaconda3\\lib\\site-packages (from requests<3.0.0,>=2.13.0->spacy<3.1.0,>=3.0.0->en-core-web-sm==3.0.0) (3.0.4)\n",
      "Requirement already satisfied: urllib3!=1.25.0,!=1.25.1,<1.26,>=1.21.1 in c:\\users\\kartik.sonaghela\\anaconda3\\lib\\site-packages (from requests<3.0.0,>=2.13.0->spacy<3.1.0,>=3.0.0->en-core-web-sm==3.0.0) (1.25.4)\n",
      "Requirement already satisfied: idna<2.9,>=2.5 in c:\\users\\kartik.sonaghela\\anaconda3\\lib\\site-packages (from requests<3.0.0,>=2.13.0->spacy<3.1.0,>=3.0.0->en-core-web-sm==3.0.0) (2.8)\n",
      "Requirement already satisfied: pyparsing>=2.0.2 in c:\\users\\kartik.sonaghela\\anaconda3\\lib\\site-packages (from packaging>=20.0->spacy<3.1.0,>=3.0.0->en-core-web-sm==3.0.0) (2.4.6)\n",
      "Requirement already satisfied: six in c:\\users\\kartik.sonaghela\\anaconda3\\lib\\site-packages (from packaging>=20.0->spacy<3.1.0,>=3.0.0->en-core-web-sm==3.0.0) (1.12.0)\n",
      "Requirement already satisfied: smart-open<4.0.0,>=2.2.0 in c:\\users\\kartik.sonaghela\\anaconda3\\lib\\site-packages (from pathy>=0.3.5->spacy<3.1.0,>=3.0.0->en-core-web-sm==3.0.0) (3.0.0)\n",
      "Requirement already satisfied: click<7.2.0,>=7.1.1 in c:\\users\\kartik.sonaghela\\anaconda3\\lib\\site-packages (from typer<0.4.0,>=0.3.0->spacy<3.1.0,>=3.0.0->en-core-web-sm==3.0.0) (7.1.2)\n",
      "Requirement already satisfied: MarkupSafe>=0.23 in c:\\users\\kartik.sonaghela\\anaconda3\\lib\\site-packages (from jinja2->spacy<3.1.0,>=3.0.0->en-core-web-sm==3.0.0) (1.1.1)\n",
      "[+] Download and installation successful\n",
      "You can now load the package via spacy.load('en_core_web_sm')\n"
     ]
    }
   ],
   "source": [
    "!python -m spacy download en_core_web_sm "
   ]
  },
  {
   "cell_type": "code",
   "execution_count": 14,
   "metadata": {},
   "outputs": [],
   "source": [
    "\n",
    "nlp = spacy.load('en_core_web_sm', disable=['parser', 'ner'])\n",
    "\n",
    "def lemmatization(texts, tags=['NOUN', 'ADJ']): # filter noun and adjective\n",
    "    output = []\n",
    "    for sent in texts:\n",
    "        doc = nlp(\" \".join(sent)) \n",
    "        output.append([token.lemma_ for token in doc if token.pos_ in tags])\n",
    "    return output"
   ]
  },
  {
   "cell_type": "code",
   "execution_count": 15,
   "metadata": {},
   "outputs": [
    {
     "name": "stdout",
     "output_type": "stream",
     "text": [
      "['great', 'device', 'let', 'tell', 'pros', 'superb', 'build', 'quality', 'great', 'display', 'camera', 'great', 'good', 'lighting', 'conditions', 'processing', 'great', 'sound', 'superb', 'call', 'quality', 'great', 'red', 'colour', 'looks', 'superb', 'portrait', 'mode', 'photography', 'superb', 'read', 'more']\n"
     ]
    }
   ],
   "source": [
    "tokenized_reviews = pd.Series(reviews).apply(lambda x: x.split())\n",
    "print(tokenized_reviews[1])"
   ]
  },
  {
   "cell_type": "code",
   "execution_count": 16,
   "metadata": {},
   "outputs": [
    {
     "name": "stdout",
     "output_type": "stream",
     "text": [
      "['great', 'device', 'pro', 'superb', 'build', 'quality', 'great', 'display', 'camera', 'great', 'good', 'lighting', 'condition', 'great', 'sound', 'superb', 'call', 'quality', 'great', 'red', 'colour', 'superb', 'portrait', 'mode', 'photography', 'superb']\n"
     ]
    }
   ],
   "source": [
    "reviews_2 = lemmatization(tokenized_reviews)\n",
    "print(reviews_2[1]) # print lemmatized review"
   ]
  },
  {
   "cell_type": "code",
   "execution_count": 17,
   "metadata": {},
   "outputs": [
    {
     "data": {
      "image/png": "[encoded data removed]",
      "text/plain": [
       "<Figure size 1440x360 with 1 Axes>"
      ]
     },
     "metadata": {
      "needs_background": "light"
     },
     "output_type": "display_data"
    }
   ],
   "source": [
    "reviews_3 = []\n",
    "for i in range(len(reviews_2)):\n",
    "    reviews_3.append(' '.join(reviews_2[i]))\n",
    "\n",
    "\n",
    "df['reviews'] = reviews_3\n",
    "\n",
    "freq_words(df['reviews'], 35)"
   ]
  },
  {
   "cell_type": "code",
   "execution_count": 18,
   "metadata": {},
   "outputs": [],
   "source": [
    "dictionary = corpora.Dictionary(reviews_2)"
   ]
  },
  {
   "cell_type": "code",
   "execution_count": 19,
   "metadata": {},
   "outputs": [
    {
     "name": "stdout",
     "output_type": "stream",
     "text": [
      "Dictionary(4544 unique tokens: ['battery', 'bluetooth', 'camera', 'car', 'couple']...)\n",
      "4544\n",
      "bluetooth\n"
     ]
    }
   ],
   "source": [
    "print(dictionary)\n",
    "print(len(dictionary))\n",
    "print(dictionary[1])"
   ]
  },
  {
   "cell_type": "code",
   "execution_count": 20,
   "metadata": {},
   "outputs": [],
   "source": [
    "doc_term_matrix = [dictionary.doc2bow(rev) for rev in reviews_2]"
   ]
  },
  {
   "cell_type": "code",
   "execution_count": 21,
   "metadata": {},
   "outputs": [],
   "source": [
    "# Creating the object for LDA model using gensim library\n",
    "LDA = gensim.models.ldamodel.LdaModel\n",
    "\n",
    "# Build LDA model\n",
    "lda_model = LDA(corpus=doc_term_matrix, id2word=dictionary, num_topics=7, random_state=100,\n",
    "                chunksize=1000, passes=50)"
   ]
  },
  {
   "cell_type": "code",
   "execution_count": 22,
   "metadata": {},
   "outputs": [
    {
     "data": {
      "text/plain": [
       "[(0,\n",
       "  '0.214*\"awesome\" + 0.078*\"productread\" + 0.038*\"great\" + 0.031*\"satisfied\" + 0.029*\"read\" + 0.028*\"product\" + 0.023*\"red\" + 0.017*\"colour\" + 0.016*\"quality\" + 0.015*\"mobile\"'),\n",
       " (1,\n",
       "  '0.118*\"iphone\" + 0.074*\"phone\" + 0.046*\"good\" + 0.035*\"apple\" + 0.026*\"more\" + 0.024*\"great\" + 0.023*\"camera\" + 0.021*\"price\" + 0.021*\"first\" + 0.020*\"performance\"'),\n",
       " (2,\n",
       "  '0.081*\"small\" + 0.052*\"phone\" + 0.048*\"size\" + 0.045*\"screen\" + 0.038*\"worth\" + 0.032*\"perfect\" + 0.026*\"big\" + 0.022*\"handy\" + 0.021*\"apple\" + 0.017*\"device\"'),\n",
       " (3,\n",
       "  '0.106*\"product\" + 0.070*\"nice\" + 0.070*\"good\" + 0.051*\"phone\" + 0.043*\"phoneread\" + 0.043*\"delivery\" + 0.040*\"thank\" + 0.029*\"flipkart\" + 0.029*\"superb\" + 0.028*\"amazing\"'),\n",
       " (4,\n",
       "  '0.193*\"more\" + 0.019*\"phone\" + 0.019*\"bad\" + 0.013*\"flipkart\" + 0.012*\"purchase\" + 0.011*\"time\" + 0.011*\"bbd\" + 0.010*\"sim\" + 0.010*\"buy\" + 0.010*\"don\"'),\n",
       " (5,\n",
       "  '0.088*\"battery\" + 0.056*\"phone\" + 0.034*\"good\" + 0.034*\"day\" + 0.023*\"camera\" + 0.021*\"user\" + 0.016*\"performance\" + 0.015*\"use\" + 0.014*\"more\" + 0.012*\"hour\"'),\n",
       " (6,\n",
       "  '0.162*\"good\" + 0.114*\"battery\" + 0.057*\"phone\" + 0.053*\"value\" + 0.049*\"money\" + 0.048*\"performance\" + 0.043*\"camera\" + 0.028*\"more\" + 0.024*\"mobile\" + 0.022*\"quality\"')]"
      ]
     },
     "execution_count": 22,
     "metadata": {},
     "output_type": "execute_result"
    }
   ],
   "source": [
    "lda_model.print_topics()"
   ]
  },
  {
   "cell_type": "code",
   "execution_count": 23,
   "metadata": {},
   "outputs": [
    {
     "data": {
      "text/html": [
       "\n",
       "<link rel=\"stylesheet\" type=\"text/css\" href=\"https://cdn.jsdelivr.net/gh/bmabey/pyLDAvis@3.3.1/pyLDAvis/js/ldavis.v1.0.0.css\">\n",
       "\n",
       "\n",
       "<div id=\"ldavis_el1121215466635953606623987404\"></div>\n",
       "<script type=\"text/javascript\">\n",
       "\n",
       "var ldavis_el1121215466635953606623987404_data = {\"mdsDat\": {\"x\": [0.17735487122322488, 0.1175818108451501, 0.15877368946313453, -0.023473938087765107, -0.019857913463480825, -0.06293037875549977, -0.34744814122476364], \"y\": [-0.007625204158772507, -0.039586588363991836, 0.15666351216848032, 0.2143910101802994, -0.24692171630998566, -0.15979257510140685, 0.08287156158537727], \"topics\": [1, 2, 3, 4, 5, 6, 7], \"cluster\": [1, 1, 1, 1, 1, 1, 1], \"Freq\": [27.715486872529638, 22.490692194700852, 13.859670853976313, 11.313964279421207, 10.300568029521564, 8.441080263220307, 5.87853750663012]}, \"tinfo\": {\"Term\": [\"more\", \"battery\", \"iphone\", \"awesome\", \"good\", \"product\", \"small\", \"nice\", \"value\", \"money\", \"productread\", \"size\", \"screen\", \"great\", \"camera\", \"phoneread\", \"delivery\", \"day\", \"thank\", \"apple\", \"performance\", \"worth\", \"perfect\", \"flipkart\", \"superb\", \"amazing\", \"first\", \"big\", \"love\", \"quality\", \"hour\", \"usage\", \"normal\", \"heavy\", \"charge\", \"light\", \"full\", \"drain\", \"game\", \"review\", \"decent\", \"night\", \"moderate\", \"gaming\", \"gamer\", \"need\", \"photo\", \"mah\", \"medium\", \"hrs\", \"enough\", \"youtube\", \"lag\", \"heating\", \"pubg\", \"play\", \"whatsapp\", \"weight\", \"whole\", \"daily\", \"day\", \"use\", \"user\", \"call\", \"battery\", \"video\", \"last\", \"capacity\", \"issue\", \"life\", \"phone\", \"camera\", \"time\", \"good\", \"low\", \"backup\", \"performance\", \"display\", \"more\", \"average\", \"screen\", \"bad\", \"great\", \"iphone\", \"first\", \"love\", \"budget\", \"new\", \"model\", \"brand\", \"brilliant\", \"front\", \"ios\", \"portrait\", \"large\", \"generation\", \"ecosystem\", \"difference\", \"chipset\", \"budgetread\", \"upgrade\", \"previous\", \"slim\", \"series\", \"fan\", \"want\", \"version\", \"doubt\", \"samsung\", \"pixel\", \"tiny\", \"right\", \"spec\", \"smartphone\", \"word\", \"late\", \"processor\", \"io\", \"deal\", \"range\", \"apple\", \"chip\", \"android\", \"bionic\", \"year\", \"compact\", \"price\", \"great\", \"phone\", \"experience\", \"good\", \"camera\", \"well\", \"performance\", \"more\", \"amazing\", \"big\", \"size\", \"handy\", \"display\", \"excellent\", \"value\", \"money\", \"awesomeread\", \"gud\", \"liferead\", \"upto\", \"awsome\", \"white\", \"mark\", \"buyread\", \"aspect\", \"lowread\", \"iphoneread\", \"issueread\", \"cameraread\", \"iam\", \"deviceread\", \"early\", \"goodread\", \"fps\", \"extraordinary\", \"shot\", \"edge\", \"total\", \"valuable\", \"defect\", \"request\", \"satisfiedread\", \"durability\", \"smartphoneread\", \"super\", \"poor\", \"overall\", \"good\", \"battery\", \"backup\", \"mobile\", \"performance\", \"quality\", \"camera\", \"life\", \"low\", \"phone\", \"bad\", \"price\", \"average\", \"more\", \"product\", \"display\", \"excellent\", \"nice\", \"thing\", \"problem\", \"issue\", \"handy\", \"range\", \"phoneread\", \"delivery\", \"superb\", \"mobileread\", \"performanceread\", \"flipkartread\", \"oneread\", \"genuine\", \"adapter\", \"affordable\", \"quick\", \"discount\", \"earphone\", \"qualityread\", \"moneyread\", \"seller\", \"cable\", \"worthy\", \"earpod\", \"sizeread\", \"ear\", \"slow\", \"headphone\", \"defective\", \"boy\", \"entry\", \"excited\", \"youread\", \"return\", \"problemread\", \"thank\", \"nice\", \"product\", \"flipkart\", \"happy\", \"amazing\", \"charger\", \"excellent\", \"box\", \"fast\", \"service\", \"good\", \"phone\", \"price\", \"apple\", \"great\", \"day\", \"sale\", \"time\", \"mobile\", \"worth\", \"perfect\", \"mind\", \"drawback\", \"friendly\", \"usual\", \"sleek\", \"security\", \"simple\", \"only\", \"fit\", \"fabulous\", \"productsread\", \"cool\", \"useread\", \"matter\", \"penny\", \"regret\", \"excellentread\", \"backupread\", \"privacy\", \"name\", \"interface\", \"kart\", \"handset\", \"store\", \"office\", \"adaptor\", \"worry\", \"beastread\", \"small\", \"size\", \"screen\", \"beautiful\", \"difficult\", \"big\", \"handy\", \"little\", \"pocket\", \"powerful\", \"device\", \"wise\", \"fantastic\", \"beast\", \"phone\", \"apple\", \"sale\", \"amazing\", \"high\", \"performance\", \"purchase\", \"display\", \"hand\", \"use\", \"thing\", \"smooth\", \"compact\", \"bbd\", \"sim\", \"don\", \"exchange\", \"second\", \"star\", \"true\", \"customer\", \"dream\", \"health\", \"dual\", \"care\", \"team\", \"processing\", \"special\", \"water\", \"packing\", \"working\", \"stunning\", \"packaging\", \"thought\", \"experienceread\", \"such\", \"expectation\", \"process\", \"pathetic\", \"replacement\", \"consumption\", \"extra\", \"parent\", \"more\", \"purchase\", \"bad\", \"buy\", \"disappointed\", \"service\", \"flipkart\", \"smart\", \"month\", \"time\", \"phone\", \"deal\", \"experience\", \"issue\", \"way\", \"mobile\", \"problem\", \"feature\", \"app\", \"work\", \"awesome\", \"productread\", \"satisfied\", \"read\", \"red\", \"colour\", \"factor\", \"form\", \"wonderful\", \"button\", \"original\", \"build\", \"superread\", \"sexy\", \"sensor\", \"complete\", \"batteryread\", \"reasonable\", \"hope\", \"batter\", \"dealread\", \"finger\", \"smallread\", \"disappointment\", \"print\", \"edition\", \"thumb\", \"avg\", \"perfomance\", \"perfectread\", \"touch\", \"color\", \"home\", \"sound\", \"great\", \"product\", \"quality\", \"mobile\", \"hand\", \"excellent\"], \"Freq\": [1992.0, 2696.0, 1785.0, 845.0, 3376.0, 1097.0, 652.0, 638.0, 494.0, 457.0, 309.0, 456.0, 439.0, 769.0, 1173.0, 325.0, 323.0, 728.0, 334.0, 876.0, 1137.0, 263.0, 223.0, 295.0, 219.0, 430.0, 312.0, 333.0, 292.0, 464.0, 218.68846456085913, 212.1873066632929, 166.6008979708285, 162.74972147691642, 151.12362275128666, 133.2468504196774, 122.82198143183187, 121.61732158894118, 112.16169982635223, 110.22761427356431, 105.91473350568978, 91.0376833703689, 89.09625254199948, 86.59814857000315, 83.71369003192572, 74.91530585813007, 68.51278080613746, 65.24200668044602, 60.76099446012515, 54.07367540359974, 51.03384436464615, 48.119012938801625, 47.84260796658094, 46.91803872652405, 40.404780180387846, 38.164847919882206, 37.24210200589831, 37.09468977419597, 36.068644425936185, 35.964682357719276, 629.620461327739, 281.4512285164535, 387.05472329314085, 88.4694701288483, 1632.1363106592964, 136.63678171935086, 133.5386951958179, 82.5589399507102, 204.74768586761235, 212.649868463532, 1033.7902310861728, 427.6542442261948, 203.74564475868652, 639.9935149399613, 132.89496148041084, 162.02082414179569, 297.62010300902426, 150.03801180885824, 251.48097965281588, 104.98799013335582, 130.60147713702483, 111.15691290096494, 117.30359195667162, 1784.4752600008962, 311.61049111263344, 291.74292738879046, 232.44585643955352, 114.97175501811128, 89.7572221139977, 66.15953827273903, 41.97287126458473, 37.57056589721752, 36.93985516708278, 36.59666151106815, 35.74804876388736, 35.69653685498518, 33.217231461053345, 32.405787981017916, 32.02145368192428, 29.62487240013949, 28.131935538152312, 27.318827946165925, 27.256876238847024, 27.091078322601224, 26.82700642445755, 25.82992572096797, 25.62808141776337, 24.878062471250338, 24.18881963449001, 23.386599938647375, 23.297613001797874, 22.52566362535037, 22.47722162518982, 77.19365134068694, 49.392118465000145, 77.44713758899687, 126.36296858682556, 176.23405959086733, 132.85489599224246, 109.76492269091874, 534.7275925130347, 125.10174393810678, 209.93473402475666, 119.4670854736092, 100.84277328651628, 168.01414082832503, 314.5502652453497, 363.141856242394, 1117.1747883897958, 116.38507985059675, 698.6942194535301, 342.9489067933822, 98.83059307917269, 307.49026941479036, 388.29591879755685, 140.1144306192697, 114.21563315628075, 126.59814433193698, 97.92935081464114, 93.98383451295877, 93.2820748130235, 494.01367604320154, 456.2459116252181, 155.59864647962098, 31.551512678920883, 28.04617672104286, 26.965757743854503, 26.075506506198803, 25.024619990303155, 23.28102442852131, 22.872466779970424, 20.605599146251752, 17.693076020038298, 16.95105127234325, 16.584873442109735, 12.595089033674542, 12.086785692026986, 11.922426369551715, 11.37943927890357, 10.991508438900041, 10.914606221564943, 10.858008112811476, 10.459378361192666, 10.386519639401238, 9.999586137211237, 9.660175077960162, 9.397752866907467, 8.391057837257565, 8.1100002446272, 7.982540255480947, 7.826130397597557, 80.35513295760394, 107.99119267455684, 148.72632405252568, 1502.7638236734754, 1063.9195921650182, 176.16006605137068, 223.98636674325684, 446.08580932720395, 208.28921816625237, 402.19535666827386, 152.40174238428452, 86.3138982790492, 529.0917600703623, 99.56185374170093, 146.72892821635924, 59.261431704136115, 259.00751696706897, 181.58172002046987, 93.33628268752092, 96.80055561620345, 103.03778718458116, 49.11781092786127, 41.83706729582476, 48.89843992431638, 44.4514264825671, 29.898368401491382, 324.96840568253197, 322.9751272096674, 219.0711623605048, 90.95539847783405, 83.73780119877203, 59.64312654640197, 57.96225165396041, 56.726823511990816, 40.272453277540826, 38.366374549974125, 37.91726103270949, 33.31270714102601, 29.099645135311842, 27.207658885133917, 25.953458452998216, 25.57135448008052, 22.526932068058958, 20.066941718887236, 19.96221433328924, 18.336217184938462, 18.1018535047059, 17.928779990529886, 17.736246446418072, 17.69274204407136, 16.01103267046965, 14.553245354787357, 13.892434398208842, 13.29034740132258, 12.747714535143693, 11.734323796608953, 301.6621672171384, 534.8741927299607, 803.2039576363188, 223.49893353997416, 127.06395695530391, 209.97595418362317, 100.83968638224788, 199.9295506341659, 41.838958283860194, 124.93707663432552, 56.14009485798202, 534.27919351903, 387.61502793676874, 139.7032349068115, 162.8262693981824, 139.9323070571451, 97.84022871460328, 47.92970544207348, 63.35591709661017, 56.10970347844206, 262.17989041277804, 222.75042356759906, 57.85447054725823, 46.436164333548, 45.028005880184004, 41.03046634410508, 35.46276423505434, 34.936553453181396, 33.2362216453248, 31.375041418499034, 29.135934205948786, 27.62247500637281, 25.80620775297341, 22.888873274684464, 22.864547224890796, 22.412178953461463, 21.348953681238438, 20.006345022871944, 16.000063689900976, 15.647193517326635, 15.258440288572167, 14.954436293837162, 14.797288370366944, 14.810062242606906, 14.188758866959716, 14.090807604196284, 13.701729234036515, 13.386575464477138, 13.172055374274931, 12.794152532714213, 558.1625887330042, 329.6395338328031, 308.64018925242056, 47.93526580374136, 27.230612009326055, 179.10852769043342, 149.40109790906342, 89.60960870699832, 37.49522637881543, 66.0532104695645, 116.38685770534812, 25.260087693663966, 38.41365105291511, 61.22518252302168, 357.2218265122356, 146.5088846283613, 48.278190190457494, 79.9105440102015, 43.930225480787655, 85.81216312327498, 42.35188930357762, 50.86820867909569, 42.598929167948185, 43.939770473527446, 40.0760958389995, 38.319266687944484, 38.968142698605604, 60.02451766620857, 59.3879228769567, 56.834642505873234, 56.20872138334597, 42.177698429286856, 41.50742856446912, 40.808335050953175, 40.57511833490734, 38.70946374890387, 36.132836380659576, 33.475238460567006, 31.11041979910752, 28.05412375755619, 27.32963345967106, 26.534846276662254, 24.073650683307125, 23.845583497030542, 23.650611008989276, 22.914658258825753, 22.267426735952142, 21.279819737182663, 20.6300266398183, 19.552010043342754, 18.827652968435775, 17.14604262914716, 17.01160877283998, 15.275370417313198, 15.19799952395373, 14.797227872577638, 14.043565699595964, 1093.3947596323358, 66.81386137367971, 106.81623170185341, 59.045020121594156, 36.1225003880182, 42.99403343973178, 71.24262581228317, 29.14164535185891, 44.7655587369561, 63.36597155681133, 107.24356880649611, 40.44834282128466, 40.57048323049925, 43.85950530544422, 27.998141087866937, 47.68266710424728, 35.30027718574696, 32.018003316309034, 31.574858843645124, 29.390002001995818, 844.1974286116305, 308.53788399716035, 121.96916423357683, 112.97160001519327, 89.57058861293248, 65.50194210303023, 58.82358846668836, 52.363554281059365, 49.29507396035951, 35.42552762520114, 32.83045982015103, 28.829830109159968, 28.248819497454882, 26.93402316091459, 25.60512990481291, 23.358707783100012, 21.252378507381522, 20.449456697571097, 20.044221242784626, 16.74985767392186, 15.417980787249641, 14.839857352540612, 11.2118204509161, 10.433877361079182, 9.680333351163432, 9.266288469907927, 8.213889949011683, 7.934959990702028, 7.925229202945358, 7.888479472463591, 52.81950961833397, 21.23697716805099, 21.992148028256278, 36.6355184263186, 148.68283598847623, 112.35055657705227, 63.94018787160621, 58.910962544689255, 33.69768585015804, 46.14610175384917], \"Total\": [1992.0, 2696.0, 1785.0, 845.0, 3376.0, 1097.0, 652.0, 638.0, 494.0, 457.0, 309.0, 456.0, 439.0, 769.0, 1173.0, 325.0, 323.0, 728.0, 334.0, 876.0, 1137.0, 263.0, 223.0, 295.0, 219.0, 430.0, 312.0, 333.0, 292.0, 464.0, 219.53068517570486, 213.0293091425565, 167.44312082785294, 163.59155175000922, 151.9655193945409, 134.0894500511474, 123.663939757976, 122.45944946803453, 113.0036014567464, 111.07044181563543, 106.7573450340523, 91.87981313919744, 89.9380240598401, 87.43985793830464, 84.55610540313882, 75.75848979228854, 69.35506141273066, 66.08394060617748, 61.60403602889598, 54.91528524389683, 51.875622750272726, 48.96078548258434, 48.6854984913852, 47.760110709712, 41.24701406093129, 39.006377163501476, 38.083638184164585, 37.93772894078853, 36.910611660776325, 36.80704647460785, 728.1726987127807, 326.08618479049386, 465.6182516492718, 97.76497300554928, 2696.7666210866937, 166.08361019554923, 166.81229403971287, 96.08934877405503, 305.74864633116744, 365.76192624164935, 3532.2773169336374, 1173.3640314676393, 416.46896382955595, 3376.165210897295, 219.91978137921186, 338.89101804787293, 1137.4262619643614, 388.6441051198768, 1992.8256071025173, 164.9594242133358, 439.93662344834564, 318.0985470961378, 769.4875125759569, 1785.3306953045674, 312.46593968185846, 292.59811896720794, 233.30095346085415, 115.82702505393546, 90.61232601017926, 67.01499227343294, 42.82887495847206, 38.425709699736146, 37.79449528269691, 37.45228792960152, 36.60422419418251, 36.55197364928127, 34.0718788739693, 33.26073721716859, 32.87651029918858, 30.47905965659083, 28.987640393288043, 28.174481618658636, 28.112678508591756, 27.946177187084746, 27.68350296578464, 26.684737704602938, 26.483234257888952, 25.73306602488764, 25.04371731247387, 24.24163490637908, 24.153368264823833, 23.381734818601068, 23.33195144096886, 82.0894055078828, 55.1656205285383, 93.24986854394469, 163.50519616593246, 238.70335823428456, 174.01251794959603, 140.3860661632483, 876.2559819332423, 164.5147137960547, 301.81004194119583, 163.63033589284822, 134.9114882071177, 276.0468544853618, 628.7218979492415, 769.4875125759569, 3532.2773169336374, 204.01819052218707, 3376.165210897295, 1173.3640314676393, 177.75197667397, 1137.4262619643614, 1992.8256071025173, 430.5778681085936, 333.46938721756493, 456.94540467406006, 305.04180485931465, 388.6441051198768, 503.9727524240891, 494.8808985867682, 457.1137893985384, 156.46498451978385, 32.4187244275278, 28.912772701302146, 27.834154250091128, 26.94355844737479, 25.89399136819578, 24.14810484487132, 23.73915043547748, 21.47567319188306, 18.560267538982576, 17.817636420423554, 17.451422620383074, 13.462076005520737, 12.957391920702015, 12.789585873883848, 12.248864991139257, 11.858215815784316, 11.784181169454147, 11.728334959023488, 11.327250676322084, 11.254951470912346, 10.869774196203334, 10.528659988570617, 10.268351696403744, 9.268968984814817, 8.97791133451375, 8.851222585705369, 8.694595705251045, 98.64341545951903, 156.34948013791606, 230.56553252024264, 3376.165210897295, 2696.7666210866937, 338.89101804787293, 482.8870036341685, 1137.4262619643614, 464.52166344862565, 1173.3640314676393, 365.76192624164935, 219.91978137921186, 3532.2773169336374, 318.0985470961378, 628.7218979492415, 164.9594242133358, 1992.8256071025173, 1097.733686802445, 388.6441051198768, 503.9727524240891, 638.6485608757797, 225.62017427761734, 156.27117310880234, 305.74864633116744, 305.04180485931465, 140.3860661632483, 325.8362201298874, 323.84367828246826, 219.94033830254693, 91.82319969316772, 84.60633876121514, 60.511109300798154, 58.829720567602784, 57.59521539668287, 41.140966837643575, 39.23581256357227, 38.78680002571093, 34.1816613586353, 29.96894305576102, 28.076398913509944, 26.822142140699963, 26.43982527725994, 23.394792773366607, 20.936242549829874, 20.83046069652528, 19.2048693106692, 18.97104674373011, 18.800674627332928, 18.60560348928999, 18.561183135598682, 16.8835792648617, 15.425040360789435, 14.763323474383458, 14.158795360605739, 13.616828872855661, 12.602140530332473, 334.1103827891991, 638.6485608757797, 1097.733686802445, 295.46395503568874, 202.09202944026498, 430.5778681085936, 176.6907028562402, 503.9727524240891, 59.953245434808615, 288.82213649841145, 99.856433932388, 3376.165210897295, 3532.2773169336374, 628.7218979492415, 876.2559819332423, 769.4875125759569, 728.1726987127807, 128.55084030561926, 416.46896382955595, 482.8870036341685, 263.0322257862408, 223.60296936747793, 58.7068711449182, 47.28885169295705, 45.88062277819027, 41.88370928507748, 36.31557987783173, 35.789757617654146, 34.088732667639036, 32.22826676619065, 29.988336109513966, 28.475006046053014, 26.65784549220024, 23.741459511247953, 23.716431005850403, 23.265746608603905, 22.200799331929304, 20.859529161888307, 16.85220098813776, 16.5000785587154, 16.11103303895272, 15.808209124491768, 15.650243033977578, 15.665049184883452, 15.040768918716962, 14.946259549881399, 14.555203694435933, 14.239166596129312, 14.025153746923419, 13.645333741591491, 652.371077863681, 456.94540467406006, 439.93662344834564, 61.85734898806412, 32.47761489709001, 333.46938721756493, 305.04180485931465, 160.6588423034597, 52.26889268590626, 124.61325385584446, 286.3109526728888, 33.757721753321405, 66.1109314740461, 142.83061377348616, 3532.2773169336374, 876.2559819332423, 128.55084030561926, 430.5778681085936, 112.78876776953942, 1137.4262619643614, 126.71689142526976, 388.6441051198768, 174.6809418219231, 326.08618479049386, 225.62017427761734, 157.97449786776545, 276.0468544853618, 60.87921426797016, 60.24090117640332, 57.68792237077111, 57.06182080867839, 43.03114645424042, 42.36099988341474, 41.662483935522225, 41.42758403320055, 39.56330011538133, 36.985704924503175, 34.32853637022242, 31.964263949588407, 28.907166087480327, 28.183730612521853, 27.389033515439444, 24.92754724670946, 24.699182171125997, 24.5032136626274, 23.76877377797, 23.121739052720997, 22.132806119675436, 21.482673944892138, 20.405796328338084, 19.682386440745844, 18.000150200163418, 17.864442990765504, 16.128182390601527, 16.05203173900554, 15.6516407425461, 14.896858213807871, 1992.8256071025173, 126.71689142526976, 318.0985470961378, 135.1601510706316, 62.19755606650974, 99.856433932388, 295.46395503568874, 48.37700580099749, 130.66998709139588, 416.46896382955595, 3532.2773169336374, 174.01251794959603, 204.01819052218707, 305.74864633116744, 47.69584184977538, 482.8870036341685, 156.27117310880234, 118.79883874350386, 107.32425079736234, 104.43811072012365, 845.057300216072, 309.3966166986815, 122.82946180651282, 113.83194274574473, 90.43063259300133, 66.36182803937385, 59.68353098485437, 53.22347322820797, 50.155583850392965, 36.28606660383644, 33.69043886263418, 29.691541307092507, 29.107358429053274, 27.793842430759696, 26.46514817893205, 24.21895537086955, 22.111379594117654, 21.310244622064456, 20.9053748609466, 17.60982212951218, 16.277176245648857, 15.700206693144004, 12.071469926437256, 11.294043782666627, 10.539759136475396, 10.127163893695544, 9.076405876786463, 8.796636759101867, 8.786628715002495, 8.747426110611332, 68.55622524944415, 28.451772378143993, 34.08797159292886, 71.85170382257186, 769.4875125759569, 1097.733686802445, 464.52166344862565, 482.8870036341685, 174.6809418219231, 503.9727524240891], \"Category\": [\"Default\", \"Default\", \"Default\", \"Default\", \"Default\", \"Default\", \"Default\", \"Default\", \"Default\", \"Default\", \"Default\", \"Default\", \"Default\", \"Default\", \"Default\", \"Default\", \"Default\", \"Default\", \"Default\", \"Default\", \"Default\", \"Default\", \"Default\", \"Default\", \"Default\", \"Default\", \"Default\", \"Default\", \"Default\", \"Default\", \"Topic1\", \"Topic1\", \"Topic1\", \"Topic1\", \"Topic1\", \"Topic1\", \"Topic1\", \"Topic1\", \"Topic1\", \"Topic1\", \"Topic1\", \"Topic1\", \"Topic1\", \"Topic1\", \"Topic1\", \"Topic1\", \"Topic1\", \"Topic1\", \"Topic1\", \"Topic1\", \"Topic1\", \"Topic1\", \"Topic1\", \"Topic1\", \"Topic1\", \"Topic1\", \"Topic1\", \"Topic1\", \"Topic1\", \"Topic1\", \"Topic1\", \"Topic1\", \"Topic1\", \"Topic1\", \"Topic1\", \"Topic1\", \"Topic1\", \"Topic1\", \"Topic1\", \"Topic1\", \"Topic1\", \"Topic1\", \"Topic1\", \"Topic1\", \"Topic1\", \"Topic1\", \"Topic1\", \"Topic1\", \"Topic1\", \"Topic1\", \"Topic1\", \"Topic1\", \"Topic1\", \"Topic2\", \"Topic2\", \"Topic2\", \"Topic2\", \"Topic2\", \"Topic2\", \"Topic2\", \"Topic2\", \"Topic2\", \"Topic2\", \"Topic2\", \"Topic2\", \"Topic2\", \"Topic2\", \"Topic2\", \"Topic2\", \"Topic2\", \"Topic2\", \"Topic2\", \"Topic2\", \"Topic2\", \"Topic2\", \"Topic2\", \"Topic2\", \"Topic2\", \"Topic2\", \"Topic2\", \"Topic2\", \"Topic2\", \"Topic2\", \"Topic2\", \"Topic2\", \"Topic2\", \"Topic2\", \"Topic2\", \"Topic2\", \"Topic2\", \"Topic2\", \"Topic2\", \"Topic2\", \"Topic2\", \"Topic2\", \"Topic2\", \"Topic2\", \"Topic2\", \"Topic2\", \"Topic2\", \"Topic2\", \"Topic2\", \"Topic2\", \"Topic2\", \"Topic2\", \"Topic2\", \"Topic2\", \"Topic2\", \"Topic2\", \"Topic2\", \"Topic2\", \"Topic3\", \"Topic3\", \"Topic3\", \"Topic3\", \"Topic3\", \"Topic3\", \"Topic3\", \"Topic3\", \"Topic3\", \"Topic3\", \"Topic3\", \"Topic3\", \"Topic3\", \"Topic3\", \"Topic3\", \"Topic3\", \"Topic3\", \"Topic3\", \"Topic3\", \"Topic3\", \"Topic3\", \"Topic3\", \"Topic3\", \"Topic3\", \"Topic3\", \"Topic3\", \"Topic3\", \"Topic3\", \"Topic3\", \"Topic3\", \"Topic3\", \"Topic3\", \"Topic3\", \"Topic3\", \"Topic3\", \"Topic3\", \"Topic3\", \"Topic3\", \"Topic3\", \"Topic3\", \"Topic3\", \"Topic3\", \"Topic3\", \"Topic3\", \"Topic3\", \"Topic3\", \"Topic3\", \"Topic3\", \"Topic3\", \"Topic3\", \"Topic3\", \"Topic3\", \"Topic3\", \"Topic3\", \"Topic3\", \"Topic3\", \"Topic4\", \"Topic4\", \"Topic4\", \"Topic4\", \"Topic4\", \"Topic4\", \"Topic4\", \"Topic4\", \"Topic4\", \"Topic4\", \"Topic4\", \"Topic4\", \"Topic4\", \"Topic4\", \"Topic4\", \"Topic4\", \"Topic4\", \"Topic4\", \"Topic4\", \"Topic4\", \"Topic4\", \"Topic4\", \"Topic4\", \"Topic4\", \"Topic4\", \"Topic4\", \"Topic4\", \"Topic4\", \"Topic4\", \"Topic4\", \"Topic4\", \"Topic4\", \"Topic4\", \"Topic4\", \"Topic4\", \"Topic4\", \"Topic4\", \"Topic4\", \"Topic4\", \"Topic4\", \"Topic4\", \"Topic4\", \"Topic4\", \"Topic4\", \"Topic4\", \"Topic4\", \"Topic4\", \"Topic4\", \"Topic4\", \"Topic4\", \"Topic5\", \"Topic5\", \"Topic5\", \"Topic5\", \"Topic5\", \"Topic5\", \"Topic5\", \"Topic5\", \"Topic5\", \"Topic5\", \"Topic5\", \"Topic5\", \"Topic5\", \"Topic5\", \"Topic5\", \"Topic5\", \"Topic5\", \"Topic5\", \"Topic5\", \"Topic5\", \"Topic5\", \"Topic5\", \"Topic5\", \"Topic5\", \"Topic5\", \"Topic5\", \"Topic5\", \"Topic5\", \"Topic5\", \"Topic5\", \"Topic5\", \"Topic5\", \"Topic5\", \"Topic5\", \"Topic5\", \"Topic5\", \"Topic5\", \"Topic5\", \"Topic5\", \"Topic5\", \"Topic5\", \"Topic5\", \"Topic5\", \"Topic5\", \"Topic5\", \"Topic5\", \"Topic5\", \"Topic5\", \"Topic5\", \"Topic5\", \"Topic5\", \"Topic5\", \"Topic5\", \"Topic5\", \"Topic5\", \"Topic5\", \"Topic5\", \"Topic6\", \"Topic6\", \"Topic6\", \"Topic6\", \"Topic6\", \"Topic6\", \"Topic6\", \"Topic6\", \"Topic6\", \"Topic6\", \"Topic6\", \"Topic6\", \"Topic6\", \"Topic6\", \"Topic6\", \"Topic6\", \"Topic6\", \"Topic6\", \"Topic6\", \"Topic6\", \"Topic6\", \"Topic6\", \"Topic6\", \"Topic6\", \"Topic6\", \"Topic6\", \"Topic6\", \"Topic6\", \"Topic6\", \"Topic6\", \"Topic6\", \"Topic6\", \"Topic6\", \"Topic6\", \"Topic6\", \"Topic6\", \"Topic6\", \"Topic6\", \"Topic6\", \"Topic6\", \"Topic6\", \"Topic6\", \"Topic6\", \"Topic6\", \"Topic6\", \"Topic6\", \"Topic6\", \"Topic6\", \"Topic6\", \"Topic6\", \"Topic7\", \"Topic7\", \"Topic7\", \"Topic7\", \"Topic7\", \"Topic7\", \"Topic7\", \"Topic7\", \"Topic7\", \"Topic7\", \"Topic7\", \"Topic7\", \"Topic7\", \"Topic7\", \"Topic7\", \"Topic7\", \"Topic7\", \"Topic7\", \"Topic7\", \"Topic7\", \"Topic7\", \"Topic7\", \"Topic7\", \"Topic7\", \"Topic7\", \"Topic7\", \"Topic7\", \"Topic7\", \"Topic7\", \"Topic7\", \"Topic7\", \"Topic7\", \"Topic7\", \"Topic7\", \"Topic7\", \"Topic7\", \"Topic7\", \"Topic7\", \"Topic7\", \"Topic7\"], \"logprob\": [30.0, 29.0, 28.0, 27.0, 26.0, 25.0, 24.0, 23.0, 22.0, 21.0, 20.0, 19.0, 18.0, 17.0, 16.0, 15.0, 14.0, 13.0, 12.0, 11.0, 10.0, 9.0, 8.0, 7.0, 6.0, 5.0, 4.0, 3.0, 2.0, 1.0, -4.4433, -4.4735, -4.7154, -4.7388, -4.8129, -4.9388, -5.0202, -5.0301, -5.111, -5.1284, -5.1683, -5.3197, -5.3413, -5.3697, -5.4036, -5.5146, -5.604, -5.6529, -5.724, -5.8406, -5.8985, -5.9573, -5.9631, -5.9826, -6.132, -6.1891, -6.2135, -6.2175, -6.2456, -6.2484, -3.3859, -4.191, -3.8724, -5.3483, -2.4333, -4.9137, -4.9366, -5.4175, -4.5092, -4.4713, -2.89, -3.7727, -4.5141, -3.3695, -4.9414, -4.7433, -4.1352, -4.8201, -4.3036, -5.1771, -4.9588, -5.12, -5.0662, -2.1352, -3.8803, -3.9462, -4.1734, -4.8774, -5.125, -5.43, -5.8851, -5.9959, -6.0128, -6.0221, -6.0456, -6.047, -6.119, -6.1438, -6.1557, -6.2335, -6.2852, -6.3145, -6.3168, -6.3229, -6.3327, -6.3706, -6.3784, -6.4081, -6.4362, -6.4699, -6.4737, -6.5074, -6.5096, -5.2758, -5.7223, -5.2725, -4.7829, -4.4503, -4.7328, -4.9238, -3.3403, -4.793, -4.2753, -4.8391, -5.0085, -4.498, -3.871, -3.7273, -2.6035, -4.8652, -3.0729, -3.7845, -5.0287, -3.8937, -3.6603, -4.6796, -4.884, -4.7811, -5.0378, -5.079, -5.0865, -2.9354, -3.0149, -4.0907, -5.6864, -5.8041, -5.8434, -5.877, -5.9181, -5.9903, -6.008, -6.1124, -6.2648, -6.3076, -6.3295, -6.6047, -6.6459, -6.6596, -6.7062, -6.7409, -6.7479, -6.7531, -6.7905, -6.7975, -6.8354, -6.87, -6.8975, -7.0108, -7.0449, -7.0607, -7.0805, -4.7515, -4.4559, -4.1359, -1.8229, -2.1683, -3.9666, -3.7264, -3.0375, -3.799, -3.141, -4.1115, -4.68, -2.8668, -4.5372, -4.1494, -5.056, -3.5811, -3.9363, -4.6018, -4.5653, -4.5029, -5.2438, -5.4042, -5.2482, -5.3436, -5.7402, -3.1513, -3.1575, -3.5456, -4.4247, -4.5073, -4.8467, -4.8752, -4.8968, -5.2394, -5.2878, -5.2996, -5.4291, -5.5643, -5.6315, -5.6787, -5.6936, -5.8203, -5.936, -5.9412, -6.0262, -6.039, -6.0486, -6.0594, -6.0619, -6.1618, -6.2572, -6.3037, -6.348, -6.3897, -6.4725, -3.2257, -2.653, -2.2464, -3.5256, -4.0903, -3.588, -4.3215, -3.6371, -5.2012, -4.1072, -4.9072, -2.6541, -2.975, -3.9955, -3.8423, -3.9939, -4.3517, -5.0653, -4.7863, -4.9077, -3.2722, -3.4351, -4.7833, -5.0031, -5.0339, -5.1269, -5.2727, -5.2877, -5.3376, -5.3952, -5.4692, -5.5226, -5.5906, -5.7105, -5.7116, -5.7316, -5.7802, -5.8451, -6.0686, -6.0909, -6.1161, -6.1362, -6.1467, -6.1459, -6.1887, -6.1957, -6.2237, -6.2469, -6.2631, -6.2922, -2.5165, -3.0432, -3.109, -4.9713, -5.5368, -3.6532, -3.8346, -4.3457, -5.217, -4.6507, -4.0843, -5.612, -5.1928, -4.7266, -2.9628, -3.8541, -4.9642, -4.4603, -5.0586, -4.389, -5.0952, -4.912, -5.0894, -5.0584, -5.1504, -5.1952, -5.1784, -4.5473, -4.558, -4.602, -4.613, -4.9002, -4.9162, -4.9332, -4.9389, -4.986, -5.0549, -5.1313, -5.2046, -5.308, -5.3341, -5.3636, -5.461, -5.4705, -5.4787, -5.5103, -5.539, -5.5843, -5.6154, -5.669, -5.7068, -5.8003, -5.8082, -5.9159, -5.9209, -5.9477, -5.9999, -1.6451, -4.4402, -3.971, -4.5638, -5.0552, -4.881, -4.376, -5.2699, -4.8407, -4.4932, -3.967, -4.9421, -4.9391, -4.8611, -5.31, -4.7775, -5.0782, -5.1758, -5.1897, -5.2614, -1.5419, -2.5485, -3.4765, -3.5532, -3.7853, -4.0982, -4.2058, -4.3221, -4.3825, -4.7129, -4.7889, -4.9189, -4.9392, -4.9869, -5.0375, -5.1293, -5.2238, -5.2623, -5.2824, -5.4619, -5.5448, -5.583, -5.8633, -5.9352, -6.0102, -6.0539, -6.1745, -6.209, -6.2102, -6.2149, -4.3134, -5.2246, -5.1896, -4.6793, -3.2785, -3.5587, -4.1224, -4.2043, -4.7629, -4.4485], \"loglift\": [30.0, 29.0, 28.0, 27.0, 26.0, 25.0, 24.0, 23.0, 22.0, 21.0, 20.0, 19.0, 18.0, 17.0, 16.0, 15.0, 14.0, 13.0, 12.0, 11.0, 10.0, 9.0, 8.0, 7.0, 6.0, 5.0, 4.0, 3.0, 2.0, 1.0, 1.2793, 1.2792, 1.2781, 1.278, 1.2776, 1.2769, 1.2763, 1.2763, 1.2757, 1.2756, 1.2753, 1.274, 1.2738, 1.2735, 1.2732, 1.272, 1.271, 1.2704, 1.2694, 1.2677, 1.2668, 1.2658, 1.2657, 1.2654, 1.2625, 1.2614, 1.2608, 1.2607, 1.2601, 1.26, 1.1378, 1.136, 1.0984, 1.1833, 0.781, 1.088, 1.0607, 1.1314, 0.8822, 0.7408, 0.0545, 0.2739, 0.5682, -0.3799, 0.7795, 0.5452, -0.0575, 0.3314, -0.7868, 0.8313, 0.0687, 0.2318, -0.5978, 1.4916, 1.4893, 1.4891, 1.4884, 1.4847, 1.4826, 1.4792, 1.4719, 1.4696, 1.4692, 1.469, 1.4684, 1.4684, 1.4667, 1.466, 1.4657, 1.4636, 1.4621, 1.4612, 1.4612, 1.461, 1.4606, 1.4595, 1.4592, 1.4583, 1.4573, 1.4562, 1.456, 1.4548, 1.4547, 1.4306, 1.3815, 1.3064, 1.2344, 1.1887, 1.2222, 1.246, 0.9982, 1.2182, 1.1291, 1.1775, 1.201, 0.9955, 0.7995, 0.7411, 0.3409, 0.9308, -0.0832, 0.262, 0.9051, 0.184, -0.1435, 0.3694, 0.4206, 0.2085, 0.3559, 0.0725, -0.1948, 1.9744, 1.9743, 1.9706, 1.9491, 1.9458, 1.9445, 1.9434, 1.942, 1.9396, 1.939, 1.9348, 1.9283, 1.9263, 1.9253, 1.9096, 1.9066, 1.906, 1.9026, 1.9003, 1.8995, 1.8991, 1.8965, 1.8959, 1.8927, 1.8901, 1.8876, 1.8767, 1.8745, 1.8729, 1.871, 1.7711, 1.6061, 1.5378, 1.1668, 1.0461, 1.3219, 1.208, 1.0402, 1.1741, 0.9055, 1.1007, 1.0409, 0.0777, 0.8146, 0.5211, 0.9524, -0.0643, 0.1769, 0.5497, 0.3263, 0.1519, 0.4516, 0.6584, 0.1432, 0.0501, 0.4296, 2.1765, 2.1764, 2.1752, 2.1696, 2.1688, 2.1647, 2.1643, 2.1639, 2.1578, 2.1567, 2.1565, 2.1534, 2.1497, 2.1477, 2.1462, 2.1457, 2.1413, 2.1367, 2.1366, 2.1328, 2.1322, 2.1316, 2.1313, 2.1312, 2.1261, 2.121, 2.1183, 2.1158, 2.1132, 2.1078, 2.077, 2.0018, 1.8667, 1.9, 1.7151, 1.461, 1.6183, 1.2546, 1.8194, 1.3411, 1.6032, 0.3356, -0.0306, 0.675, 0.4962, 0.4746, 0.1719, 1.1925, 0.2961, 0.0267, 2.2697, 2.2692, 2.2583, 2.2548, 2.2542, 2.2524, 2.2492, 2.2488, 2.2476, 2.2461, 2.2441, 2.2426, 2.2405, 2.2364, 2.2364, 2.2356, 2.2338, 2.2312, 2.2211, 2.2199, 2.2186, 2.2174, 2.2169, 2.2168, 2.2147, 2.214, 2.2125, 2.2112, 2.2102, 2.2086, 2.117, 1.9464, 1.9185, 2.018, 2.0968, 1.6514, 1.5592, 1.6892, 1.9408, 1.6382, 1.3728, 1.983, 1.73, 1.4259, -0.0184, 0.4844, 1.2936, 0.5888, 1.3301, -0.3114, 1.177, 0.2395, 0.8618, 0.2686, 0.5449, 0.8565, 0.3151, 2.4579, 2.4578, 2.4572, 2.457, 2.452, 2.4517, 2.4513, 2.4513, 2.4502, 2.4487, 2.4469, 2.445, 2.4421, 2.4413, 2.4404, 2.4372, 2.4369, 2.4366, 2.4355, 2.4344, 2.4328, 2.4316, 2.4293, 2.4277, 2.4234, 2.4231, 2.4177, 2.4174, 2.4159, 2.4131, 1.8718, 1.832, 1.3808, 1.6439, 1.9287, 1.6294, 1.0496, 1.9652, 1.4008, 0.5892, -1.0225, 1.013, 0.8569, 0.5303, 1.9394, 0.1568, 0.9844, 1.1609, 1.2486, 1.2041, 2.8328, 2.8311, 2.8268, 2.8263, 2.8243, 2.8208, 2.8193, 2.8176, 2.8166, 2.8099, 2.808, 2.8044, 2.8039, 2.8024, 2.8008, 2.7977, 2.7942, 2.7926, 2.7918, 2.7838, 2.7796, 2.7775, 2.76, 2.7546, 2.7488, 2.745, 2.734, 2.7308, 2.7307, 2.7305, 2.5731, 2.5414, 2.3956, 2.1603, 1.19, 0.5545, 0.8508, 0.7301, 1.1883, 0.4432]}, \"token.table\": {\"Topic\": [4, 5, 4, 2, 4, 5, 1, 2, 1, 6, 1, 2, 4, 5, 3, 1, 3, 7, 7, 3, 3, 1, 3, 5, 1, 3, 6, 7, 1, 3, 7, 6, 2, 5, 6, 5, 5, 7, 1, 2, 5, 1, 2, 5, 1, 4, 4, 2, 2, 2, 2, 7, 7, 2, 5, 6, 3, 4, 1, 6, 1, 2, 3, 3, 1, 5, 6, 1, 1, 4, 1, 2, 5, 2, 5, 7, 7, 1, 2, 5, 7, 6, 5, 6, 1, 1, 4, 2, 6, 7, 1, 3, 4, 4, 1, 2, 5, 3, 2, 2, 5, 2, 6, 7, 4, 1, 2, 3, 5, 6, 2, 1, 5, 6, 6, 3, 4, 3, 4, 4, 2, 3, 7, 1, 4, 1, 2, 3, 4, 7, 5, 6, 4, 6, 1, 2, 6, 6, 6, 3, 5, 7, 2, 2, 5, 6, 1, 2, 4, 1, 2, 5, 6, 7, 2, 5, 4, 6, 4, 7, 3, 5, 2, 1, 1, 1, 1, 2, 4, 1, 2, 3, 4, 3, 1, 2, 4, 7, 3, 1, 2, 5, 7, 5, 1, 2, 3, 5, 2, 4, 4, 6, 1, 1, 1, 5, 6, 6, 7, 7, 1, 1, 3, 5, 1, 2, 2, 2, 3, 1, 3, 5, 6, 3, 5, 1, 2, 1, 2, 2, 5, 1, 3, 3, 1, 2, 5, 7, 2, 1, 3, 3, 1, 3, 5, 1, 5, 2, 3, 4, 5, 6, 7, 4, 2, 1, 3, 4, 1, 6, 1, 2, 3, 6, 5, 1, 2, 3, 4, 1, 1, 5, 4, 5, 7, 1, 2, 3, 6, 6, 6, 6, 5, 5, 7, 7, 1, 2, 3, 5, 4, 1, 2, 3, 4, 5, 6, 4, 1, 2, 1, 2, 5, 1, 3, 6, 2, 2, 5, 2, 1, 2, 3, 4, 7, 5, 1, 3, 6, 4, 6, 6, 1, 2, 3, 4, 7, 7, 5, 1, 1, 5, 6, 1, 2, 3, 7, 4, 4, 2, 3, 7, 7, 7, 5, 6, 3, 4, 1, 2, 1, 4, 5, 2, 7, 3, 1, 5, 6, 5, 4, 7, 2, 4, 6, 7, 3, 6, 5, 2, 5, 4, 5, 2, 4, 1, 5, 7, 5, 6, 2, 3, 3, 1, 2, 5, 7, 1, 7, 2, 6, 6, 5, 6, 6, 1, 3, 4, 7, 6, 2, 4, 1, 2, 3, 5, 6, 6, 7, 1, 2, 4, 6, 2, 3, 5, 7, 6, 2, 3, 1, 1, 5, 1, 2, 5, 5, 3, 3, 2, 1, 2, 2, 6, 2, 6, 1, 1, 2, 1, 3, 1, 2, 5, 7, 1, 2, 1, 5, 6, 6, 5, 5, 4, 1, 2, 4, 1], \"Freq\": [0.9722668929452674, 0.9129747806682619, 0.9685029445593888, 0.3251444404585407, 0.48771666068781105, 0.18579682311916612, 0.30151415577394963, 0.6958018979398838, 0.6988168977914099, 0.29816187639100156, 0.036519008896692386, 0.6105521799915758, 0.18601870156752684, 0.16775919711918066, 0.9778506039073622, 0.636520165493591, 0.3576637120392559, 0.9094384841709432, 0.9987488419829026, 0.9970281879922784, 0.9649801844393451, 0.47802978353682807, 0.5193409993980355, 0.9696923528614803, 0.34894846585530886, 0.314367987257035, 0.3363737463650275, 0.9653703413341022, 0.6051691634118367, 0.39454656242046215, 0.949737211584332, 0.9855580549364492, 0.4270793101592308, 0.4270793101592308, 0.14002600333089535, 0.9527066355567039, 0.7759789384000597, 0.2101609624833495, 0.11995104058503235, 0.3418604656673422, 0.5367809066180198, 0.12222672459156235, 0.727249011319796, 0.14667206950987483, 0.28355429095969953, 0.7005458953121989, 0.9476663537393035, 0.9848542506833159, 0.9806468192480946, 0.9944237113412722, 0.9842823347574229, 0.9767091475669767, 0.9645575637095792, 0.5105054962830146, 0.04439178228547952, 0.436519192473882, 0.9688636525773542, 0.9831247586934794, 0.9001178775450078, 0.09205751020346671, 0.36476318390692375, 0.29232189738335246, 0.34260467273500783, 0.9656757245070343, 0.8637793996831701, 0.1352907493479664, 0.9698330626004975, 0.9936464574438484, 0.4244705510115142, 0.5716203420288392, 0.11549118958170443, 0.7598104577743713, 0.1215696732438994, 0.9733393145679998, 0.24603036700016767, 0.738091101000503, 0.9945476480973495, 0.24995756654658396, 0.6085923359395088, 0.1412803637002431, 0.9496693663205761, 0.9344611475911077, 0.9687694216567995, 0.989678760102016, 0.9780735877526981, 0.8651793744995872, 0.13458345825549134, 0.7643128297156437, 0.22986852021523121, 0.9215357610942951, 0.9929059210510458, 0.876479523305775, 0.9697657670042389, 0.9973947977402469, 0.28640189707896113, 0.30386542738865385, 0.4051539031848718, 0.9382633744618604, 0.9620953315334869, 0.15395219186640458, 0.8313418360785847, 0.40194505348838366, 0.5788008770232725, 0.8854224573971776, 0.9654299612228537, 0.38595722416459316, 0.24186652714314502, 0.23929347898204775, 0.13122545621596166, 0.988075105802048, 0.971512682391649, 0.9962481501425133, 0.9727451260325485, 0.985762054385288, 0.9612993587639572, 0.9038299424217301, 0.9488142769954937, 0.8980423906996544, 0.9676684274798021, 0.9601323893588293, 0.9685406584728087, 0.8884978336729676, 0.8886989580175318, 0.9831207279286469, 0.9724447812875816, 0.13492792948214496, 0.18453378590940414, 0.19247072293776563, 0.39684685141807347, 0.0912747758261569, 0.9494308791630468, 0.9813917468172186, 0.9482959595305259, 0.9653300963884547, 0.23037161480406684, 0.5685767514313139, 0.20096247248865406, 0.9775319428982489, 0.9583659787964124, 0.9378995431518499, 0.9833184918280691, 0.9885474104233574, 0.975310098341622, 0.2571435558531478, 0.5747914777893892, 0.151260915207734, 0.36700787995376877, 0.19735329393740395, 0.43279231126623674, 0.19360458606551556, 0.3872091721310311, 0.15151663257301218, 0.26936290235202165, 0.9554014347180683, 0.9985088304909877, 0.9670426493185659, 0.7547451937853608, 0.2403000392769534, 0.9915534633771552, 0.9770125256019643, 0.9334547595477547, 0.9808062156774192, 0.9889212274005424, 0.9946310965082028, 0.9911188542328845, 0.9934232377367965, 0.994969594545602, 0.984898937207126, 0.9896655409206587, 0.18956418303650047, 0.20703963116017784, 0.44517963609978156, 0.15816761522108008, 0.9276269019626076, 0.15204925107663889, 0.47174254821213607, 0.18193927479255936, 0.1936353710292239, 0.9870838709751255, 0.3606575470850436, 0.20036530393613533, 0.24616308769296627, 0.19464058096653147, 0.9308034765814523, 0.04261710950076368, 0.32126744085191083, 0.14424252446412322, 0.48845763966259914, 0.3661698098878915, 0.6284265656184084, 0.9674504785808966, 0.9733490296719979, 0.9840848210270703, 0.9963839712767492, 0.5497001272917904, 0.39010976775546413, 0.05319678651210875, 0.3226944721545654, 0.6453889443091309, 0.9566917662577802, 0.997582637819947, 0.9833327781175724, 0.9261122974004984, 0.9584515695656698, 0.25973660554514577, 0.737316815741059, 0.97897854497714, 0.9992546505204514, 0.9541108370868802, 0.6704853887658985, 0.16026236121721477, 0.02616528346403506, 0.14390905905219284, 0.9741326177124484, 0.9575456688942148, 0.9859198629442709, 0.9834930473877237, 0.8032981068415661, 0.19782714571471402, 0.8257384294725647, 0.16085813561153858, 0.5823460144927071, 0.4155708648023074, 0.9684301221909085, 0.9918751993484064, 0.3485646927184043, 0.5601932561545784, 0.08714117317960107, 0.9979558345442577, 0.6047659704183935, 0.3910516801201642, 0.9698136065223288, 0.9835975186068708, 0.9524556957058616, 0.9455961319489391, 0.9901948627422292, 0.9879593115570188, 0.19259164007332882, 0.4638766384561898, 0.11596915961404745, 0.006212633550752542, 0.09940213681204067, 0.1221817931648, 0.9910349487284423, 0.9932423541350162, 0.9895703283494867, 0.9975634307597592, 0.9693483787988565, 0.6504936741177418, 0.34437900394468685, 0.12595181389953294, 0.1946984214861306, 0.12996621434254593, 0.5484674605266514, 0.948874086993219, 0.9899880555384863, 0.9928598265081024, 0.16127805855971233, 0.837706420674234, 0.9904243042172438, 0.9973536038646311, 0.9618553126365265, 0.9858962347670965, 0.9618885255263192, 0.9795063856113806, 0.2342067325056881, 0.12144052796591236, 0.6462370952471764, 0.951485524070518, 0.9716920922206339, 0.9397954789569941, 0.9516109743129214, 0.9459118874966674, 0.9973033928432007, 0.9145547385985182, 0.9104743422628765, 0.2619950057117084, 0.2699076065553506, 0.3921133306960468, 0.0756092969503588, 0.9928334121285355, 0.2927289981007531, 0.316226586923154, 0.1497617408078321, 0.1098441501577294, 0.10106794228430258, 0.030292072337311973, 0.9974336182467558, 0.9948805263019277, 0.9487808924119904, 0.9741996761380047, 0.26784573539999534, 0.707878014985702, 0.26223304333237213, 0.6907602117047852, 0.03837556731693251, 0.9879236235059478, 0.46544005717959797, 0.5296386857560942, 0.9583139936856608, 0.0429442653231394, 0.5010164287699597, 0.23380766675931453, 0.22267396834220432, 0.9487882854355344, 0.9310389944414799, 0.5055314964903795, 0.26876358041260684, 0.22396965034383903, 0.9522191861864131, 0.9444365636374336, 0.9579995058569029, 0.22017648884666377, 0.7706177109633232, 0.1657961326942077, 0.7315071129310373, 0.10202838935028166, 0.9987180961999085, 0.9753226309158135, 0.9697671676526896, 0.13415733142432404, 0.3314475246953888, 0.5287377179664535, 0.23249722994231117, 0.1808311788440198, 0.4477724428518586, 0.13777613626211033, 0.9616617887206327, 0.9797147476670058, 0.7835535463475857, 0.2136964217311597, 0.9926914824988715, 0.9385157399503599, 0.9952379787616938, 0.958794412126103, 0.9300490059401263, 0.8630949152064543, 0.9547009895905152, 0.9903624961048391, 0.9836738025829724, 0.24892875008768967, 0.3733931251315345, 0.3733931251315345, 0.9583241856849258, 0.9932470451769997, 0.8910758529376014, 0.29777016283205876, 0.7023738955351615, 0.9760372070184803, 0.9779334180999153, 0.9833650459998229, 0.9824241233872124, 0.9661428759736763, 0.5608051258661726, 0.4306182216472397, 0.9714381905727024, 0.8828267587388613, 0.9794010190390481, 0.968061802758875, 0.2779325466476445, 0.722186932234037, 0.9372623009728143, 0.963773678342534, 0.9604207579063766, 0.9574124523080206, 0.1440897722011554, 0.8553414137047309, 0.9112394817725825, 0.3927485731166983, 0.5994583484412763, 0.9380016766305601, 0.04872735982496416, 0.920111787965995, 0.28485610403818357, 0.4114588169440429, 0.2405451545211328, 0.05697122080763671, 0.4871144056155968, 0.5149495145079166, 0.9429129858966674, 0.985796011559877, 0.9914780131628554, 0.936689206639068, 0.9676561447741769, 0.9801136734970473, 0.18247543352132592, 0.8110019267614486, 0.995724575538056, 0.9619560657916668, 0.9686179515233345, 0.09577673023166665, 0.903892891561354, 0.38117158749367935, 0.11080569403886027, 0.21717916031616613, 0.17728911046217644, 0.11080569403886027, 0.9488177814620441, 0.8814061544405538, 0.48983241902147845, 0.20649798056787816, 0.1512717764625154, 0.1512717764625154, 0.9522481397965699, 0.919982312373413, 0.2187985109364174, 0.7730880719753415, 0.9840987892957247, 0.9659289138443733, 0.9700312701224468, 0.9951682275706593, 0.8617353727528777, 0.13493365267304847, 0.8311529855825084, 0.16751920639647455, 0.9697917867290541, 0.9789008829408447, 0.9497884831360778, 0.9982199786064005, 0.9817532007917422, 0.8248857297760702, 0.17461084790880319, 0.9743397251199203, 0.962790272242613, 0.39835757716245196, 0.587053271607824, 0.9752824176098654, 0.4388136855606755, 0.5569558316731651, 0.9715458334383827, 0.9654749491693342, 0.9753292719951319, 0.23698281710059074, 0.7405713034393461, 0.9769600159806751, 0.09063615984186017, 0.8882343664502297, 0.4021520468955327, 0.30640155953945347, 0.2776764133326297, 0.9794633606205334, 0.9269060599675566, 0.9960756679788747, 0.9552812522303586, 0.24460481785908408, 0.7486389879929544, 0.9181572068037741, 0.9803764283372026], \"Term\": [\"adapter\", \"adaptor\", \"affordable\", \"amazing\", \"amazing\", \"amazing\", \"android\", \"android\", \"app\", \"app\", \"apple\", \"apple\", \"apple\", \"apple\", \"aspect\", \"average\", \"average\", \"avg\", \"awesome\", \"awesomeread\", \"awsome\", \"backup\", \"backup\", \"backupread\", \"bad\", \"bad\", \"bad\", \"batter\", \"battery\", \"battery\", \"batteryread\", \"bbd\", \"beast\", \"beast\", \"beast\", \"beastread\", \"beautiful\", \"beautiful\", \"big\", \"big\", \"big\", \"bionic\", \"bionic\", \"bionic\", \"box\", \"box\", \"boy\", \"brand\", \"brilliant\", \"budget\", \"budgetread\", \"build\", \"button\", \"buy\", \"buy\", \"buy\", \"buyread\", \"cable\", \"call\", \"call\", \"camera\", \"camera\", \"camera\", \"cameraread\", \"capacity\", \"capacity\", \"care\", \"charge\", \"charger\", \"charger\", \"chip\", \"chip\", \"chip\", \"chipset\", \"color\", \"color\", \"colour\", \"compact\", \"compact\", \"compact\", \"complete\", \"consumption\", \"cool\", \"customer\", \"daily\", \"day\", \"day\", \"deal\", \"deal\", \"dealread\", \"decent\", \"defect\", \"defective\", \"delivery\", \"device\", \"device\", \"device\", \"deviceread\", \"difference\", \"difficult\", \"difficult\", \"disappointed\", \"disappointed\", \"disappointment\", \"discount\", \"display\", \"display\", \"display\", \"display\", \"don\", \"doubt\", \"drain\", \"drawback\", \"dream\", \"dual\", \"durability\", \"ear\", \"early\", \"earphone\", \"earpod\", \"ecosystem\", \"edge\", \"edition\", \"enough\", \"entry\", \"excellent\", \"excellent\", \"excellent\", \"excellent\", \"excellent\", \"excellentread\", \"exchange\", \"excited\", \"expectation\", \"experience\", \"experience\", \"experience\", \"experienceread\", \"extra\", \"extraordinary\", \"fabulous\", \"factor\", \"fan\", \"fantastic\", \"fantastic\", \"fantastic\", \"fast\", \"fast\", \"fast\", \"feature\", \"feature\", \"feature\", \"feature\", \"finger\", \"first\", \"fit\", \"flipkart\", \"flipkart\", \"flipkartread\", \"form\", \"fps\", \"friendly\", \"front\", \"full\", \"game\", \"gamer\", \"gaming\", \"generation\", \"genuine\", \"good\", \"good\", \"good\", \"good\", \"goodread\", \"great\", \"great\", \"great\", \"great\", \"gud\", \"hand\", \"hand\", \"hand\", \"hand\", \"handset\", \"handy\", \"handy\", \"handy\", \"handy\", \"happy\", \"happy\", \"headphone\", \"health\", \"heating\", \"heavy\", \"high\", \"high\", \"high\", \"home\", \"home\", \"hope\", \"hour\", \"hrs\", \"iam\", \"interface\", \"io\", \"io\", \"ios\", \"iphone\", \"iphoneread\", \"issue\", \"issue\", \"issue\", \"issue\", \"issueread\", \"kart\", \"lag\", \"large\", \"last\", \"last\", \"late\", \"late\", \"life\", \"life\", \"liferead\", \"light\", \"little\", \"little\", \"little\", \"love\", \"low\", \"low\", \"lowread\", \"mah\", \"mark\", \"matter\", \"medium\", \"mind\", \"mobile\", \"mobile\", \"mobile\", \"mobile\", \"mobile\", \"mobile\", \"mobileread\", \"model\", \"moderate\", \"money\", \"moneyread\", \"month\", \"month\", \"more\", \"more\", \"more\", \"more\", \"name\", \"need\", \"new\", \"nice\", \"nice\", \"night\", \"normal\", \"office\", \"oneread\", \"only\", \"original\", \"overall\", \"overall\", \"overall\", \"packaging\", \"packing\", \"parent\", \"pathetic\", \"penny\", \"perfect\", \"perfectread\", \"perfomance\", \"performance\", \"performance\", \"performance\", \"performance\", \"performanceread\", \"phone\", \"phone\", \"phone\", \"phone\", \"phone\", \"phone\", \"phoneread\", \"photo\", \"pixel\", \"play\", \"pocket\", \"pocket\", \"poor\", \"poor\", \"poor\", \"portrait\", \"powerful\", \"powerful\", \"previous\", \"price\", \"price\", \"price\", \"price\", \"print\", \"privacy\", \"problem\", \"problem\", \"problem\", \"problemread\", \"process\", \"processing\", \"processor\", \"processor\", \"product\", \"product\", \"product\", \"productread\", \"productsread\", \"pubg\", \"purchase\", \"purchase\", \"purchase\", \"quality\", \"quality\", \"quality\", \"quality\", \"qualityread\", \"quick\", \"range\", \"range\", \"read\", \"reasonable\", \"red\", \"regret\", \"replacement\", \"request\", \"return\", \"review\", \"right\", \"sale\", \"sale\", \"sale\", \"samsung\", \"satisfied\", \"satisfiedread\", \"screen\", \"screen\", \"second\", \"security\", \"seller\", \"sensor\", \"series\", \"service\", \"service\", \"sexy\", \"shot\", \"sim\", \"simple\", \"size\", \"size\", \"sizeread\", \"sleek\", \"slim\", \"slow\", \"small\", \"small\", \"smallread\", \"smart\", \"smart\", \"smartphone\", \"smartphone\", \"smartphoneread\", \"smooth\", \"smooth\", \"smooth\", \"smooth\", \"sound\", \"sound\", \"spec\", \"special\", \"star\", \"store\", \"stunning\", \"such\", \"super\", \"super\", \"superb\", \"superread\", \"team\", \"thank\", \"thank\", \"thing\", \"thing\", \"thing\", \"thing\", \"thing\", \"thought\", \"thumb\", \"time\", \"time\", \"time\", \"time\", \"tiny\", \"total\", \"touch\", \"touch\", \"true\", \"upgrade\", \"upto\", \"usage\", \"use\", \"use\", \"user\", \"user\", \"useread\", \"usual\", \"valuable\", \"value\", \"version\", \"video\", \"video\", \"want\", \"water\", \"way\", \"way\", \"weight\", \"well\", \"well\", \"whatsapp\", \"white\", \"whole\", \"wise\", \"wise\", \"wonderful\", \"word\", \"word\", \"work\", \"work\", \"work\", \"working\", \"worry\", \"worth\", \"worthy\", \"year\", \"year\", \"youread\", \"youtube\"]}, \"R\": 30, \"lambda.step\": 0.01, \"plot.opts\": {\"xlab\": \"PC1\", \"ylab\": \"PC2\"}, \"topic.order\": [6, 2, 7, 4, 3, 5, 1]};\n",
       "\n",
       "function LDAvis_load_lib(url, callback){\n",
       "  var s = document.createElement('script');\n",
       "  s.src = url;\n",
       "  s.async = true;\n",
       "  s.onreadystatechange = s.onload = callback;\n",
       "  s.onerror = function(){console.warn(\"failed to load library \" + url);};\n",
       "  document.getElementsByTagName(\"head\")[0].appendChild(s);\n",
       "}\n",
       "\n",
       "if(typeof(LDAvis) !== \"undefined\"){\n",
       "   // already loaded: just create the visualization\n",
       "   !function(LDAvis){\n",
       "       new LDAvis(\"#\" + \"ldavis_el1121215466635953606623987404\", ldavis_el1121215466635953606623987404_data);\n",
       "   }(LDAvis);\n",
       "}else if(typeof define === \"function\" && define.amd){\n",
       "   // require.js is available: use it to load d3/LDAvis\n",
       "   require.config({paths: {d3: \"https://d3js.org/d3.v5\"}});\n",
       "   require([\"d3\"], function(d3){\n",
       "      window.d3 = d3;\n",
       "      LDAvis_load_lib(\"https://cdn.jsdelivr.net/gh/bmabey/pyLDAvis@3.3.1/pyLDAvis/js/ldavis.v3.0.0.js\", function(){\n",
       "        new LDAvis(\"#\" + \"ldavis_el1121215466635953606623987404\", ldavis_el1121215466635953606623987404_data);\n",
       "      });\n",
       "    });\n",
       "}else{\n",
       "    // require.js not available: dynamically load d3 & LDAvis\n",
       "    LDAvis_load_lib(\"https://d3js.org/d3.v5.js\", function(){\n",
       "         LDAvis_load_lib(\"https://cdn.jsdelivr.net/gh/bmabey/pyLDAvis@3.3.1/pyLDAvis/js/ldavis.v3.0.0.js\", function(){\n",
       "                 new LDAvis(\"#\" + \"ldavis_el1121215466635953606623987404\", ldavis_el1121215466635953606623987404_data);\n",
       "            })\n",
       "         });\n",
       "}\n",
       "</script>"
      ],
      "text/plain": [
       "PreparedData(topic_coordinates=              x         y  topics  cluster       Freq\n",
       "topic                                                \n",
       "5      0.177355 -0.007625       1        1  27.715487\n",
       "1      0.117582 -0.039587       2        1  22.490692\n",
       "6      0.158774  0.156664       3        1  13.859671\n",
       "3     -0.023474  0.214391       4        1  11.313964\n",
       "2     -0.019858 -0.246922       5        1  10.300568\n",
       "4     -0.062930 -0.159793       6        1   8.441080\n",
       "0     -0.347448  0.082872       7        1   5.878538, topic_info=          Term         Freq        Total Category  logprob  loglift\n",
       "18        more  1992.000000  1992.000000  Default  30.0000  30.0000\n",
       "0      battery  2696.000000  2696.000000  Default  29.0000  29.0000\n",
       "60      iphone  1785.000000  1785.000000  Default  28.0000  28.0000\n",
       "161    awesome   845.000000   845.000000  Default  27.0000  27.0000\n",
       "11        good  3376.000000  3376.000000  Default  26.0000  26.0000\n",
       "..         ...          ...          ...      ...      ...      ...\n",
       "138    product   112.350557  1097.733687   Topic7  -3.5587   0.5545\n",
       "45     quality    63.940188   464.521663   Topic7  -4.1224   0.8508\n",
       "110     mobile    58.910963   482.887004   Topic7  -4.2043   0.7301\n",
       "231       hand    33.697686   174.680942   Topic7  -4.7629   1.1883\n",
       "72   excellent    46.146102   503.972752   Topic7  -4.4485   0.4432\n",
       "\n",
       "[394 rows x 6 columns], token_table=      Topic      Freq        Term\n",
       "term                             \n",
       "1114      4  0.972267     adapter\n",
       "1932      5  0.912975     adaptor\n",
       "286       4  0.968503  affordable\n",
       "116       2  0.325144     amazing\n",
       "116       4  0.487717     amazing\n",
       "...     ...       ...         ...\n",
       "746       4  0.955281      worthy\n",
       "188       1  0.244605        year\n",
       "188       2  0.748639        year\n",
       "993       4  0.918157     youread\n",
       "34        1  0.980376     youtube\n",
       "\n",
       "[448 rows x 3 columns], R=30, lambda_step=0.01, plot_opts={'xlab': 'PC1', 'ylab': 'PC2'}, topic_order=[6, 2, 7, 4, 3, 5, 1])"
      ]
     },
     "execution_count": 23,
     "metadata": {},
     "output_type": "execute_result"
    }
   ],
   "source": [
    "# Visualize the topics\n",
    "pyLDAvis.enable_notebook()\n",
    "vis = pyLDAvis.gensim_models.prepare(lda_model, doc_term_matrix, dictionary)\n",
    "vis"
   ]
  },
  {
   "cell_type": "code",
   "execution_count": 24,
   "metadata": {},
   "outputs": [
    {
     "name": "stdout",
     "output_type": "stream",
     "text": [
      "\n",
      "Perplexity:  -6.182700891818992\n",
      "\n",
      "Coherence Score:  0.5089086431568461\n"
     ]
    }
   ],
   "source": [
    "print('\\nPerplexity: ', lda_model.log_perplexity(doc_term_matrix,total_docs=10000))  # a measure of how good the model is. lower the better.\n",
    "\n",
    "# Compute Coherence Score\n",
    "from gensim.models.coherencemodel import CoherenceModel\n",
    "coherence_model_lda = CoherenceModel(model=lda_model, texts=reviews_2, dictionary=dictionary , coherence='c_v')\n",
    "coherence_lda = coherence_model_lda.get_coherence()\n",
    "print('\\nCoherence Score: ', coherence_lda)\n",
    "#perplexity lower\n",
    "#coherence higher great model"
   ]
  },
  {
   "cell_type": "code",
   "execution_count": 25,
   "metadata": {},
   "outputs": [],
   "source": [
    "def compute_coherence_values(dictionary, corpus, texts, limit, start=2, step=3):\n",
    "    \"\"\"\n",
    "    Compute c_v coherence for various number of topics\n",
    "\n",
    "    Parameters:\n",
    "    ----------\n",
    "    dictionary : Gensim dictionary\n",
    "    corpus : Gensim corpus\n",
    "    texts : List of input texts\n",
    "    limit : Max num of topics\n",
    "\n",
    "    Returns:\n",
    "    -------\n",
    "    model_list : List of LDA topic models\n",
    "    coherence_values : Coherence values corresponding to the LDA model with respective number of topics\n",
    "    \"\"\"\n",
    "    coherence_values = []\n",
    "    model_list = []\n",
    "    for num_topics in range(start, limit, step):\n",
    "        model = gensim.models.ldamodel.LdaModel(corpus=corpus, num_topics=num_topics, id2word=dictionary)\n",
    "        model_list.append(model)\n",
    "        coherencemodel = CoherenceModel(model=model, texts=texts, dictionary=dictionary, coherence='c_v')\n",
    "        coherence_values.append(coherencemodel.get_coherence())\n",
    "\n",
    "    return model_list, coherence_values\n"
   ]
  },
  {
   "cell_type": "code",
   "execution_count": 26,
   "metadata": {},
   "outputs": [],
   "source": [
    "model_list, coherence_values = compute_coherence_values(dictionary=dictionary, corpus=doc_term_matrix, texts=reviews_2, start=2, limit=50, step=1)\n"
   ]
  },
  {
   "cell_type": "code",
   "execution_count": 27,
   "metadata": {},
   "outputs": [
    {
     "data": {
      "image/png": "[encoded data removed]",
      "text/plain": [
       "<Figure size 432x288 with 1 Axes>"
      ]
     },
     "metadata": {
      "needs_background": "light"
     },
     "output_type": "display_data"
    }
   ],
   "source": [
    "# Show graph\n",
    "limit=50; start=2; step=1;\n",
    "x = range(start, limit, step)\n",
    "plt.plot(x, coherence_values)\n",
    "plt.xlabel(\"Num Topics\")\n",
    "plt.ylabel(\"Coherence score\")\n",
    "plt.legend((\"coherence_values\"), loc='best')\n",
    "plt.show()# Print the coherence scores"
   ]
  },
  {
   "cell_type": "code",
   "execution_count": 28,
   "metadata": {},
   "outputs": [
    {
     "name": "stdout",
     "output_type": "stream",
     "text": [
      "Num Topics = 2  has Coherence Value of 0.4475\n",
      "Num Topics = 3  has Coherence Value of 0.5312\n",
      "Num Topics = 4  has Coherence Value of 0.4999\n",
      "Num Topics = 5  has Coherence Value of 0.4945\n",
      "Num Topics = 6  has Coherence Value of 0.5129\n",
      "Num Topics = 7  has Coherence Value of 0.5181\n",
      "Num Topics = 8  has Coherence Value of 0.5006\n",
      "Num Topics = 9  has Coherence Value of 0.5048\n",
      "Num Topics = 10  has Coherence Value of 0.5092\n",
      "Num Topics = 11  has Coherence Value of 0.498\n",
      "Num Topics = 12  has Coherence Value of 0.5012\n",
      "Num Topics = 13  has Coherence Value of 0.5187\n",
      "Num Topics = 14  has Coherence Value of 0.518\n",
      "Num Topics = 15  has Coherence Value of 0.5252\n",
      "Num Topics = 16  has Coherence Value of 0.5272\n",
      "Num Topics = 17  has Coherence Value of 0.5102\n",
      "Num Topics = 18  has Coherence Value of 0.5052\n",
      "Num Topics = 19  has Coherence Value of 0.5193\n",
      "Num Topics = 20  has Coherence Value of 0.507\n",
      "Num Topics = 21  has Coherence Value of 0.5039\n",
      "Num Topics = 22  has Coherence Value of 0.5161\n",
      "Num Topics = 23  has Coherence Value of 0.5113\n",
      "Num Topics = 24  has Coherence Value of 0.4982\n",
      "Num Topics = 25  has Coherence Value of 0.494\n",
      "Num Topics = 26  has Coherence Value of 0.4937\n",
      "Num Topics = 27  has Coherence Value of 0.4831\n",
      "Num Topics = 28  has Coherence Value of 0.4895\n",
      "Num Topics = 29  has Coherence Value of 0.4638\n",
      "Num Topics = 30  has Coherence Value of 0.4936\n",
      "Num Topics = 31  has Coherence Value of 0.4792\n",
      "Num Topics = 32  has Coherence Value of 0.4863\n",
      "Num Topics = 33  has Coherence Value of 0.4886\n",
      "Num Topics = 34  has Coherence Value of 0.4941\n",
      "Num Topics = 35  has Coherence Value of 0.4946\n",
      "Num Topics = 36  has Coherence Value of 0.4952\n",
      "Num Topics = 37  has Coherence Value of 0.4807\n",
      "Num Topics = 38  has Coherence Value of 0.4803\n",
      "Num Topics = 39  has Coherence Value of 0.4743\n",
      "Num Topics = 40  has Coherence Value of 0.4866\n",
      "Num Topics = 41  has Coherence Value of 0.4838\n",
      "Num Topics = 42  has Coherence Value of 0.4716\n",
      "Num Topics = 43  has Coherence Value of 0.474\n",
      "Num Topics = 44  has Coherence Value of 0.4699\n",
      "Num Topics = 45  has Coherence Value of 0.4694\n",
      "Num Topics = 46  has Coherence Value of 0.4654\n",
      "Num Topics = 47  has Coherence Value of 0.4593\n",
      "Num Topics = 48  has Coherence Value of 0.4619\n",
      "Num Topics = 49  has Coherence Value of 0.467\n"
     ]
    }
   ],
   "source": [
    "# Print the coherence scores\n",
    "for m, cv in zip(x, coherence_values):\n",
    "    print(\"Num Topics =\", m, \" has Coherence Value of\", round(cv, 4))"
   ]
  },
  {
   "cell_type": "code",
   "execution_count": 29,
   "metadata": {},
   "outputs": [],
   "source": [
    "import os\n",
    "from gensim.models.wrappers import LdaMallet\n",
    "os.environ.update({'MALLET_HOME':r'C:/Users/kartik.sonaghela/Documents/mallet-2.0.8/'}) \n",
    "#You should update this path as per the path of Mallet directory on your system.\n",
    "mallet_path = r'C:/Users/kartik.sonaghela/Documents/mallet-2.0.8/bin/mallet' \n",
    "#You should update this path as per the path of Mallet directory on your system."
   ]
  },
  {
   "cell_type": "code",
   "execution_count": 30,
   "metadata": {},
   "outputs": [],
   "source": [
    "#mallet_path = r'C:\\Users\\kartik.sonaghela\\Documents\\mallet-2.0.8\\bin\\mallet' # update this path\n",
    "ldamallet = gensim.models.wrappers.LdaMallet(mallet_path, corpus=doc_term_matrix, num_topics=7, id2word=dictionary)"
   ]
  },
  {
   "cell_type": "code",
   "execution_count": 31,
   "metadata": {},
   "outputs": [
    {
     "name": "stdout",
     "output_type": "stream",
     "text": [
      "[(0, [('product', 0.14487300094073377), ('apple', 0.09454374412041393), ('excellent', 0.06044214487300094), ('money', 0.054915333960489185), ('bad', 0.04056914393226717), ('delivery', 0.03751175917215428), ('flipkart', 0.03598306679209784), ('superb', 0.028222013170272814), ('happy', 0.02645813734713076), ('poor', 0.020578551269990593)]), (1, [('camera', 0.15119453924914675), ('performance', 0.11353811149032993), ('battery', 0.08156996587030717), ('good', 0.07428896473265074), ('quality', 0.060409556313993175), ('display', 0.02696245733788396), ('low', 0.025597269624573378), ('video', 0.020136518771331057), ('fast', 0.018657565415244597), ('light', 0.016496018202502846)]), (2, [('phone', 0.21870960159830768), ('awesome', 0.08473381125866729), ('amazing', 0.054883064990010576), ('price', 0.03419908332353978), ('love', 0.03408156070043483), ('compact', 0.03396403807732989), ('worth', 0.031025972499706192), ('handy', 0.0307909272534963), ('perfect', 0.02609002232929839), ('problem', 0.019743800681631216)]), (3, [('battery', 0.23164939550949915), ('day', 0.08182210708117443), ('user', 0.04987046632124352), ('backup', 0.039075993091537135), ('life', 0.03626943005181347), ('time', 0.031411917098445596), ('hour', 0.0260146804835924), ('usage', 0.025690846286701208), ('average', 0.018998272884283247), ('charger', 0.018458549222797927)]), (4, [('iphone', 0.2151683482598345), ('great', 0.09171295771454484), ('device', 0.03468994445074255), ('budget', 0.028681555379208707), ('io', 0.027321165400748214), ('performance', 0.022106337149982995), ('chip', 0.019725654687677133), ('bionic', 0.01915882552998526), ('year', 0.017344972225371274), ('beast', 0.016664777236141026)]), (5, [('good', 0.35915151515151517), ('nice', 0.08375757575757575), ('mobile', 0.06412121212121212), ('price', 0.04727272727272727), ('phoneread', 0.039636363636363636), ('productread', 0.03903030303030303), ('issue', 0.03781818181818182), ('deal', 0.019515151515151517), ('awesomeread', 0.018545454545454546), ('read', 0.013454545454545455)]), (6, [('phone', 0.2111345705078342), ('small', 0.07689743304811646), ('size', 0.05367263029225469), ('screen', 0.05189465496166241), ('android', 0.03667074119346594), ('big', 0.036448494277141905), ('thing', 0.026558506500722303), ('display', 0.021446827425269474), ('processor', 0.019779975552839203), ('hand', 0.019779975552839203)])]\n",
      "\n",
      "Coherence Score:  0.5722011667895615\n"
     ]
    }
   ],
   "source": [
    "print(ldamallet.show_topics(formatted=False))\n",
    "\n",
    "# Compute Coherence Score\n",
    "coherence_model_ldamallet = CoherenceModel(model=ldamallet, texts=reviews_2, dictionary=dictionary, coherence='c_v')\n",
    "coherence_ldamallet = coherence_model_ldamallet.get_coherence()\n",
    "print('\\nCoherence Score: ', coherence_ldamallet)"
   ]
  },
  {
   "cell_type": "code",
   "execution_count": 54,
   "metadata": {},
   "outputs": [],
   "source": [
    "def compute_coherence_values(dictionary, corpus, texts, limit, start, step):\n",
    "    \"\"\"\n",
    "    Compute c_v coherence for various number of topics\n",
    "\n",
    "    Parameters:\n",
    "    ----------\n",
    "    dictionary : Gensim dictionary\n",
    "    corpus : Gensim corpus\n",
    "    texts : List of input texts\n",
    "    limit : Max num of topics\n",
    "\n",
    "    Returns:\n",
    "    -------\n",
    "    model_list : List of LDA topic models\n",
    "    coherence_values : Coherence values corresponding to the LDA model with respective number of topics\n",
    "    \"\"\"\n",
    "    coherence_values = []\n",
    "    model_list = []\n",
    "    for num_topics in range(start, limit, step):\n",
    "        print(num_topics)\n",
    "        model = gensim.models.wrappers.LdaMallet(mallet_path, corpus=corpus, num_topics=num_topics, id2word=dictionary)\n",
    "        model_list.append(model)\n",
    "        coherencemodel = CoherenceModel(model=model, texts=texts, dictionary=dictionary, coherence='c_v')\n",
    "        print(coherencemodel.get_coherence())\n",
    "        coherence_values.append(coherencemodel.get_coherence())\n",
    "\n",
    "    return model_list, coherence_values"
   ]
  },
  {
   "cell_type": "code",
   "execution_count": 63,
   "metadata": {},
   "outputs": [
    {
     "name": "stdout",
     "output_type": "stream",
     "text": [
      "3\n",
      "0.5518458058308731\n",
      "4\n",
      "0.5878076010933839\n",
      "5\n",
      "0.6076412746309307\n",
      "6\n",
      "0.5733705206431271\n",
      "7\n",
      "0.546070862255078\n",
      "8\n",
      "0.5542144073416286\n",
      "9\n",
      "0.5007584885652454\n",
      "10\n",
      "0.4988892888928665\n",
      "11\n",
      "0.5006196365924809\n",
      "12\n",
      "0.4658070693036152\n",
      "13\n",
      "0.4777103517554759\n",
      "14\n",
      "0.4799453124739078\n",
      "15\n",
      "0.45199753078372606\n",
      "16\n",
      "0.47087705573507843\n",
      "17\n",
      "0.46972324738131466\n",
      "18\n",
      "0.47843133710881985\n",
      "19\n",
      "0.4536002978449164\n"
     ]
    }
   ],
   "source": [
    "# Can take a long time to run.\n",
    "model_list, coherence_values = compute_coherence_values(dictionary, doc_term_matrix, reviews_2, 20, 3,1)"
   ]
  },
  {
   "cell_type": "code",
   "execution_count": 65,
   "metadata": {},
   "outputs": [
    {
     "data": {
      "image/png": "[encoded data removed]",
      "text/plain": [
       "<Figure size 432x288 with 1 Axes>"
      ]
     },
     "metadata": {
      "needs_background": "light"
     },
     "output_type": "display_data"
    }
   ],
   "source": [
    "# Show graph\n",
    "limit=20; start=3; step=1;\n",
    "x = range(start, limit, step)\n",
    "plt.plot(x, coherence_values)\n",
    "plt.xlabel(\"Num Topics\")\n",
    "plt.ylabel(\"Coherence score\")\n",
    "plt.legend((\"coherence_values\"), loc='best')\n",
    "plt.show()"
   ]
  },
  {
   "cell_type": "code",
   "execution_count": 66,
   "metadata": {},
   "outputs": [
    {
     "name": "stdout",
     "output_type": "stream",
     "text": [
      "Num Topics = 3  has Coherence Value of\n",
      "Num Topics = 4  has Coherence Value of\n",
      "Num Topics = 5  has Coherence Value of\n",
      "Num Topics = 6  has Coherence Value of\n",
      "Num Topics = 7  has Coherence Value of\n",
      "Num Topics = 8  has Coherence Value of\n",
      "Num Topics = 9  has Coherence Value of\n",
      "Num Topics = 10  has Coherence Value of\n",
      "Num Topics = 11  has Coherence Value of\n",
      "Num Topics = 12  has Coherence Value of\n",
      "Num Topics = 13  has Coherence Value of\n",
      "Num Topics = 14  has Coherence Value of\n",
      "Num Topics = 15  has Coherence Value of\n",
      "Num Topics = 16  has Coherence Value of\n",
      "Num Topics = 17  has Coherence Value of\n",
      "Num Topics = 18  has Coherence Value of\n",
      "Num Topics = 19  has Coherence Value of\n"
     ]
    }
   ],
   "source": [
    "for m, cv in zip(x, coherence_values):\n",
    "    print(\"Num Topics =\", m, \" has Coherence Value of\")"
   ]
  },
  {
   "cell_type": "code",
   "execution_count": 67,
   "metadata": {},
   "outputs": [
    {
     "name": "stdout",
     "output_type": "stream",
     "text": [
      "The 5 topics gives the highest coherence score \\\n",
      "of 0.6076412746309307\n"
     ]
    }
   ],
   "source": [
    "best_result_index = coherence_values.index(max(coherence_values))\n",
    "optimal_model = model_list[best_result_index]\n",
    "# Select the model and print the topics\n",
    "model_topics = optimal_model.show_topics(formatted=False)\n",
    "print(f'''The {x[best_result_index]} topics gives the highest coherence score \\\\\n",
    "of {coherence_values[best_result_index]}''')"
   ]
  },
  {
   "cell_type": "code",
   "execution_count": 68,
   "metadata": {},
   "outputs": [],
   "source": [
    "def convertldaGenToldaMallet(mallet_model):\n",
    "    model_gensim = LDA(\n",
    "        id2word=mallet_model.id2word, num_topics=mallet_model.num_topics,\n",
    "        alpha=mallet_model.alpha, eta=0,\n",
    "    )\n",
    "    model_gensim.state.sstats[...] = mallet_model.wordtopics\n",
    "    model_gensim.sync_state()\n",
    "    return model_gensim\n",
    "\n",
    "optimal_model = convertldaGenToldaMallet(optimal_model)"
   ]
  },
  {
   "cell_type": "code",
   "execution_count": 69,
   "metadata": {},
   "outputs": [
    {
     "data": {
      "text/html": [
       "\n",
       "<link rel=\"stylesheet\" type=\"text/css\" href=\"https://cdn.jsdelivr.net/gh/bmabey/pyLDAvis@3.3.1/pyLDAvis/js/ldavis.v1.0.0.css\">\n",
       "\n",
       "\n",
       "<div id=\"ldavis_el1121215466678907205065135843\"></div>\n",
       "<script type=\"text/javascript\">\n",
       "\n",
       "var ldavis_el1121215466678907205065135843_data = {\"mdsDat\": {\"x\": [0.2871955481321585, 0.27419465501295903, -0.09470718642601314, -0.25355008699095327, -0.21313292972815132], \"y\": [0.33961265315148725, -0.3244172136198865, -0.0980056592298792, 0.005295563170326047, 0.0775146565279524], \"topics\": [1, 2, 3, 4, 5], \"cluster\": [1, 1, 1, 1, 1], \"Freq\": [20.754853688495075, 20.51887929944132, 20.481464352721517, 19.380979602851596, 18.863823056490492]}, \"tinfo\": {\"Term\": [\"battery\", \"good\", \"iphone\", \"phone\", \"camera\", \"product\", \"performance\", \"apple\", \"awesome\", \"great\", \"day\", \"nice\", \"small\", \"price\", \"mobile\", \"excellent\", \"quality\", \"money\", \"amazing\", \"screen\", \"user\", \"time\", \"display\", \"life\", \"bad\", \"backup\", \"big\", \"productread\", \"android\", \"phoneread\", \"full\", \"hrs\", \"day\", \"hour\", \"power\", \"video\", \"youtube\", \"call\", \"people\", \"app\", \"normal\", \"amazed\", \"body\", \"week\", \"backup\", \"man\", \"casual\", \"nonsense\", \"ratio\", \"brightness\", \"min\", \"regular\", \"gamer\", \"view\", \"background\", \"close\", \"natural\", \"continuous\", \"issue\", \"sony\", \"battery\", \"screen\", \"time\", \"life\", \"user\", \"usage\", \"charge\", \"game\", \"drain\", \"review\", \"decent\", \"high\", \"gaming\", \"heavy\", \"moderate\", \"rest\", \"fine\", \"average\", \"perfect\", \"camera\", \"great\", \"photography\", \"stunning\", \"stable\", \"advantage\", \"compact\", \"speaker\", \"unbeatable\", \"capacity\", \"image\", \"easy\", \"durable\", \"sensor\", \"clean\", \"masterpiece\", \"series\", \"editing\", \"pure\", \"frame\", \"design\", \"processor\", \"sleek\", \"spend\", \"effect\", \"yesterday\", \"ppl\", \"impressive\", \"hesitate\", \"cool\", \"performance\", \"small\", \"quality\", \"display\", \"device\", \"handy\", \"bionic\", \"smooth\", \"beast\", \"light\", \"powerful\", \"premium\", \"super\", \"mode\", \"night\", \"red\", \"smartphone\", \"sound\", \"photo\", \"colour\", \"beautiful\", \"picture\", \"low\", \"size\", \"chip\", \"satisfied\", \"dayperformance\", \"music\", \"type\", \"palm\", \"wise\", \"android\", \"buyer\", \"enthusiast\", \"justice\", \"long\", \"fan\", \"io\", \"listen\", \"lot\", \"multitask\", \"amazing\", \"reason\", \"punchy\", \"dual\", \"esim\", \"range\", \"sim\", \"slot\", \"software\", \"feature\", \"main\", \"update\", \"wireless\", \"big\", \"feeljust\", \"iphone\", \"charger\", \"hand\", \"deal\", \"year\", \"sale\", \"model\", \"speed\", \"box\", \"brand\", \"con\", \"adapter\", \"option\", \"cheap\", \"bbd\", \"lag\", \"flagship\", \"choice\", \"part\", \"late\", \"pro\", \"experience\", \"single\", \"phone\", \"size\", \"condition\", \"disappointed\", \"excellent\", \"technical\", \"bad\", \"mobile\", \"poor\", \"positive\", \"doesn\", \"indoor\", \"ultra\", \"aluminum\", \"industry\", \"sharp\", \"aware\", \"care\", \"word\", \"bit\", \"fast\", \"tone\", \"ipod\", \"eye\", \"noticeable\", \"sooo\", \"problem\", \"don\", \"working\", \"flipkart\", \"waste\", \"buy\", \"productread\", \"delivery\", \"happy\", \"read\", \"service\", \"month\", \"flipkartread\", \"exchange\", \"offer\", \"guy\", \"heating\", \"customer\", \"buying\", \"home\", \"quick\", \"mobileread\", \"case\", \"simple\", \"thing\", \"purchase\", \"superb\", \"phone\", \"good\", \"easevery\", \"portrait\", \"classy\", \"apple\", \"nice\", \"grip\", \"sudden\", \"product\", \"rate\", \"love\", \"awesome\", \"pair\", \"white\", \"chargei\", \"reduction\", \"comment\", \"variant\", \"affordable\", \"ratesfirst\", \"bokeh\", \"explore\", \"beauty\", \"thought\", \"diff\", \"pls\", \"carry\", \"juice\", \"future\", \"boinic\", \"money\", \"worth\", \"awesomeread\", \"phoneread\", \"performanceread\", \"fantastic\", \"genuine\", \"oneread\", \"budget\", \"star\", \"usual\", \"smart\", \"true\", \"gud\", \"dream\", \"qualityread\", \"superread\", \"special\", \"poorread\", \"awsome\", \"price\", \"class\", \"good\", \"wonderful\", \"perfect\", \"friendly\", \"phone\"], \"Freq\": [3129.0, 3972.0, 2109.0, 4174.0, 1445.0, 1343.0, 1297.0, 1016.0, 940.0, 880.0, 827.0, 753.0, 752.0, 743.0, 585.0, 569.0, 577.0, 544.0, 520.0, 510.0, 504.0, 481.0, 467.0, 437.0, 381.0, 395.0, 372.0, 356.0, 366.0, 356.0, 137.61425216660362, 68.80712608330181, 827.8698497350033, 263.2145485048521, 155.08907577935176, 193.31525405385952, 51.33229922731127, 115.77071616418364, 191.1309043455084, 121.23159692154623, 185.67002358814582, 5.460882784389094, 38.22618151775016, 87.3741245502255, 395.36793288706275, 13.106119331182308, 12.013942044574947, 7.645236141387913, 6.553059665591154, 13.106119331182308, 31.673119419727204, 29.488766468133687, 86.28194969604995, 7.645236141387913, 12.013942044574947, 15.290472282775825, 5.460882784389094, 13.106119331182308, 340.7590993674976, 3.276529832795577, 3129.0858804549393, 510.04646771058606, 481.64988258311274, 437.96278463233347, 503.4934056125631, 259.9380174558406, 183.48566090682507, 141.98295158330586, 136.52207082594327, 129.9690087279203, 127.78465901956919, 125.60030931121808, 111.40201674748143, 184.57784224748545, 97.20371769725995, 90.65065559923698, 83.00541864703848, 180.20912985781362, 90.65065559923698, 1445.6544909643912, 880.0108455435932, 26.106626927585353, 27.194403316765413, 6.526656731896338, 9.789985097844507, 317.63064151321663, 93.5487502312769, 14.141089852972737, 93.5487502312769, 56.56435941189095, 78.31988078275606, 6.526656731896338, 31.54550887348565, 14.141089852972737, 9.789985097844507, 27.194403316765413, 3.263328365948169, 3.263328365948169, 6.526656731896338, 138.14757256855523, 194.71193198044617, 39.15994039137803, 9.789985097844507, 9.789985097844507, 6.526656731896338, 6.526656731896338, 28.282179705945474, 6.526656731896338, 26.106626927585353, 1297.7169789887362, 752.741068930519, 577.6091440189942, 467.7437383309123, 332.85950454900143, 350.26392677588234, 183.8341616759095, 182.74639490583357, 159.90308752668426, 157.72754116106023, 150.11310964316786, 140.32311893417926, 126.1820354939426, 112.0409392282338, 102.2509549319813, 94.63652341408893, 87.02209189619654, 84.84653911783643, 83.75875952228833, 76.14432800439594, 72.8810020432238, 67.44212330369155, 231.69630997435996, 353.52723991158234, 150.11310964316786, 105.51428730588951, 1.111517285064776, 36.68007180736573, 37.79159049265863, 13.338208220907667, 41.12614014749448, 366.80072447470013, 6.669104110453834, 2.223034570129552, 1.111517285064776, 76.69469647008873, 28.89945061187971, 267.87567990292484, 4.446069140259104, 115.59780244751884, 1.111517285064776, 520.1901174148776, 41.12614014749448, 2.223034570129552, 41.12614014749448, 8.892138280518209, 167.83911984637803, 80.029249325446, 10.00365616568075, 71.13710624414567, 144.49725625991996, 45.57221168814465, 58.910416708530896, 40.014624662723, 372.35831470064323, 1.111517285064776, 2100.7677739895685, 257.87202773789585, 197.85008914355063, 186.73490869166451, 170.062150815921, 142.27421248829134, 105.59414388144702, 90.03290149047498, 84.47531766557475, 82.25228029498896, 81.14076481021748, 72.24862812995998, 71.13710624414567, 64.46800693447396, 62.24496956388817, 57.79890122375942, 56.68738573898794, 54.46434836840215, 54.46434836840215, 106.70566576726134, 127.82449838417645, 241.19925706006666, 95.59049171641804, 1928.4826306103614, 175.61974104186405, 32.10645912894047, 77.4983529634342, 569.0593219838162, 3.3213579192495737, 381.9561417852325, 585.6661244514225, 193.74587938003054, 5.535596532082623, 12.17831237058177, 4.428477225666098, 7.749835144915672, 2.214238612833049, 5.535596532082623, 9.964073757748722, 7.749835144915672, 35.427817805328786, 57.57020090510432, 153.8895752633708, 340.9927312335148, 5.535596532082623, 1.1071193064165246, 11.071193064165247, 2.214238612833049, 8.856954451332196, 185.99603742086623, 69.74851706137979, 26.57086335399659, 338.7784941349592, 25.463744804718804, 166.06789141964626, 356.49241515184343, 352.0639409547323, 249.1018431865793, 122.89024376937297, 118.46176957226183, 182.67468177303286, 67.5342739057143, 65.32003680715873, 58.67731945438211, 54.248845257270965, 49.820368031604865, 48.71324948232708, 43.17765067882824, 43.17765067882824, 42.07053212955046, 110.7119276130975, 40.96341358027267, 39.856295030994886, 253.53031738369043, 140.60415267203737, 232.49504071897286, 2032.670916352876, 1931.9232495107958, 1.090760288304612, 44.721173294360014, 26.178246919310684, 1016.5886299682842, 753.7153783788089, 5.453801441523059, 1.090760288304612, 1343.816651609347, 21.815205766092237, 319.5927806858315, 940.2354186301869, 2.181520576609224, 34.90432922574758, 1.090760288304612, 4.363041153218448, 14.179883747959954, 30.54128807252913, 51.265735024187684, 1.090760288304612, 1.090760288304612, 1.090760288304612, 13.089123459655342, 25.087488104877, 1.090760288304612, 2.181520576609224, 8.726082306436895, 1.090760288304612, 10.907602883046119, 1.090760288304612, 544.2894030243234, 294.50528078998707, 166.8863226367347, 353.40632751521053, 88.35158187880263, 79.62549957236574, 67.6271408226278, 63.26409966940934, 271.59932210494486, 46.90269387096924, 46.90269387096924, 46.90269387096924, 41.44889095557525, 37.085849802356805, 37.085849802356805, 34.90432922574758, 31.63204983470467, 27.269008681486223, 27.269008681486223, 27.269008681486223, 718.8110491530613, 62.173334959491946, 2040.8125244737346, 51.265735024187684, 153.79720507256306, 39.26737037896603, 213.7890106122202], \"Total\": [3129.0, 3972.0, 2109.0, 4174.0, 1445.0, 1343.0, 1297.0, 1016.0, 940.0, 880.0, 827.0, 753.0, 752.0, 743.0, 585.0, 569.0, 577.0, 544.0, 520.0, 510.0, 504.0, 481.0, 467.0, 437.0, 381.0, 395.0, 372.0, 356.0, 366.0, 356.0, 137.61425216660362, 68.80712608330181, 827.8698497350033, 263.2145485048521, 155.08907577935176, 193.31525405385952, 51.33229922731127, 115.77071616418364, 191.1309043455084, 121.23159692154623, 185.67002358814582, 5.460882784389094, 38.22618151775016, 87.3741245502255, 395.36793288706275, 13.106119331182308, 12.013942044574947, 7.645236141387913, 6.553059665591154, 13.106119331182308, 31.673119419727204, 29.488766468133687, 86.28194969604995, 7.645236141387913, 12.013942044574947, 15.290472282775825, 5.460882784389094, 13.106119331182308, 340.7590993674976, 3.276529832795577, 3129.0858804549393, 510.04646771058606, 481.64988258311274, 437.96278463233347, 504.6005249189796, 259.9380174558406, 183.48566090682507, 141.98295158330586, 136.52207082594327, 129.9690087279203, 127.78465901956919, 125.60030931121808, 111.40201674748143, 185.68496155390199, 97.20371769725995, 90.65065559923698, 83.00541864703848, 193.4945615348119, 244.44786067180004, 1445.6544909643912, 880.0108455435932, 26.106626927585353, 27.194403316765413, 6.526656731896338, 9.789985097844507, 317.63064151321663, 93.5487502312769, 14.141089852972737, 93.5487502312769, 56.56435941189095, 78.31988078275606, 6.526656731896338, 31.54550887348565, 14.141089852972737, 9.789985097844507, 27.194403316765413, 3.263328365948169, 3.263328365948169, 6.526656731896338, 138.14757256855523, 194.71193198044617, 39.15994039137803, 9.789985097844507, 9.789985097844507, 6.526656731896338, 6.526656731896338, 28.282179705945474, 6.526656731896338, 26.106626927585353, 1297.7169789887362, 752.741068930519, 577.6091440189942, 467.7437383309123, 332.85950454900143, 351.35610335303045, 183.8341616759095, 182.74639490583357, 159.90308752668426, 157.72754116106023, 150.11310964316786, 140.32311893417926, 126.1820354939426, 112.0409392282338, 102.2509549319813, 94.63652341408893, 87.02209189619654, 84.84653911783643, 83.75875952228833, 76.14432800439594, 72.8810020432238, 67.44212330369155, 244.80242930554226, 529.1469809534464, 190.12773430589087, 132.78329598737574, 1.111517285064776, 36.68007180736573, 37.79159049265863, 13.338208220907667, 41.12614014749448, 366.80072447470013, 6.669104110453834, 2.223034570129552, 1.111517285064776, 76.69469647008873, 28.89945061187971, 267.87567990292484, 4.446069140259104, 115.59780244751884, 1.111517285064776, 520.1901174148776, 41.12614014749448, 2.223034570129552, 41.12614014749448, 8.892138280518209, 167.83911984637803, 80.029249325446, 10.00365616568075, 71.13710624414567, 144.49725625991996, 45.57221168814465, 58.910416708530896, 40.014624662723, 372.35831470064323, 1.111517285064776, 2109.6247284409005, 257.87202773789585, 197.85008914355063, 186.73490869166451, 170.062150815921, 142.27421248829134, 105.59414388144702, 90.03290149047498, 84.47531766557475, 82.25228029498896, 81.14076481021748, 72.24862812995998, 71.13710624414567, 64.46800693447396, 62.24496956388817, 57.79890122375942, 56.68738573898794, 54.46434836840215, 54.46434836840215, 107.79344185584439, 130.0088515384726, 248.8743784572888, 96.69761102283456, 4174.942557575458, 529.1469809534464, 32.10645912894047, 77.4983529634342, 569.0593219838162, 3.3213579192495737, 381.9561417852325, 585.6661244514225, 193.74587938003054, 5.535596532082623, 12.17831237058177, 4.428477225666098, 7.749835144915672, 2.214238612833049, 5.535596532082623, 9.964073757748722, 7.749835144915672, 35.427817805328786, 57.57020090510432, 153.8895752633708, 340.9927312335148, 5.535596532082623, 1.1071193064165246, 11.071193064165247, 2.214238612833049, 8.856954451332196, 185.99603742086623, 69.74851706137979, 26.57086335399659, 338.7784941349592, 25.463744804718804, 166.06789141964626, 356.49241515184343, 353.1547012430369, 249.1018431865793, 122.89024376937297, 118.46176957226183, 183.78619905809762, 67.5342739057143, 65.32003680715873, 58.67731945438211, 54.248845257270965, 49.820368031604865, 48.71324948232708, 43.17765067882824, 43.17765067882824, 42.07053212955046, 111.80268790140211, 40.96341358027267, 39.856295030994886, 264.64549063440336, 144.9552570263696, 265.12832598163857, 4174.942557575458, 3972.73577398453, 1.090760288304612, 44.721173294360014, 26.178246919310684, 1016.5886299682842, 753.7153783788089, 5.453801441523059, 1.090760288304612, 1343.816651609347, 21.815205766092237, 319.5927806858315, 940.2354186301869, 2.181520576609224, 34.90432922574758, 1.090760288304612, 4.363041153218448, 14.179883747959954, 30.54128807252913, 51.265735024187684, 1.090760288304612, 1.090760288304612, 1.090760288304612, 13.089123459655342, 25.087488104877, 1.090760288304612, 2.181520576609224, 8.726082306436895, 1.090760288304612, 10.907602883046119, 1.090760288304612, 544.2894030243234, 294.50528078998707, 166.8863226367347, 356.6696558811587, 88.35158187880263, 79.62549957236574, 67.6271408226278, 63.26409966940934, 276.02779933061095, 46.90269387096924, 46.90269387096924, 46.90269387096924, 41.44889095557525, 37.085849802356805, 37.085849802356805, 34.90432922574758, 31.63204983470467, 27.269008681486223, 27.269008681486223, 27.269008681486223, 743.1720711157343, 63.26551153664003, 3972.73577398453, 56.726617808576776, 244.44786067180004, 45.794027110862366, 4174.942557575458], \"Category\": [\"Default\", \"Default\", \"Default\", \"Default\", \"Default\", \"Default\", \"Default\", \"Default\", \"Default\", \"Default\", \"Default\", \"Default\", \"Default\", \"Default\", \"Default\", \"Default\", \"Default\", \"Default\", \"Default\", \"Default\", \"Default\", \"Default\", \"Default\", \"Default\", \"Default\", \"Default\", \"Default\", \"Default\", \"Default\", \"Default\", \"Topic1\", \"Topic1\", \"Topic1\", \"Topic1\", \"Topic1\", \"Topic1\", \"Topic1\", \"Topic1\", \"Topic1\", \"Topic1\", \"Topic1\", \"Topic1\", \"Topic1\", \"Topic1\", \"Topic1\", \"Topic1\", \"Topic1\", \"Topic1\", \"Topic1\", \"Topic1\", \"Topic1\", \"Topic1\", \"Topic1\", \"Topic1\", \"Topic1\", \"Topic1\", \"Topic1\", \"Topic1\", \"Topic1\", \"Topic1\", \"Topic1\", \"Topic1\", \"Topic1\", \"Topic1\", \"Topic1\", \"Topic1\", \"Topic1\", \"Topic1\", \"Topic1\", \"Topic1\", \"Topic1\", \"Topic1\", \"Topic1\", \"Topic1\", \"Topic1\", \"Topic1\", \"Topic1\", \"Topic1\", \"Topic1\", \"Topic2\", \"Topic2\", \"Topic2\", \"Topic2\", \"Topic2\", \"Topic2\", \"Topic2\", \"Topic2\", \"Topic2\", \"Topic2\", \"Topic2\", \"Topic2\", \"Topic2\", \"Topic2\", \"Topic2\", \"Topic2\", \"Topic2\", \"Topic2\", \"Topic2\", \"Topic2\", \"Topic2\", \"Topic2\", \"Topic2\", \"Topic2\", \"Topic2\", \"Topic2\", \"Topic2\", \"Topic2\", \"Topic2\", \"Topic2\", \"Topic2\", \"Topic2\", \"Topic2\", \"Topic2\", \"Topic2\", \"Topic2\", \"Topic2\", \"Topic2\", \"Topic2\", \"Topic2\", \"Topic2\", \"Topic2\", \"Topic2\", \"Topic2\", \"Topic2\", \"Topic2\", \"Topic2\", \"Topic2\", \"Topic2\", \"Topic2\", \"Topic2\", \"Topic2\", \"Topic2\", \"Topic2\", \"Topic2\", \"Topic2\", \"Topic3\", \"Topic3\", \"Topic3\", \"Topic3\", \"Topic3\", \"Topic3\", \"Topic3\", \"Topic3\", \"Topic3\", \"Topic3\", \"Topic3\", \"Topic3\", \"Topic3\", \"Topic3\", \"Topic3\", \"Topic3\", \"Topic3\", \"Topic3\", \"Topic3\", \"Topic3\", \"Topic3\", \"Topic3\", \"Topic3\", \"Topic3\", \"Topic3\", \"Topic3\", \"Topic3\", \"Topic3\", \"Topic3\", \"Topic3\", \"Topic3\", \"Topic3\", \"Topic3\", \"Topic3\", \"Topic3\", \"Topic3\", \"Topic3\", \"Topic3\", \"Topic3\", \"Topic3\", \"Topic3\", \"Topic3\", \"Topic3\", \"Topic3\", \"Topic3\", \"Topic3\", \"Topic3\", \"Topic3\", \"Topic3\", \"Topic3\", \"Topic3\", \"Topic3\", \"Topic3\", \"Topic3\", \"Topic3\", \"Topic4\", \"Topic4\", \"Topic4\", \"Topic4\", \"Topic4\", \"Topic4\", \"Topic4\", \"Topic4\", \"Topic4\", \"Topic4\", \"Topic4\", \"Topic4\", \"Topic4\", \"Topic4\", \"Topic4\", \"Topic4\", \"Topic4\", \"Topic4\", \"Topic4\", \"Topic4\", \"Topic4\", \"Topic4\", \"Topic4\", \"Topic4\", \"Topic4\", \"Topic4\", \"Topic4\", \"Topic4\", \"Topic4\", \"Topic4\", \"Topic4\", \"Topic4\", \"Topic4\", \"Topic4\", \"Topic4\", \"Topic4\", \"Topic4\", \"Topic4\", \"Topic4\", \"Topic4\", \"Topic4\", \"Topic4\", \"Topic4\", \"Topic4\", \"Topic4\", \"Topic4\", \"Topic4\", \"Topic4\", \"Topic4\", \"Topic4\", \"Topic4\", \"Topic4\", \"Topic4\", \"Topic5\", \"Topic5\", \"Topic5\", \"Topic5\", \"Topic5\", \"Topic5\", \"Topic5\", \"Topic5\", \"Topic5\", \"Topic5\", \"Topic5\", \"Topic5\", \"Topic5\", \"Topic5\", \"Topic5\", \"Topic5\", \"Topic5\", \"Topic5\", \"Topic5\", \"Topic5\", \"Topic5\", \"Topic5\", \"Topic5\", \"Topic5\", \"Topic5\", \"Topic5\", \"Topic5\", \"Topic5\", \"Topic5\", \"Topic5\", \"Topic5\", \"Topic5\", \"Topic5\", \"Topic5\", \"Topic5\", \"Topic5\", \"Topic5\", \"Topic5\", \"Topic5\", \"Topic5\", \"Topic5\", \"Topic5\", \"Topic5\", \"Topic5\", \"Topic5\", \"Topic5\", \"Topic5\", \"Topic5\", \"Topic5\", \"Topic5\", \"Topic5\", \"Topic5\", \"Topic5\", \"Topic5\", \"Topic5\", \"Topic5\"], \"logprob\": [30.0, 29.0, 28.0, 27.0, 26.0, 25.0, 24.0, 23.0, 22.0, 21.0, 20.0, 19.0, 18.0, 17.0, 16.0, 15.0, 14.0, 13.0, 12.0, 11.0, 10.0, 9.0, 8.0, 7.0, 6.0, 5.0, 4.0, 3.0, 2.0, 1.0, -4.6173, -5.3105, -2.8229, -3.9688, -4.4978, -4.2775, -5.6035, -4.7902, -4.2888, -4.7441, -4.3178, -7.8442, -5.8983, -5.0716, -3.562, -6.9687, -7.0557, -7.5077, -7.6618, -6.9687, -6.0863, -6.1578, -5.0842, -7.5077, -7.0557, -6.8145, -7.8442, -6.9687, -3.7106, -8.355, -1.4933, -3.3073, -3.3646, -3.4596, -3.3202, -3.9813, -4.3296, -4.5861, -4.6253, -4.6745, -4.6914, -4.7087, -4.8286, -4.3237, -4.965, -5.0348, -5.1229, -4.3477, -5.0348, -2.254, -2.7504, -6.2681, -6.2273, -7.6544, -7.249, -3.7694, -4.9919, -6.8813, -4.9919, -5.495, -5.1695, -7.6544, -6.0789, -6.8813, -7.249, -6.2273, -8.3476, -8.3476, -7.6544, -4.602, -4.2588, -5.8627, -7.249, -7.249, -7.6544, -7.6544, -6.1881, -7.6544, -6.2681, -2.362, -2.9066, -3.1714, -3.3824, -3.7226, -3.6717, -4.3163, -4.3222, -4.4558, -4.4695, -4.5189, -4.5864, -4.6926, -4.8115, -4.9029, -4.9803, -5.0642, -5.0895, -5.1024, -5.1977, -5.2415, -5.3191, -4.0849, -3.6624, -4.5189, -4.8715, -9.4228, -5.9263, -5.8964, -6.9379, -5.8119, -3.6237, -7.631, -8.7296, -9.4228, -5.1887, -6.1647, -3.938, -8.0365, -4.7784, -9.4228, -3.2743, -5.8119, -8.7296, -5.8119, -7.3433, -4.4055, -5.1461, -7.2256, -5.2639, -4.5553, -5.7092, -5.4525, -5.8393, -3.6087, -9.4228, -1.8785, -3.976, -4.241, -4.2988, -4.3923, -4.5708, -4.8689, -5.0283, -5.0921, -5.1187, -5.1323, -5.2484, -5.2639, -5.3623, -5.3974, -5.4715, -5.491, -5.531, -5.531, -4.8584, -4.6779, -4.0429, -4.9684, -1.964, -4.3602, -6.0042, -5.123, -3.1293, -8.2729, -3.528, -3.1005, -4.2067, -7.7621, -6.9736, -7.9852, -7.4256, -8.6784, -7.7621, -7.1743, -7.4256, -5.9058, -5.4203, -4.437, -3.6414, -7.7621, -9.3715, -7.0689, -8.6784, -7.2921, -4.2476, -5.2284, -6.1935, -3.6479, -6.236, -4.3609, -3.597, -3.6095, -3.9554, -4.662, -4.6987, -4.2656, -5.2606, -5.294, -5.4012, -5.4797, -5.5649, -5.5873, -5.708, -5.708, -5.7339, -4.7664, -5.7606, -5.788, -3.9378, -4.5273, -4.0244, -1.8562, -1.907, -9.3594, -5.6458, -6.1813, -2.522, -2.8212, -7.7499, -9.3594, -2.243, -6.3636, -3.6792, -2.6001, -8.6662, -5.8936, -9.3594, -7.9731, -6.7944, -6.0272, -5.5092, -9.3594, -9.3594, -9.3594, -6.8745, -6.2239, -9.3594, -8.6662, -7.2799, -9.3594, -7.0568, -9.3594, -3.1468, -3.7609, -4.3289, -3.5786, -4.9649, -5.0689, -5.2322, -5.2989, -3.8419, -5.5982, -5.5982, -5.5982, -5.7218, -5.833, -5.833, -5.8936, -5.9921, -6.1405, -6.1405, -6.1405, -2.8686, -5.3163, -1.8251, -5.5092, -4.4106, -5.7758, -4.0812], \"loglift\": [30.0, 29.0, 28.0, 27.0, 26.0, 25.0, 24.0, 23.0, 22.0, 21.0, 20.0, 19.0, 18.0, 17.0, 16.0, 15.0, 14.0, 13.0, 12.0, 11.0, 10.0, 9.0, 8.0, 7.0, 6.0, 5.0, 4.0, 3.0, 2.0, 1.0, 1.5724, 1.5724, 1.5724, 1.5724, 1.5724, 1.5724, 1.5724, 1.5724, 1.5724, 1.5724, 1.5724, 1.5724, 1.5724, 1.5724, 1.5724, 1.5724, 1.5724, 1.5724, 1.5724, 1.5724, 1.5724, 1.5724, 1.5724, 1.5724, 1.5724, 1.5724, 1.5724, 1.5724, 1.5724, 1.5724, 1.5724, 1.5724, 1.5724, 1.5724, 1.5702, 1.5724, 1.5724, 1.5724, 1.5724, 1.5724, 1.5724, 1.5724, 1.5724, 1.5664, 1.5724, 1.5724, 1.5724, 1.5013, 0.5804, 1.5838, 1.5838, 1.5838, 1.5838, 1.5838, 1.5838, 1.5838, 1.5838, 1.5838, 1.5838, 1.5838, 1.5838, 1.5838, 1.5838, 1.5838, 1.5838, 1.5838, 1.5838, 1.5838, 1.5838, 1.5838, 1.5838, 1.5838, 1.5838, 1.5838, 1.5838, 1.5838, 1.5838, 1.5838, 1.5838, 1.5838, 1.5838, 1.5838, 1.5838, 1.5838, 1.5807, 1.5838, 1.5838, 1.5838, 1.5838, 1.5838, 1.5838, 1.5838, 1.5838, 1.5838, 1.5838, 1.5838, 1.5838, 1.5838, 1.5838, 1.5838, 1.5838, 1.5288, 1.1805, 1.3475, 1.354, 1.5856, 1.5856, 1.5856, 1.5856, 1.5856, 1.5856, 1.5856, 1.5856, 1.5856, 1.5856, 1.5856, 1.5856, 1.5856, 1.5856, 1.5856, 1.5856, 1.5856, 1.5856, 1.5856, 1.5856, 1.5856, 1.5856, 1.5856, 1.5856, 1.5856, 1.5856, 1.5856, 1.5856, 1.5856, 1.5856, 1.5814, 1.5856, 1.5856, 1.5856, 1.5856, 1.5856, 1.5856, 1.5856, 1.5856, 1.5856, 1.5856, 1.5856, 1.5856, 1.5856, 1.5856, 1.5856, 1.5856, 1.5856, 1.5856, 1.5755, 1.5687, 1.5543, 1.5741, 0.8133, 0.4827, 1.6409, 1.6409, 1.6409, 1.6409, 1.6409, 1.6409, 1.6409, 1.6409, 1.6409, 1.6409, 1.6409, 1.6409, 1.6409, 1.6409, 1.6409, 1.6409, 1.6409, 1.6409, 1.6409, 1.6409, 1.6409, 1.6409, 1.6409, 1.6409, 1.6409, 1.6409, 1.6409, 1.6409, 1.6409, 1.6409, 1.6409, 1.6378, 1.6409, 1.6409, 1.6409, 1.6348, 1.6409, 1.6409, 1.6409, 1.6409, 1.6409, 1.6409, 1.6409, 1.6409, 1.6409, 1.6311, 1.6409, 1.6409, 1.598, 1.6104, 1.5095, 0.9211, 0.9199, 1.6679, 1.6679, 1.6679, 1.6679, 1.6679, 1.6679, 1.6679, 1.6679, 1.6679, 1.6679, 1.6679, 1.6679, 1.6679, 1.6679, 1.6679, 1.6679, 1.6679, 1.6679, 1.6679, 1.6679, 1.6679, 1.6679, 1.6679, 1.6679, 1.6679, 1.6679, 1.6679, 1.6679, 1.6679, 1.6679, 1.6679, 1.6679, 1.6587, 1.6679, 1.6679, 1.6679, 1.6679, 1.6518, 1.6679, 1.6679, 1.6679, 1.6679, 1.6679, 1.6679, 1.6679, 1.6679, 1.6679, 1.6679, 1.6679, 1.6346, 1.6505, 1.0018, 1.5667, 1.2046, 1.5142, -1.3039]}, \"token.table\": {\"Topic\": [3, 2, 5, 4, 1, 3, 3, 1, 5, 1, 4, 4, 5, 5, 5, 1, 1, 4, 1, 3, 2, 2, 5, 3, 2, 4, 1, 5, 5, 3, 3, 1, 4, 5, 4, 3, 4, 1, 2, 2, 4, 5, 4, 1, 1, 5, 3, 3, 2, 3, 3, 1, 5, 5, 2, 1, 2, 5, 2, 3, 4, 1, 2, 4, 1, 3, 3, 1, 4, 5, 2, 2, 5, 4, 2, 4, 4, 1, 5, 3, 2, 5, 2, 2, 2, 3, 3, 4, 4, 1, 3, 4, 5, 4, 3, 5, 4, 3, 3, 1, 3, 4, 4, 2, 2, 5, 1, 5, 1, 1, 1, 5, 4, 5, 2, 5, 5, 4, 3, 1, 2, 4, 4, 1, 4, 2, 1, 4, 1, 1, 2, 2, 4, 4, 3, 3, 4, 4, 1, 5, 3, 3, 2, 3, 1, 2, 3, 3, 3, 5, 1, 2, 3, 1, 2, 1, 4, 4, 5, 2, 3, 1, 5, 3, 4, 3, 3, 1, 5, 2, 1, 1, 4, 4, 5, 3, 5, 3, 3, 1, 1, 5, 2, 5, 3, 4, 5, 2, 5, 2, 2, 2, 5, 4, 5, 5, 4, 1, 2, 2, 2, 3, 4, 5, 1, 3, 4, 2, 5, 4, 3, 2, 4, 2, 2, 5, 4, 3, 5, 5, 1, 4, 3, 2, 5, 1, 1, 1, 3, 2, 5, 1, 2, 2, 4, 4, 3, 4, 3, 4, 2, 3, 2, 3, 2, 5, 2, 2, 3, 1, 4, 2, 2, 5, 3, 2, 2, 5, 2, 5, 2, 2, 4, 5, 4, 3, 4, 5, 1, 4, 5, 3, 4, 2, 3, 1, 1, 4, 5, 5, 1, 1, 4, 1, 5, 3, 3, 1, 5, 4, 4, 5, 3, 2, 1], \"Freq\": [0.9965587148656615, 1.0214520144879211, 0.994816517815217, 0.9032450199398621, 0.9156028791340094, 0.9996345232088945, 1.0005432800755376, 0.9980896323448077, 1.0004046573211514, 0.9302587037704205, 0.0671853508278637, 1.0322800227884137, 0.9997496173559065, 1.0006811664459332, 0.9901350032695225, 0.9988395112509102, 0.9990693911760218, 1.0001148252638707, 0.9999725541393811, 0.9960644279271961, 1.0006060700566495, 1.0016327705909644, 0.9931910291831193, 0.999037715322857, 1.0009021083055436, 1.0007175582650105, 0.9940830732035022, 0.9167917192459561, 0.9167917192459561, 0.9943732953161957, 0.9969328474045438, 0.9919030699705421, 0.014491294027993968, 0.9854079939035899, 0.9995911827442024, 1.0496162429114708, 0.9958855871953368, 1.0019804994165467, 1.0002389983483386, 1.004823685699782, 0.9879242405592241, 1.0313906841517007, 1.000893148703431, 0.9988395112509102, 0.9973531397253342, 0.9167917192459561, 1.0004962626742682, 0.992740477692297, 0.7889432888242882, 0.2103848770198102, 0.9914742692731536, 0.015806400291584668, 0.9799968180782493, 0.9931910291831193, 0.9900227030278662, 0.9810030535745432, 0.9981045468759326, 0.987314159187953, 1.0011628553373306, 0.9982651776755282, 0.9966841834375778, 0.9919030699705421, 0.9959157141257231, 1.0058864994784829, 1.0001572110218029, 0.89967111932202, 1.0014196130235788, 1.001685186485475, 0.9967303245887069, 0.002831620240308826, 0.9989317758842126, 1.000422086342972, 0.9167917192459561, 0.993569502520017, 1.0005478676636101, 0.9853582035707587, 1.0036055668165518, 1.0035007465911212, 0.9976851062382465, 0.9969328474045438, 1.0725246152123171, 0.9167917192459561, 0.9959157141257231, 0.9193068130391291, 1.0214520144879211, 0.89967111932202, 1.0121300092372727, 0.9998957543062306, 0.9951004802997347, 0.0200904570048302, 0.9683600276328156, 0.00803618280193208, 0.9167917192459561, 0.9935695219338482, 1.0034792837230946, 1.0047032725652654, 1.0000213164851313, 0.9965587148656615, 0.89967111932202, 0.9999347193577623, 1.0055147059074387, 1.000653836854687, 1.0068961442442679, 1.0725246152123171, 0.15285836257758595, 0.8516394486465503, 1.0028031096149066, 1.0084708911705518, 1.0001200736884537, 0.996732228501521, 0.9963912974000041, 1.0055134546993512, 0.4863147488065294, 0.5137517610321566, 0.999987675670535, 0.9167917192459563, 0.9976851062382465, 0.9954128930101491, 1.0007576992110456, 0.002846115352649032, 0.9961403734271612, 0.999591158438346, 1.0036055929631267, 0.9963111630141187, 0.005385465746022263, 1.0725246152123171, 1.0031822428700516, 0.9958855871953368, 0.9991848911617128, 1.0028031096149066, 1.0077016798676495, 0.9900227030278662, 0.9032450199398621, 1.0838940239278343, 1.0004640962446467, 0.99591172386035, 0.004266161596736388, 0.9032450199398621, 1.0007069528970747, 0.9167917192459561, 0.89967111932202, 1.0034792837230946, 0.00927700222558374, 0.9926392381374602, 1.0000849738127813, 1.0017274018027171, 0.89967111932202, 1.0039807645634315, 1.0034792837230946, 1.0012741818300608, 0.053104048178273876, 0.9477030136430414, 1.0093870430248755, 0.9919030699705421, 1.0214520144879211, 1.0103204416319411, 1.0005700782999702, 0.9928204954955109, 0.008944328788247845, 0.9996346047389838, 1.0038435476024943, 0.9979042190763276, 0.9994682920102517, 0.005441104963947183, 0.9957222084023344, 0.89967111932202, 1.0087221255812817, 0.9156028791340094, 1.0003776248028844, 0.9975456959580647, 1.0464032571461794, 1.0017772196366288, 0.9032450199398621, 1.005499238012547, 0.9958254417467504, 0.998072647997866, 0.9167917192459561, 0.9746436541320801, 0.9914742692731536, 0.9993151063353325, 0.37226752465704, 0.6299911955734523, 1.000218091475912, 0.9960206498703676, 0.46180276097491035, 0.48695280760476806, 0.051258190274186106, 0.008411144459677814, 0.9897113314220893, 1.0028801820739415, 0.9959157141257231, 0.9934444041493079, 0.9167917192459561, 1.0013116181917396, 0.9901350032695225, 1.006234780644164, 1.0838940239278343, 0.9994256476227991, 0.9992465038967168, 1.0725246152123171, 0.997697322175893, 0.0013455833969899952, 0.03094841813076989, 0.9674744624358065, 0.015383567936588948, 0.9845483479416927, 1.0000213046427693, 1.0014794574560677, 1.000136438546459, 0.998618721939333, 0.89967111932202, 0.02759472186146611, 0.9727139456166803, 0.9193068130391291, 1.0006766790052632, 1.0027409429252645, 0.9983234790248608, 1.000958537877041, 1.0084708911705518, 0.9167917192459561, 1.0682033061221223, 1.0008931240370311, 0.9969328474045438, 1.0038407643560685, 0.9167917192459561, 0.9834253335533089, 1.0038537437865585, 1.000238451246055, 0.998072647997866, 0.7982931829774572, 0.20333882962633343, 0.9999088951428393, 1.0144074748750163, 0.9928513483270448, 0.9961019527740538, 1.0036055777109578, 0.9996345170585437, 1.0036055777109578, 0.992785643663215, 0.010341517121491822, 0.6690012657015318, 0.33261079876686334, 0.9959157141257231, 0.9996345170585437, 1.0003439842466002, 1.0020746383842782, 0.9997461346226554, 1.0013877433494494, 0.998072647997866, 0.915602833818962, 1.0161506474323447, 1.0018086875877217, 1.004823685699782, 0.9901350032695225, 0.9996345614777453, 1.0214520144879211, 1.0725246152123171, 1.0020746383842782, 0.9928513483270448, 0.9167917192459561, 0.9985573580800942, 0.1244680283701011, 0.8750479570261652, 1.0116321947903495, 0.9032450199398621, 0.04156503847328364, 0.9597745247467313, 0.9965126797664533, 1.0007269127005898, 1.0838940239278343, 0.989170012870637, 1.0055147059074387, 1.0322800227884137, 0.9900227030278662, 1.0015206697978787, 1.000238451246055, 0.9968281346531762, 0.0019817656752548233, 1.0020746383842782, 1.0150194034508802, 0.9983692230838044, 1.0464032571461794, 0.9817880359595472, 0.9957181310582351, 1.0027409429252645, 0.9996345170585437, 0.9969328474045438, 0.08814204324453882, 0.899048841094296, 1.0074656521627245, 1.0161506474323447, 1.0016798313724151, 0.999634540574591, 1.0725246152123171, 0.9935265080210071], \"Term\": [\"adapter\", \"advantage\", \"affordable\", \"aluminum\", \"amazed\", \"amazing\", \"android\", \"app\", \"apple\", \"average\", \"average\", \"aware\", \"awesome\", \"awesomeread\", \"awsome\", \"background\", \"backup\", \"bad\", \"battery\", \"bbd\", \"beast\", \"beautiful\", \"beauty\", \"big\", \"bionic\", \"bit\", \"body\", \"boinic\", \"bokeh\", \"box\", \"brand\", \"brightness\", \"budget\", \"budget\", \"buy\", \"buyer\", \"buying\", \"call\", \"camera\", \"capacity\", \"care\", \"carry\", \"case\", \"casual\", \"charge\", \"chargei\", \"charger\", \"cheap\", \"chip\", \"chip\", \"choice\", \"class\", \"class\", \"classy\", \"clean\", \"close\", \"colour\", \"comment\", \"compact\", \"con\", \"condition\", \"continuous\", \"cool\", \"customer\", \"day\", \"dayperformance\", \"deal\", \"decent\", \"delivery\", \"delivery\", \"design\", \"device\", \"diff\", \"disappointed\", \"display\", \"doesn\", \"don\", \"drain\", \"dream\", \"dual\", \"durable\", \"easevery\", \"easy\", \"editing\", \"effect\", \"enthusiast\", \"esim\", \"excellent\", \"exchange\", \"experience\", \"experience\", \"experience\", \"explore\", \"eye\", \"fan\", \"fantastic\", \"fast\", \"feature\", \"feeljust\", \"fine\", \"flagship\", \"flipkart\", \"flipkartread\", \"frame\", \"friendly\", \"friendly\", \"full\", \"future\", \"game\", \"gamer\", \"gaming\", \"genuine\", \"good\", \"good\", \"great\", \"grip\", \"gud\", \"guy\", \"hand\", \"handy\", \"handy\", \"happy\", \"heating\", \"heavy\", \"heavy\", \"hesitate\", \"high\", \"home\", \"hour\", \"hrs\", \"image\", \"impressive\", \"indoor\", \"industry\", \"io\", \"iphone\", \"iphone\", \"ipod\", \"issue\", \"juice\", \"justice\", \"lag\", \"late\", \"late\", \"life\", \"light\", \"listen\", \"long\", \"lot\", \"love\", \"low\", \"low\", \"main\", \"man\", \"masterpiece\", \"min\", \"mobile\", \"mobileread\", \"mobileread\", \"mode\", \"model\", \"moderate\", \"money\", \"month\", \"month\", \"multitask\", \"music\", \"natural\", \"nice\", \"night\", \"nonsense\", \"normal\", \"noticeable\", \"offer\", \"oneread\", \"option\", \"pair\", \"palm\", \"part\", \"people\", \"perfect\", \"perfect\", \"performance\", \"performanceread\", \"phone\", \"phone\", \"phone\", \"phoneread\", \"phoneread\", \"photo\", \"photography\", \"picture\", \"pls\", \"poor\", \"poorread\", \"portrait\", \"positive\", \"power\", \"powerful\", \"ppl\", \"premium\", \"price\", \"price\", \"price\", \"pro\", \"pro\", \"problem\", \"processor\", \"product\", \"productread\", \"punchy\", \"purchase\", \"purchase\", \"pure\", \"quality\", \"qualityread\", \"quick\", \"range\", \"rate\", \"ratesfirst\", \"ratio\", \"read\", \"reason\", \"red\", \"reduction\", \"regular\", \"rest\", \"review\", \"sale\", \"satisfied\", \"satisfied\", \"screen\", \"sensor\", \"series\", \"service\", \"sharp\", \"sim\", \"simple\", \"single\", \"single\", \"size\", \"size\", \"sleek\", \"slot\", \"small\", \"smart\", \"smartphone\", \"smooth\", \"software\", \"sony\", \"sooo\", \"sound\", \"speaker\", \"special\", \"speed\", \"spend\", \"stable\", \"star\", \"stunning\", \"sudden\", \"super\", \"superb\", \"superb\", \"superread\", \"technical\", \"thing\", \"thing\", \"thought\", \"time\", \"tone\", \"true\", \"type\", \"ultra\", \"unbeatable\", \"update\", \"usage\", \"user\", \"user\", \"usual\", \"variant\", \"video\", \"view\", \"waste\", \"week\", \"white\", \"wireless\", \"wise\", \"wonderful\", \"wonderful\", \"word\", \"working\", \"worth\", \"year\", \"yesterday\", \"youtube\"]}, \"R\": 30, \"lambda.step\": 0.01, \"plot.opts\": {\"xlab\": \"PC1\", \"ylab\": \"PC2\"}, \"topic.order\": [3, 2, 1, 4, 5]};\n",
       "\n",
       "function LDAvis_load_lib(url, callback){\n",
       "  var s = document.createElement('script');\n",
       "  s.src = url;\n",
       "  s.async = true;\n",
       "  s.onreadystatechange = s.onload = callback;\n",
       "  s.onerror = function(){console.warn(\"failed to load library \" + url);};\n",
       "  document.getElementsByTagName(\"head\")[0].appendChild(s);\n",
       "}\n",
       "\n",
       "if(typeof(LDAvis) !== \"undefined\"){\n",
       "   // already loaded: just create the visualization\n",
       "   !function(LDAvis){\n",
       "       new LDAvis(\"#\" + \"ldavis_el1121215466678907205065135843\", ldavis_el1121215466678907205065135843_data);\n",
       "   }(LDAvis);\n",
       "}else if(typeof define === \"function\" && define.amd){\n",
       "   // require.js is available: use it to load d3/LDAvis\n",
       "   require.config({paths: {d3: \"https://d3js.org/d3.v5\"}});\n",
       "   require([\"d3\"], function(d3){\n",
       "      window.d3 = d3;\n",
       "      LDAvis_load_lib(\"https://cdn.jsdelivr.net/gh/bmabey/pyLDAvis@3.3.1/pyLDAvis/js/ldavis.v3.0.0.js\", function(){\n",
       "        new LDAvis(\"#\" + \"ldavis_el1121215466678907205065135843\", ldavis_el1121215466678907205065135843_data);\n",
       "      });\n",
       "    });\n",
       "}else{\n",
       "    // require.js not available: dynamically load d3 & LDAvis\n",
       "    LDAvis_load_lib(\"https://d3js.org/d3.v5.js\", function(){\n",
       "         LDAvis_load_lib(\"https://cdn.jsdelivr.net/gh/bmabey/pyLDAvis@3.3.1/pyLDAvis/js/ldavis.v3.0.0.js\", function(){\n",
       "                 new LDAvis(\"#\" + \"ldavis_el1121215466678907205065135843\", ldavis_el1121215466678907205065135843_data);\n",
       "            })\n",
       "         });\n",
       "}\n",
       "</script>"
      ],
      "text/plain": [
       "PreparedData(topic_coordinates=              x         y  topics  cluster       Freq\n",
       "topic                                                \n",
       "2      0.287196  0.339613       1        1  20.754854\n",
       "1      0.274195 -0.324417       2        1  20.518879\n",
       "0     -0.094707 -0.098006       3        1  20.481464\n",
       "3     -0.253550  0.005296       4        1  19.380980\n",
       "4     -0.213133  0.077515       5        1  18.863823, topic_info=          Term         Freq        Total Category  logprob  loglift\n",
       "0      battery  3129.000000  3129.000000  Default  30.0000  30.0000\n",
       "11        good  3972.000000  3972.000000  Default  29.0000  29.0000\n",
       "60      iphone  2109.000000  2109.000000  Default  28.0000  28.0000\n",
       "21       phone  4174.000000  4174.000000  Default  27.0000  27.0000\n",
       "2       camera  1445.000000  1445.000000  Default  26.0000  26.0000\n",
       "..         ...          ...          ...      ...      ...      ...\n",
       "11        good  2040.812524  3972.735774   Topic5  -1.8251   1.0018\n",
       "874  wonderful    51.265735    56.726618   Topic5  -5.5092   1.5667\n",
       "154    perfect   153.797205   244.447861   Topic5  -4.4106   1.2046\n",
       "789   friendly    39.267370    45.794027   Topic5  -5.7758   1.5142\n",
       "21       phone   213.789011  4174.942558   Topic5  -4.0812  -1.3039\n",
       "\n",
       "[299 rows x 6 columns], token_table=      Topic      Freq        Term\n",
       "term                             \n",
       "1114      3  0.996559     adapter\n",
       "85        2  1.021452   advantage\n",
       "286       5  0.994817  affordable\n",
       "131       4  0.903245    aluminum\n",
       "122       1  0.915603      amazed\n",
       "...     ...       ...         ...\n",
       "331       4  1.016151     working\n",
       "105       5  1.001680       worth\n",
       "188       3  0.999635        year\n",
       "336       2  1.072525   yesterday\n",
       "34        1  0.993527     youtube\n",
       "\n",
       "[295 rows x 3 columns], R=30, lambda_step=0.01, plot_opts={'xlab': 'PC1', 'ylab': 'PC2'}, topic_order=[3, 2, 1, 4, 5])"
      ]
     },
     "execution_count": 69,
     "metadata": {},
     "output_type": "execute_result"
    }
   ],
   "source": [
    "#Creating Topic Distance Visualization \n",
    "\n",
    "pyLDAvis.enable_notebook()\n",
    "p = pyLDAvis.gensim_models.prepare(optimal_model, doc_term_matrix, dictionary)\n",
    "p"
   ]
  },
  {
   "cell_type": "code",
   "execution_count": null,
   "metadata": {},
   "outputs": [],
   "source": []
  },
  {
   "cell_type": "code",
   "execution_count": null,
   "metadata": {},
   "outputs": [],
   "source": []
  }
 ],
 "metadata": {
  "kernelspec": {
   "display_name": "Python 3",
   "language": "python",
   "name": "python3"
  },
  "language_info": {
   "codemirror_mode": {
    "name": "ipython",
    "version": 3
   },
   "file_extension": ".py",
   "mimetype": "text/x-python",
   "name": "python",
   "nbconvert_exporter": "python",
   "pygments_lexer": "ipython3",
   "version": "3.8.5"
  }
 },
 "nbformat": 4,
 "nbformat_minor": 4
}
