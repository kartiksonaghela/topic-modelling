{
 "cells": [
  {
   "cell_type": "code",
   "execution_count": 1,
   "metadata": {},
   "outputs": [
    {
     "name": "stderr",
     "output_type": "stream",
     "text": [
      "[nltk_data] Downloading package stopwords to\n",
      "[nltk_data]     C:\\Users\\kartik.sonaghela\\AppData\\Roaming\\nltk_data...\n",
      "[nltk_data]   Package stopwords is already up-to-date!\n"
     ]
    },
    {
     "data": {
      "text/plain": [
       "True"
      ]
     },
     "execution_count": 1,
     "metadata": {},
     "output_type": "execute_result"
    }
   ],
   "source": [
    "import nltk\n",
    "from nltk import FreqDist\n",
    "nltk.download('stopwords')"
   ]
  },
  {
   "cell_type": "code",
   "execution_count": 2,
   "metadata": {},
   "outputs": [],
   "source": [
    "import pandas as pd\n",
    "pd.set_option(\"display.max_colwidth\", 200)\n",
    "import numpy as np\n",
    "import re\n",
    "import spacy\n",
    "\n",
    "import gensim\n",
    "from gensim import corpora\n",
    "\n",
    "# libraries for visualization\n",
    "import pyLDAvis\n",
    "import pyLDAvis.gensim_models\n",
    "import matplotlib.pyplot as plt\n",
    "import seaborn as sns\n",
    "%matplotlib inline\n",
    "\n",
    "import warnings\n",
    "warnings.filterwarnings('ignore')"
   ]
  },
  {
   "cell_type": "code",
   "execution_count": 3,
   "metadata": {},
   "outputs": [
    {
     "data": {
      "text/html": [
       "<div>\n",
       "<style scoped>\n",
       "    .dataframe tbody tr th:only-of-type {\n",
       "        vertical-align: middle;\n",
       "    }\n",
       "\n",
       "    .dataframe tbody tr th {\n",
       "        vertical-align: top;\n",
       "    }\n",
       "\n",
       "    .dataframe thead th {\n",
       "        text-align: right;\n",
       "    }\n",
       "</style>\n",
       "<table border=\"1\" class=\"dataframe\">\n",
       "  <thead>\n",
       "    <tr style=\"text-align: right;\">\n",
       "      <th></th>\n",
       "      <th>review</th>\n",
       "      <th>rating</th>\n",
       "    </tr>\n",
       "  </thead>\n",
       "  <tbody>\n",
       "    <tr>\n",
       "      <th>0</th>\n",
       "      <td>It was nice produt. I like it's design a lot.  It's easy to carry. And.   Looked stylish.READ MORE</td>\n",
       "      <td>5</td>\n",
       "    </tr>\n",
       "    <tr>\n",
       "      <th>1</th>\n",
       "      <td>awesome sound....very pretty to see this nd the sound quality was too good I wish to take this product loved this product 😍😍😍READ MORE</td>\n",
       "      <td>5</td>\n",
       "    </tr>\n",
       "    <tr>\n",
       "      <th>2</th>\n",
       "      <td>awesome sound quality. pros 7-8 hrs of battery life (including 45 mins approx call time)Awesome sound output. Bass and treble are really very clear without equaliser. With equaliser, sound wary de...</td>\n",
       "      <td>4</td>\n",
       "    </tr>\n",
       "    <tr>\n",
       "      <th>3</th>\n",
       "      <td>I think it is such a good product not only as per the quality but also the design is quite good . I m using this product from January ... In this pandamic situation it has became the most useful a...</td>\n",
       "      <td>5</td>\n",
       "    </tr>\n",
       "    <tr>\n",
       "      <th>4</th>\n",
       "      <td>awesome bass sound quality very good bettary long life  and I have a purchase Rs.999  only really grateful product don't forget to likeREAD MORE</td>\n",
       "      <td>5</td>\n",
       "    </tr>\n",
       "  </tbody>\n",
       "</table>\n",
       "</div>"
      ],
      "text/plain": [
       "                                                                                                                                                                                                    review  \\\n",
       "0                                                                                                       It was nice produt. I like it's design a lot.  It's easy to carry. And.   Looked stylish.READ MORE   \n",
       "1                                                                   awesome sound....very pretty to see this nd the sound quality was too good I wish to take this product loved this product 😍😍😍READ MORE   \n",
       "2  awesome sound quality. pros 7-8 hrs of battery life (including 45 mins approx call time)Awesome sound output. Bass and treble are really very clear without equaliser. With equaliser, sound wary de...   \n",
       "3  I think it is such a good product not only as per the quality but also the design is quite good . I m using this product from January ... In this pandamic situation it has became the most useful a...   \n",
       "4                                                         awesome bass sound quality very good bettary long life  and I have a purchase Rs.999  only really grateful product don't forget to likeREAD MORE   \n",
       "\n",
       "   rating  \n",
       "0       5  \n",
       "1       5  \n",
       "2       4  \n",
       "3       5  \n",
       "4       5  "
      ]
     },
     "execution_count": 3,
     "metadata": {},
     "output_type": "execute_result"
    }
   ],
   "source": [
    "df = pd.read_csv('data.csv')\n",
    "df.head()"
   ]
  },
  {
   "cell_type": "code",
   "execution_count": 4,
   "metadata": {},
   "outputs": [],
   "source": [
    "# function to plot most frequent terms\n",
    "def freq_words(x, terms ):\n",
    "    all_words = ' '.join([text for text in x])\n",
    "    \n",
    "    all_words = all_words.split()\n",
    "    fdist = FreqDist(all_words)\n",
    "    words_df = pd.DataFrame({'word':list(fdist.keys()), 'count':list(fdist.values())})\n",
    "    # selecting top 30 most frequent words\n",
    "    d = words_df.nlargest(columns=\"count\", n = terms)\n",
    "    plt.figure(figsize=(20,5))\n",
    "    ax = sns.barplot(data=d, x= \"word\", y = \"count\")\n",
    "    ax.set(ylabel = 'Count')\n",
    "    plt.show()\n"
   ]
  },
  {
   "cell_type": "code",
   "execution_count": 5,
   "metadata": {},
   "outputs": [
    {
     "data": {
      "image/png": "[encoded data removed]",
      "text/plain": [
       "<Figure size 1440x360 with 1 Axes>"
      ]
     },
     "metadata": {
      "needs_background": "light"
     },
     "output_type": "display_data"
    }
   ],
   "source": [
    "freq_words(df['review'],30)"
   ]
  },
  {
   "cell_type": "code",
   "execution_count": 6,
   "metadata": {},
   "outputs": [],
   "source": [
    "# remove unwanted characters, numbers and symbols\n",
    "df['review'] = df['review'].str.replace(\"[^a-zA-Z#]\", \" \")"
   ]
  },
  {
   "cell_type": "code",
   "execution_count": 7,
   "metadata": {},
   "outputs": [],
   "source": [
    "from nltk.corpus import stopwords\n",
    "stop_words = stopwords.words('english')"
   ]
  },
  {
   "cell_type": "code",
   "execution_count": 8,
   "metadata": {},
   "outputs": [],
   "source": [
    "# function to remove stopwords\n",
    "def remove_stopwords(rev):\n",
    "    rev_new = \" \".join([i for i in rev if i not in stop_words])\n",
    "    return rev_new\n",
    "\n",
    "# remove short words (length < 3)\n",
    "df['review'] = df['review'].apply(lambda x: ' '.join([w for w in x.split() if len(w)>2]))\n",
    "\n",
    "# remove stopwords from the text\n",
    "reviews = [remove_stopwords(r.split()) for r in df['review']]\n",
    "\n",
    "# make entire text lowercase\n",
    "reviews = [r.lower() for r in reviews]"
   ]
  },
  {
   "cell_type": "code",
   "execution_count": 9,
   "metadata": {},
   "outputs": [
    {
     "data": {
      "image/png": "[encoded data removed]",
      "text/plain": [
       "<Figure size 1440x360 with 1 Axes>"
      ]
     },
     "metadata": {
      "needs_background": "light"
     },
     "output_type": "display_data"
    }
   ],
   "source": [
    "freq_words(reviews, 30)"
   ]
  },
  {
   "cell_type": "code",
   "execution_count": 10,
   "metadata": {},
   "outputs": [
    {
     "data": {
      "text/html": [
       "<div>\n",
       "<style scoped>\n",
       "    .dataframe tbody tr th:only-of-type {\n",
       "        vertical-align: middle;\n",
       "    }\n",
       "\n",
       "    .dataframe tbody tr th {\n",
       "        vertical-align: top;\n",
       "    }\n",
       "\n",
       "    .dataframe thead th {\n",
       "        text-align: right;\n",
       "    }\n",
       "</style>\n",
       "<table border=\"1\" class=\"dataframe\">\n",
       "  <thead>\n",
       "    <tr style=\"text-align: right;\">\n",
       "      <th></th>\n",
       "      <th>review</th>\n",
       "      <th>rating</th>\n",
       "    </tr>\n",
       "  </thead>\n",
       "  <tbody>\n",
       "    <tr>\n",
       "      <th>0</th>\n",
       "      <td>was nice produt like design lot easy carry And Looked stylish READ MORE</td>\n",
       "      <td>5</td>\n",
       "    </tr>\n",
       "    <tr>\n",
       "      <th>1</th>\n",
       "      <td>awesome sound very pretty see this the sound quality was too good wish take this product loved this product READ MORE</td>\n",
       "      <td>5</td>\n",
       "    </tr>\n",
       "    <tr>\n",
       "      <th>2</th>\n",
       "      <td>awesome sound quality pros hrs battery life including mins approx call time Awesome sound output Bass and treble are really very clear without equaliser With equaliser sound wary depends the hands...</td>\n",
       "      <td>4</td>\n",
       "    </tr>\n",
       "    <tr>\n",
       "      <th>3</th>\n",
       "      <td>think such good product not only per the quality but also the design quite good using this product from January this pandamic situation has became the most useful and helpful Overall the bass and ...</td>\n",
       "      <td>5</td>\n",
       "    </tr>\n",
       "    <tr>\n",
       "      <th>4</th>\n",
       "      <td>awesome bass sound quality very good bettary long life and have purchase only really grateful product don forget likeREAD MORE</td>\n",
       "      <td>5</td>\n",
       "    </tr>\n",
       "  </tbody>\n",
       "</table>\n",
       "</div>"
      ],
      "text/plain": [
       "                                                                                                                                                                                                    review  \\\n",
       "0                                                                                                                                  was nice produt like design lot easy carry And Looked stylish READ MORE   \n",
       "1                                                                                    awesome sound very pretty see this the sound quality was too good wish take this product loved this product READ MORE   \n",
       "2  awesome sound quality pros hrs battery life including mins approx call time Awesome sound output Bass and treble are really very clear without equaliser With equaliser sound wary depends the hands...   \n",
       "3  think such good product not only per the quality but also the design quite good using this product from January this pandamic situation has became the most useful and helpful Overall the bass and ...   \n",
       "4                                                                           awesome bass sound quality very good bettary long life and have purchase only really grateful product don forget likeREAD MORE   \n",
       "\n",
       "   rating  \n",
       "0       5  \n",
       "1       5  \n",
       "2       4  \n",
       "3       5  \n",
       "4       5  "
      ]
     },
     "execution_count": 10,
     "metadata": {},
     "output_type": "execute_result"
    }
   ],
   "source": [
    "df.head()"
   ]
  },
  {
   "cell_type": "code",
   "execution_count": 11,
   "metadata": {},
   "outputs": [
    {
     "name": "stderr",
     "output_type": "stream",
     "text": [
      "2021-12-12 14:01:09.916452: W tensorflow/stream_executor/platform/default/dso_loader.cc:60] Could not load dynamic library 'cudart64_110.dll'; dlerror: cudart64_110.dll not found\n",
      "2021-12-12 14:01:09.916546: I tensorflow/stream_executor/cuda/cudart_stub.cc:29] Ignore above cudart dlerror if you do not have a GPU set up on your machine.\n",
      "Traceback (most recent call last):\n",
      "  File \"C:\\Users\\kartik.sonaghela\\Anaconda3\\lib\\site-packages\\urllib3\\contrib\\pyopenssl.py\", line 485, in wrap_socket\n",
      "    cnx.do_handshake()\n",
      "  File \"C:\\Users\\kartik.sonaghela\\Anaconda3\\lib\\site-packages\\OpenSSL\\SSL.py\", line 1934, in do_handshake\n",
      "    self._raise_ssl_error(self._ssl, result)\n",
      "  File \"C:\\Users\\kartik.sonaghela\\Anaconda3\\lib\\site-packages\\OpenSSL\\SSL.py\", line 1671, in _raise_ssl_error\n",
      "    _raise_current_error()\n",
      "  File \"C:\\Users\\kartik.sonaghela\\Anaconda3\\lib\\site-packages\\OpenSSL\\_util.py\", line 54, in exception_from_error_queue\n",
      "    raise exception_type(errors)\n",
      "OpenSSL.SSL.Error: [('SSL routines', 'tls_process_server_certificate', 'certificate verify failed')]\n",
      "\n",
      "During handling of the above exception, another exception occurred:\n",
      "\n",
      "Traceback (most recent call last):\n",
      "  File \"C:\\Users\\kartik.sonaghela\\Anaconda3\\lib\\site-packages\\urllib3\\connectionpool.py\", line 665, in urlopen\n",
      "    httplib_response = self._make_request(\n",
      "  File \"C:\\Users\\kartik.sonaghela\\Anaconda3\\lib\\site-packages\\urllib3\\connectionpool.py\", line 376, in _make_request\n",
      "    self._validate_conn(conn)\n",
      "  File \"C:\\Users\\kartik.sonaghela\\Anaconda3\\lib\\site-packages\\urllib3\\connectionpool.py\", line 994, in _validate_conn\n",
      "    conn.connect()\n",
      "  File \"C:\\Users\\kartik.sonaghela\\Anaconda3\\lib\\site-packages\\urllib3\\connection.py\", line 386, in connect\n",
      "    self.sock = ssl_wrap_socket(\n",
      "  File \"C:\\Users\\kartik.sonaghela\\Anaconda3\\lib\\site-packages\\urllib3\\util\\ssl_.py\", line 365, in ssl_wrap_socket\n",
      "    return context.wrap_socket(sock, server_hostname=server_hostname)\n",
      "  File \"C:\\Users\\kartik.sonaghela\\Anaconda3\\lib\\site-packages\\urllib3\\contrib\\pyopenssl.py\", line 491, in wrap_socket\n",
      "    raise ssl.SSLError(\"bad handshake: %r\" % e)\n",
      "ssl.SSLError: (\"bad handshake: Error([('SSL routines', 'tls_process_server_certificate', 'certificate verify failed')])\",)\n",
      "\n",
      "During handling of the above exception, another exception occurred:\n",
      "\n",
      "Traceback (most recent call last):\n",
      "  File \"C:\\Users\\kartik.sonaghela\\Anaconda3\\lib\\site-packages\\requests\\adapters.py\", line 439, in send\n",
      "    resp = conn.urlopen(\n",
      "  File \"C:\\Users\\kartik.sonaghela\\Anaconda3\\lib\\site-packages\\urllib3\\connectionpool.py\", line 719, in urlopen\n",
      "    retries = retries.increment(\n",
      "  File \"C:\\Users\\kartik.sonaghela\\Anaconda3\\lib\\site-packages\\urllib3\\util\\retry.py\", line 436, in increment\n",
      "    raise MaxRetryError(_pool, url, error or ResponseError(cause))\n",
      "urllib3.exceptions.MaxRetryError: HTTPSConnectionPool(host='raw.githubusercontent.com', port=443): Max retries exceeded with url: /explosion/spacy-models/master/compatibility.json (Caused by SSLError(SSLError(\"bad handshake: Error([('SSL routines', 'tls_process_server_certificate', 'certificate verify failed')])\")))\n",
      "\n",
      "During handling of the above exception, another exception occurred:\n",
      "\n",
      "Traceback (most recent call last):\n",
      "  File \"C:\\Users\\kartik.sonaghela\\Anaconda3\\lib\\runpy.py\", line 194, in _run_module_as_main\n",
      "    return _run_code(code, main_globals, None,\n",
      "  File \"C:\\Users\\kartik.sonaghela\\Anaconda3\\lib\\runpy.py\", line 87, in _run_code\n",
      "    exec(code, run_globals)\n",
      "  File \"C:\\Users\\kartik.sonaghela\\Anaconda3\\lib\\site-packages\\spacy\\__main__.py\", line 4, in <module>\n",
      "    setup_cli()\n",
      "  File \"C:\\Users\\kartik.sonaghela\\Anaconda3\\lib\\site-packages\\spacy\\cli\\_util.py\", line 69, in setup_cli\n",
      "    command(prog_name=COMMAND)\n",
      "  File \"C:\\Users\\kartik.sonaghela\\Anaconda3\\lib\\site-packages\\click\\core.py\", line 829, in __call__\n",
      "    return self.main(*args, **kwargs)\n",
      "  File \"C:\\Users\\kartik.sonaghela\\Anaconda3\\lib\\site-packages\\click\\core.py\", line 782, in main\n",
      "    rv = self.invoke(ctx)\n",
      "  File \"C:\\Users\\kartik.sonaghela\\Anaconda3\\lib\\site-packages\\click\\core.py\", line 1259, in invoke\n",
      "    return _process_result(sub_ctx.command.invoke(sub_ctx))\n",
      "  File \"C:\\Users\\kartik.sonaghela\\Anaconda3\\lib\\site-packages\\click\\core.py\", line 1066, in invoke\n",
      "    return ctx.invoke(self.callback, **ctx.params)\n",
      "  File \"C:\\Users\\kartik.sonaghela\\Anaconda3\\lib\\site-packages\\click\\core.py\", line 610, in invoke\n",
      "    return callback(*args, **kwargs)\n",
      "  File \"C:\\Users\\kartik.sonaghela\\Anaconda3\\lib\\site-packages\\typer\\main.py\", line 497, in wrapper\n",
      "    return callback(**use_params)  # type: ignore\n",
      "  File \"C:\\Users\\kartik.sonaghela\\Anaconda3\\lib\\site-packages\\spacy\\cli\\download.py\", line 35, in download_cli\n",
      "    download(model, direct, sdist, *ctx.args)\n",
      "  File \"C:\\Users\\kartik.sonaghela\\Anaconda3\\lib\\site-packages\\spacy\\cli\\download.py\", line 67, in download\n",
      "    compatibility = get_compatibility()\n",
      "  File \"C:\\Users\\kartik.sonaghela\\Anaconda3\\lib\\site-packages\\spacy\\cli\\download.py\", line 78, in get_compatibility\n",
      "    r = requests.get(about.__compatibility__)\n",
      "  File \"C:\\Users\\kartik.sonaghela\\Anaconda3\\lib\\site-packages\\requests\\api.py\", line 75, in get\n",
      "    return request('get', url, params=params, **kwargs)\n",
      "  File \"C:\\Users\\kartik.sonaghela\\Anaconda3\\lib\\site-packages\\requests\\api.py\", line 60, in request\n",
      "    return session.request(method=method, url=url, **kwargs)\n",
      "  File \"C:\\Users\\kartik.sonaghela\\Anaconda3\\lib\\site-packages\\requests\\sessions.py\", line 533, in request\n",
      "    resp = self.send(prep, **send_kwargs)\n",
      "  File \"C:\\Users\\kartik.sonaghela\\Anaconda3\\lib\\site-packages\\requests\\sessions.py\", line 646, in send\n",
      "    r = adapter.send(request, **kwargs)\n",
      "  File \"C:\\Users\\kartik.sonaghela\\Anaconda3\\lib\\site-packages\\requests\\adapters.py\", line 514, in send\n",
      "    raise SSLError(e, request=request)\n",
      "requests.exceptions.SSLError: HTTPSConnectionPool(host='raw.githubusercontent.com', port=443): Max retries exceeded with url: /explosion/spacy-models/master/compatibility.json (Caused by SSLError(SSLError(\"bad handshake: Error([('SSL routines', 'tls_process_server_certificate', 'certificate verify failed')])\")))\n"
     ]
    }
   ],
   "source": [
    "!python -m spacy download en_core_web_sm "
   ]
  },
  {
   "cell_type": "code",
   "execution_count": 12,
   "metadata": {},
   "outputs": [],
   "source": [
    "\n",
    "nlp = spacy.load('en_core_web_sm', disable=['parser', 'ner'])\n",
    "\n",
    "def lemmatization(texts, tags=['NOUN', 'ADJ']): # filter noun and adjective\n",
    "    output = []\n",
    "    for sent in texts:\n",
    "        doc = nlp(\" \".join(sent)) \n",
    "        output.append([token.lemma_ for token in doc if token.pos_ in tags])\n",
    "    return output"
   ]
  },
  {
   "cell_type": "code",
   "execution_count": 13,
   "metadata": {},
   "outputs": [
    {
     "name": "stdout",
     "output_type": "stream",
     "text": [
      "['awesome', 'sound', 'pretty', 'see', 'sound', 'quality', 'good', 'wish', 'take', 'product', 'loved', 'product', 'read', 'more']\n"
     ]
    }
   ],
   "source": [
    "tokenized_reviews = pd.Series(reviews).apply(lambda x: x.split())\n",
    "print(tokenized_reviews[1])"
   ]
  },
  {
   "cell_type": "code",
   "execution_count": 14,
   "metadata": {},
   "outputs": [
    {
     "name": "stdout",
     "output_type": "stream",
     "text": [
      "['awesome', 'sound', 'sound', 'quality', 'good', 'wish', 'product', 'product']\n"
     ]
    }
   ],
   "source": [
    "reviews_2 = lemmatization(tokenized_reviews)\n",
    "print(reviews_2[1]) # print lemmatized review"
   ]
  },
  {
   "cell_type": "code",
   "execution_count": 15,
   "metadata": {},
   "outputs": [
    {
     "data": {
      "image/png": "[encoded data removed]",
      "text/plain": [
       "<Figure size 1440x360 with 1 Axes>"
      ]
     },
     "metadata": {
      "needs_background": "light"
     },
     "output_type": "display_data"
    }
   ],
   "source": [
    "reviews_3 = []\n",
    "for i in range(len(reviews_2)):\n",
    "    reviews_3.append(' '.join(reviews_2[i]))\n",
    "\n",
    "\n",
    "df['review'] = reviews_3\n",
    "\n",
    "freq_words(df['review'], 35)"
   ]
  },
  {
   "cell_type": "code",
   "execution_count": 16,
   "metadata": {},
   "outputs": [],
   "source": [
    "dictionary = corpora.Dictionary(reviews_2)"
   ]
  },
  {
   "cell_type": "code",
   "execution_count": 17,
   "metadata": {},
   "outputs": [
    {
     "name": "stdout",
     "output_type": "stream",
     "text": [
      "Dictionary(4440 unique tokens: ['carry', 'design', 'easy', 'lot', 'nice']...)\n",
      "4440\n",
      "design\n"
     ]
    }
   ],
   "source": [
    "print(dictionary)\n",
    "print(len(dictionary))\n",
    "print(dictionary[1])"
   ]
  },
  {
   "cell_type": "code",
   "execution_count": 18,
   "metadata": {},
   "outputs": [],
   "source": [
    "doc_term_matrix = [dictionary.doc2bow(rev) for rev in reviews_2]"
   ]
  },
  {
   "cell_type": "code",
   "execution_count": 19,
   "metadata": {},
   "outputs": [],
   "source": [
    "# Creating the object for LDA model using gensim library\n",
    "LDA = gensim.models.ldamodel.LdaModel\n",
    "\n",
    "# Build LDA model\n",
    "lda_model = LDA(corpus=doc_term_matrix, id2word=dictionary, num_topics=7, random_state=100,\n",
    "                chunksize=1000, passes=50)"
   ]
  },
  {
   "cell_type": "code",
   "execution_count": 20,
   "metadata": {},
   "outputs": [
    {
     "data": {
      "text/plain": [
       "[(0,\n",
       "  '0.078*\"headphone\" + 0.058*\"good\" + 0.039*\"boat\" + 0.036*\"bluetooth\" + 0.034*\"more\" + 0.028*\"bad\" + 0.026*\"price\" + 0.025*\"headset\" + 0.022*\"day\" + 0.020*\"range\"'),\n",
       " (1,\n",
       "  '0.210*\"product\" + 0.136*\"nice\" + 0.126*\"good\" + 0.120*\"productread\" + 0.055*\"awesome\" + 0.026*\"qualityread\" + 0.020*\"excellent\" + 0.020*\"love\" + 0.015*\"superread\" + 0.009*\"satisfied\"'),\n",
       " (2,\n",
       "  '0.096*\"ear\" + 0.044*\"good\" + 0.036*\"pain\" + 0.034*\"tight\" + 0.032*\"more\" + 0.031*\"long\" + 0.027*\"comfortable\" + 0.027*\"use\" + 0.027*\"time\" + 0.024*\"hour\"'),\n",
       " (3,\n",
       "  '0.063*\"battery\" + 0.056*\"great\" + 0.055*\"product\" + 0.036*\"amazing\" + 0.032*\"backup\" + 0.025*\"month\" + 0.019*\"cable\" + 0.018*\"worth\" + 0.014*\"purchase\" + 0.014*\"use\"'),\n",
       " (4,\n",
       "  '0.151*\"good\" + 0.117*\"quality\" + 0.109*\"sound\" + 0.062*\"bass\" + 0.062*\"product\" + 0.030*\"battery\" + 0.026*\"awesome\" + 0.020*\"backup\" + 0.017*\"headphone\" + 0.016*\"design\"'),\n",
       " (5,\n",
       "  '0.059*\"good\" + 0.047*\"sound\" + 0.047*\"bass\" + 0.040*\"quality\" + 0.031*\"music\" + 0.030*\"mic\" + 0.021*\"call\" + 0.019*\"headphone\" + 0.018*\"clear\" + 0.018*\"voice\"'),\n",
       " (6,\n",
       "  '0.354*\"more\" + 0.035*\"buy\" + 0.029*\"don\" + 0.016*\"amazing\" + 0.016*\"fantastic\" + 0.014*\"wonderful\" + 0.014*\"fabulous\" + 0.009*\"reasonable\" + 0.009*\"price\" + 0.009*\"excellentread\"')]"
      ]
     },
     "execution_count": 20,
     "metadata": {},
     "output_type": "execute_result"
    }
   ],
   "source": [
    "lda_model.print_topics()"
   ]
  },
  {
   "cell_type": "code",
   "execution_count": 21,
   "metadata": {},
   "outputs": [
    {
     "data": {
      "text/html": [
       "\n",
       "<link rel=\"stylesheet\" type=\"text/css\" href=\"https://cdn.jsdelivr.net/gh/bmabey/pyLDAvis@3.3.1/pyLDAvis/js/ldavis.v1.0.0.css\">\n",
       "\n",
       "\n",
       "<div id=\"ldavis_el236824313466543361890459906\"></div>\n",
       "<script type=\"text/javascript\">\n",
       "\n",
       "var ldavis_el236824313466543361890459906_data = {\"mdsDat\": {\"x\": [0.2421909585088779, 0.040861102060715124, -0.05352075216126255, -0.17110865199473135, 0.23596850035801992, -0.0343392830541016, -0.2600518737175169], \"y\": [0.04039812135115524, 0.23408809662286487, 0.09851450574037232, 0.11569250506658671, -0.1420181834721684, -0.22560671286406808, -0.12106833244474255], \"topics\": [1, 2, 3, 4, 5, 6, 7], \"cluster\": [1, 1, 1, 1, 1, 1, 1], \"Freq\": [27.899798186199483, 17.369368376521894, 15.955663564434388, 14.378396064492252, 9.678972715316608, 9.552944372437667, 5.164856720597708]}, \"tinfo\": {\"Term\": [\"more\", \"product\", \"quality\", \"nice\", \"sound\", \"productread\", \"ear\", \"good\", \"bass\", \"battery\", \"headphone\", \"awesome\", \"great\", \"backup\", \"boat\", \"amazing\", \"pain\", \"tight\", \"music\", \"mic\", \"bluetooth\", \"long\", \"comfortable\", \"month\", \"buy\", \"use\", \"hour\", \"bad\", \"day\", \"call\", \"value\", \"build\", \"light\", \"class\", \"productsread\", \"bassread\", \"osm\", \"version\", \"premium\", \"black\", \"carry\", \"rate\", \"body\", \"packaging\", \"son\", \"rating\", \"backupread\", \"red\", \"weight\", \"foldable\", \"proper\", \"start\", \"impressed\", \"boy\", \"lovely\", \"green\", \"packing\", \"pathetic\", \"such\", \"medium\", \"quality\", \"design\", \"sound\", \"superb\", \"bass\", \"good\", \"money\", \"backup\", \"battery\", \"awesome\", \"product\", \"excellent\", \"super\", \"powerful\", \"amazing\", \"overall\", \"deep\", \"price\", \"online\", \"base\", \"headphone\", \"delivery\", \"easy\", \"nice\", \"worth\", \"boat\", \"love\", \"comfortable\", \"thank\", \"music\", \"mic\", \"call\", \"clear\", \"voice\", \"high\", \"song\", \"noise\", \"average\", \"lover\", \"person\", \"cancellation\", \"clarity\", \"gaming\", \"microphone\", \"able\", \"heavy\", \"extra\", \"waste\", \"loud\", \"movie\", \"treble\", \"listen\", \"jbl\", \"stylish\", \"crystal\", \"talk\", \"listening\", \"rest\", \"meter\", \"poor\", \"volume\", \"bass\", \"audio\", \"low\", \"sound\", \"quality\", \"good\", \"range\", \"headphone\", \"price\", \"more\", \"great\", \"bluetooth\", \"phone\", \"connection\", \"rockerz\", \"wire\", \"speaker\", \"company\", \"new\", \"box\", \"return\", \"customer\", \"outstanding\", \"single\", \"right\", \"band\", \"condition\", \"feel\", \"jack\", \"durable\", \"worthy\", \"drawback\", \"attractive\", \"brilliant\", \"world\", \"meeting\", \"system\", \"paisa\", \"writing\", \"maximum\", \"designread\", \"combination\", \"budget\", \"sale\", \"year\", \"bad\", \"day\", \"bluetooth\", \"boat\", \"headset\", \"wireless\", \"side\", \"headphone\", \"flipkart\", \"first\", \"service\", \"connectivity\", \"range\", \"issue\", \"work\", \"delivery\", \"month\", \"experience\", \"price\", \"thank\", \"good\", \"more\", \"big\", \"buy\", \"time\", \"awesome\", \"review\", \"cable\", \"ear\", \"pain\", \"tight\", \"long\", \"awesomeread\", \"min\", \"uncomfortable\", \"minute\", \"fine\", \"size\", \"wear\", \"fit\", \"button\", \"soundread\", \"soft\", \"oneread\", \"mode\", \"half\", \"painful\", \"cup\", \"item\", \"headache\", \"pressure\", \"thisread\", \"hurt\", \"loose\", \"noice\", \"callsread\", \"cause\", \"headphoneread\", \"small\", \"little\", \"bit\", \"comfortable\", \"hour\", \"use\", \"head\", \"time\", \"usage\", \"cushion\", \"problem\", \"more\", \"good\", \"headphone\", \"thing\", \"productread\", \"qualityread\", \"superread\", \"bestread\", \"properlyread\", \"replacement\", \"policy\", \"superbread\", \"expectation\", \"iam\", \"grab\", \"prize\", \"help\", \"local\", \"highread\", \"perfectread\", \"durability\", \"comment\", \"goood\", \"past\", \"replace\", \"favorite\", \"rateread\", \"powerfull\", \"epic\", \"heart\", \"kit\", \"wrost\", \"happyread\", \"impression\", \"nice\", \"mind\", \"product\", \"satisfied\", \"hard\", \"read\", \"love\", \"awesome\", \"excellent\", \"good\", \"flipcart\", \"flipkartread\", \"happy\", \"gud\", \"thank\", \"performance\", \"price\", \"overall\", \"awsome\", \"purchase\", \"last\", \"charge\", \"aux\", \"working\", \"mark\", \"moneyread\", \"playing\", \"useful\", \"model\", \"headfone\", \"soo\", \"support\", \"awsm\", \"warranty\", \"penny\", \"free\", \"honest\", \"user\", \"doubt\", \"pubgread\", \"itread\", \"muchread\", \"charger\", \"delay\", \"headsetread\", \"satisfactory\", \"function\", \"complaint\", \"terrific\", \"cool\", \"great\", \"hrs\", \"game\", \"pubg\", \"battery\", \"cable\", \"full\", \"month\", \"amazing\", \"backup\", \"worth\", \"super\", \"product\", \"happy\", \"review\", \"life\", \"use\", \"hour\", \"day\", \"headset\", \"time\", \"perfect\", \"don\", \"fantastic\", \"wonderful\", \"fabulous\", \"reasonable\", \"excellentread\", \"word\", \"impressive\", \"nyc\", \"change\", \"earsread\", \"monthsread\", \"hearing\", \"buyread\", \"ultimate\", \"horrible\", \"rock\", \"stunning\", \"tightread\", \"callingread\", \"valuable\", \"sure\", \"effective\", \"beast\", \"sometime\", \"facility\", \"complete\", \"compatible\", \"tooth\", \"site\", \"more\", \"buy\", \"choice\", \"amazing\", \"piece\", \"full\", \"worth\", \"price\", \"blue\", \"beautiful\"], \"Freq\": [2011.0, 2758.0, 2549.0, 1080.0, 2482.0, 748.0, 891.0, 5150.0, 1637.0, 930.0, 1418.0, 954.0, 481.0, 550.0, 557.0, 503.0, 333.0, 314.0, 343.0, 340.0, 500.0, 286.0, 338.0, 312.0, 203.0, 385.0, 300.0, 364.0, 293.0, 231.0, 216.4247163275124, 122.10698623112853, 83.47008678943338, 77.31612831648422, 58.64754221869614, 57.9698206209388, 41.78979124193596, 28.046998734231625, 27.47407836992794, 26.570069147709454, 25.38443399494, 24.578845712089933, 24.317483161576835, 24.27435045404772, 23.598702764832144, 23.259819015255324, 22.303148372921957, 21.993576837734754, 64.07477726691417, 20.539589603652484, 19.946983799618852, 19.443489297213844, 19.062461806555394, 18.555964935547163, 18.46326289287188, 18.3341819072044, 16.530320668772923, 13.906800283099352, 13.0535569619714, 12.242650376432238, 2101.3843497846096, 279.9308003314364, 1954.500148698014, 244.63851864945894, 1115.586667639993, 2706.859085975385, 196.07774567413747, 350.7380772702226, 541.1946544967888, 469.4840547703014, 1114.7771339234885, 214.16374707727434, 139.99866615947064, 34.891138947605555, 230.19463447400096, 128.10205076151553, 37.58332469249825, 256.209776604755, 47.137420750412986, 80.97885109824608, 303.42472064065885, 99.4567085487132, 48.938003168649914, 230.9821689031167, 102.50842532580778, 151.8532191870012, 89.91284850217261, 87.2840588448469, 69.90778900410298, 342.2984065401679, 339.1457444172985, 230.44554154942392, 199.08998437645585, 199.05099565472804, 179.688689341911, 156.97290612813546, 135.08447980008702, 127.72586775502668, 103.9441087810475, 86.68355643390936, 79.32873726822818, 73.2320733455957, 69.80533671964221, 67.29579626345044, 62.36388922808577, 59.41439035108545, 54.81398616918568, 53.91759368303248, 50.08348622458028, 48.856879424806046, 45.82232652665907, 43.01258746119351, 42.87187942981396, 41.456717165505644, 39.27208878539182, 37.51932908198604, 35.877363022253526, 35.44733103439554, 33.866017272516146, 108.4497689143456, 108.97668818744074, 521.116728783337, 76.93446917081222, 111.77997935796171, 526.9007763135228, 447.3797452564957, 657.515280220827, 124.17133707262096, 210.32677921664447, 139.11407641832196, 189.62270805123129, 113.83141792102701, 111.0835235723427, 70.84136951565111, 91.14919810911609, 78.86422854050865, 78.58640620735491, 56.39900274671381, 46.44599582573107, 45.582187872605324, 41.93747425099718, 40.14579726560691, 35.92814458637409, 35.39293961395812, 28.064370297279062, 26.53027163765413, 26.293075731681835, 26.296337968873857, 24.705256354112734, 24.61585625924248, 22.66195516277725, 21.627456077686055, 21.302065219332142, 19.840418294271863, 19.255297751828834, 18.985514077037447, 16.993858610786972, 16.267140985190906, 16.301913522224552, 15.363965441839676, 13.34555939197252, 12.852812424678651, 12.354239011075839, 118.5483345255067, 67.18885583896751, 131.69045870613428, 282.63219285189024, 228.0056659490546, 367.142702478924, 404.5077897625516, 259.3678549720332, 94.59302283034043, 99.29052029297634, 804.1891294297619, 136.43941694624556, 72.54007031585785, 56.84496751445109, 143.94321159435228, 209.31367208099323, 105.43230824241535, 101.97189312400083, 133.30468144309808, 156.98900074135318, 90.3384355168567, 263.2355175676192, 128.5315248963832, 597.8520877030895, 353.51494167168556, 68.25755710652842, 86.1214486490186, 115.6653282308183, 145.46447846949914, 75.45282095901837, 75.70214465534171, 890.8462941158788, 332.47452501957105, 313.1208482773134, 285.1776510426725, 161.99940490570316, 119.15212829638213, 109.17775319238575, 106.45358328697175, 91.63472454349002, 76.5833434539982, 75.61752110316687, 75.1367776474506, 73.10175336107596, 55.296525251237846, 54.32016107305883, 52.12612766508319, 48.4702726930723, 43.87243168486121, 38.67885055108679, 37.152892010548584, 35.507678779325204, 34.249846520653556, 33.35371162702374, 29.40852413906316, 27.289145879266844, 23.118055332235414, 20.74140444267858, 20.2115088029846, 19.937696557938267, 18.793243781401426, 88.00816389463911, 201.8320113637034, 160.50078802018302, 250.53683648948842, 222.9790632582261, 248.25302335729586, 157.47047071753994, 247.54493599707362, 74.1969163206383, 61.49809604523435, 114.46956127555491, 293.4512693991794, 402.5837413356221, 99.90265693681721, 57.951672208762936, 747.9669250143994, 162.5593309454465, 93.63683129232352, 23.638570901045615, 19.018424687852292, 18.42240264090323, 16.109385028846546, 12.488260008854514, 10.349888195939977, 9.556220201004711, 9.27319083289191, 8.753950312537762, 8.466011987682123, 7.896407974233516, 7.726225257851078, 7.7257844506177555, 7.081351780714632, 6.386390586437578, 6.1177696071367675, 5.978048914423204, 5.5809782273573845, 5.4918750890500965, 5.4786403766401275, 5.2845910971964125, 5.262371227822832, 5.090850165669602, 4.989865137151161, 4.835741846196815, 4.793364274621631, 4.76990449918782, 848.3382311573475, 35.272526224723386, 1307.1632668807888, 58.76043514875512, 30.860116753670184, 50.403453826376314, 125.11968634086051, 339.13487847715044, 125.47379135146268, 785.4533690155004, 14.646290087203836, 20.613964469483854, 43.64980060390582, 22.643294759774058, 55.52547463686655, 21.542567973849447, 54.38271698981792, 26.025177987317985, 12.065269639322954, 87.21587924923945, 71.06076511244923, 66.40757975005003, 48.919327186805106, 46.646617157739, 42.11932277114278, 37.28026854867936, 29.75553160299263, 26.79216576360364, 24.29482657040359, 23.633222413820377, 22.470993381799907, 22.23040745432732, 21.9258030152008, 21.751881724534655, 21.62869688320189, 20.7335721819102, 19.89644219980865, 18.986678082581456, 18.342648083328587, 18.32675990206733, 18.291621588959593, 17.59272021262424, 16.824140874457264, 16.193933021384375, 16.13961458730082, 14.125486137054915, 13.965424141194003, 13.920162827705331, 13.611557767397917, 66.78531840194981, 342.7677362125947, 38.19366180083493, 34.038996701373186, 67.79126888271188, 388.5954690784036, 117.34364865000813, 62.30956058892315, 155.09081255119, 219.39936924074232, 199.34818730003664, 111.45010498151221, 82.64167186412416, 336.05430523928686, 63.4239393340336, 60.317845618843194, 50.773923723496566, 86.9390877000798, 76.3191987381324, 64.30217855635537, 42.714915249448005, 41.97902384391547, 32.29099100087346, 96.08127239491562, 52.514168651644155, 46.68442019793282, 45.5914456828194, 30.69151046579584, 28.49123955137372, 25.325743165900118, 21.093717539506237, 19.837628041699375, 16.916734606556243, 16.590867709431063, 16.040973790099745, 16.006133141719214, 15.543021806760336, 14.142434230742559, 12.99024868954675, 12.82449875825622, 12.263649447249755, 11.9980016699974, 11.579288176043855, 10.108276172057042, 9.999803735233971, 9.785708561199282, 9.734169090237891, 9.720340051895729, 9.548334531704807, 9.432492581655042, 9.149640003712449, 9.039886785659833, 8.062052803614009, 1174.185228376117, 116.16582547884897, 15.495995969528877, 53.51712077751379, 13.424507684986033, 19.51131310288955, 22.163492765183182, 28.55524462348177, 11.170774582786878, 11.373218355563894], \"Total\": [2011.0, 2758.0, 2549.0, 1080.0, 2482.0, 748.0, 891.0, 5150.0, 1637.0, 930.0, 1418.0, 954.0, 481.0, 550.0, 557.0, 503.0, 333.0, 314.0, 343.0, 340.0, 500.0, 286.0, 338.0, 312.0, 203.0, 385.0, 300.0, 364.0, 293.0, 231.0, 217.34901251593737, 123.03171920769712, 84.39435708581192, 78.24332860298645, 59.571120357965775, 58.89328785771439, 42.71435348673923, 28.972673734948962, 28.398850508058732, 27.494470502027255, 26.308653849574785, 25.503824806936866, 25.241862930312756, 25.19981743088097, 24.526770593438776, 24.185909243010183, 23.226740607573785, 22.918382554690435, 66.87340240287939, 21.464397149770452, 20.872978540453165, 20.370874652436246, 19.987029842867887, 19.480268259393785, 19.389941024990634, 19.25853545576976, 17.45480501535304, 14.837837636564936, 13.97841408700508, 13.16946243218003, 2549.5214829641786, 328.76190479191, 2482.1583350755986, 294.38042579918016, 1637.460843429355, 5150.575767532175, 273.8870714841866, 550.8461659499766, 930.5502435692545, 954.7179626171926, 2758.6309298819983, 372.7062351109157, 223.40009912308798, 41.1587434813315, 503.72424028954305, 232.72395716797044, 47.27254364483918, 766.6621057206762, 68.47494766553949, 160.02081044322466, 1418.2797078265473, 233.51968709814508, 74.20298034124939, 1080.1205266921384, 267.90253010288615, 557.119876812519, 279.1034833474534, 338.5913695147766, 254.59874958075133, 343.21234909460577, 340.05971538838975, 231.35926232490672, 200.00358757211214, 199.9648687199936, 180.60284501643196, 157.88680439134643, 135.99805397740022, 128.64021711493135, 104.85787951767188, 87.59700379153846, 80.24236021029645, 74.14623264585354, 70.71983423432046, 68.20966115427909, 63.277798783739, 60.328768948409476, 55.72801976001238, 54.83294859132347, 50.997005439277274, 49.77091145974415, 46.73650194032725, 43.92616694833815, 43.78591400144443, 42.37153369932153, 40.18563598030157, 38.433191464310035, 36.79127840356513, 36.36330821532008, 34.77998012016317, 132.13469976469702, 150.9795808603266, 1637.460843429355, 111.20068144852226, 197.32595335930824, 2482.1583350755986, 2549.5214829641786, 5150.575767532175, 393.2015191947022, 1418.2797078265473, 766.6621057206762, 2011.2206076489906, 481.84419917884185, 500.6185324533788, 163.22655029449234, 92.064652955656, 79.77928294041156, 79.50164542140223, 57.314691998397514, 47.36174660814353, 46.497470960100465, 42.85229913416705, 41.06123824233777, 36.84447374408176, 36.30870136764557, 28.98134732899013, 27.447018339152212, 27.20892878984634, 27.21258447053084, 25.622202479983674, 25.53185045650907, 23.57771779825627, 22.542980388422485, 22.218605464644916, 20.7578753522368, 20.170728486579584, 19.90248519362003, 17.910834681998416, 17.182586670088906, 17.219918105530905, 16.279379694069856, 14.26199000024819, 13.768940509017003, 13.274395704586478, 127.55234777949474, 74.65823280156357, 161.73701541893544, 364.5148865451314, 293.05904246142336, 500.6185324533788, 557.119876812519, 345.272703293292, 119.67890286562384, 128.36596280472918, 1418.2797078265473, 187.22878386545165, 93.21439364359044, 73.3462647176265, 233.42169273262408, 393.2015191947022, 163.6733879035268, 160.25006811657047, 233.51968709814508, 312.83074861221405, 145.88185155312277, 766.6621057206762, 254.59874958075133, 5150.575767532175, 2011.2206076489906, 104.12632474235127, 203.0557798663483, 428.08989288066107, 954.7179626171926, 150.4000863785842, 213.78704356310723, 891.7729805408376, 333.40098378471663, 314.0475678391823, 286.1045220473808, 162.92566959120543, 120.07900335970083, 110.10437601445629, 107.38020445246754, 92.56195718470187, 77.51020556301383, 76.54410008205193, 76.06427008747178, 74.02929771714372, 56.2230859508599, 55.24747940285799, 53.0528348051088, 49.39842746483628, 44.7993817393167, 39.60587605984488, 38.07922156979949, 36.43604233843997, 35.17607560450413, 34.27993502904069, 30.337370221025445, 28.215431885796765, 24.04565367250166, 21.669421285963587, 21.13848785804771, 20.86451940963194, 19.719978661613105, 99.4475219436904, 243.7970652394495, 195.21145856323866, 338.5913695147766, 300.06116442735583, 385.1075156762039, 232.52738223900454, 428.08989288066107, 98.67391306746127, 81.57712624327361, 232.58187233083262, 2011.2206076489906, 5150.575767532175, 1418.2797078265473, 162.5112318086624, 748.9228114143264, 163.5154558351262, 94.59255015174907, 24.595543187409213, 19.975742672209396, 19.380052514251638, 17.067521978482954, 13.445315249677273, 11.307825236702884, 10.513637411623437, 10.234171611996834, 9.711260380236242, 9.425168452447608, 8.855098709748875, 8.682348721646274, 8.682715062106164, 8.040604513533921, 7.350190718230559, 7.073727639824719, 6.9434845421681075, 6.538734352117849, 6.450981144022087, 6.4365744160376455, 6.242323209574329, 6.241467016422058, 6.051722488055961, 5.947823535613872, 5.792489240861171, 5.749669682246101, 5.72701570523357, 1080.1205266921384, 51.027189491710104, 2758.6309298819983, 91.79670879841791, 49.64552043977848, 88.59993590240187, 279.1034833474534, 954.7179626171926, 372.7062351109157, 5150.575767532175, 24.188948693460457, 41.50151758806893, 156.7189178667153, 55.50145634377253, 254.59874958075133, 60.15181410504047, 766.6621057206762, 232.72395716797044, 29.56394248250236, 88.13270437584058, 71.9775442216969, 67.32475085230637, 49.836094137063235, 47.56417988126522, 43.03708682524982, 38.19653294528154, 30.671944642116078, 27.709166120746293, 25.212163422789338, 24.550034203547277, 23.388329487613916, 23.147432958368434, 22.84183891191609, 22.66875370944857, 22.545071349787218, 21.650071497912148, 20.813552741845516, 19.904242508571638, 19.259573293742584, 19.243064589670826, 19.20761021059855, 18.50867413384457, 17.740912891992124, 17.110605432698573, 17.0562410878615, 15.042006821071297, 14.882651544607162, 14.836465720915315, 14.529044033867963, 80.24953353749845, 481.84419917884185, 44.75413928536879, 40.012861549775835, 93.33300051487271, 930.5502435692545, 213.78704356310723, 95.44787683744835, 312.83074861221405, 503.72424028954305, 550.8461659499766, 267.90253010288615, 223.40009912308798, 2758.6309298819983, 156.7189178667153, 150.4000863785842, 112.51671868771442, 385.1075156762039, 300.06116442735583, 293.05904246142336, 345.272703293292, 428.08989288066107, 168.75682586817814, 97.0153045313197, 53.44847839435466, 47.618436911387654, 46.525156901721886, 31.625227631265957, 29.42472754787403, 26.259393865148503, 22.028353259331645, 20.771087054587518, 17.852714650987437, 17.524256234882724, 16.974308687383985, 16.94039262687451, 16.476832053072215, 15.07577753319837, 13.92506780762445, 13.759900414300295, 13.197752814201355, 12.9317623972507, 12.51269072324385, 11.043040304529272, 10.93407975502403, 10.72072789700807, 10.668812801274315, 10.655776650240828, 10.482595293605284, 10.36916222988109, 10.084972012365187, 9.973336744045165, 8.996735596739757, 2011.2206076489906, 203.0557798663483, 30.26548735722394, 503.72424028954305, 25.142679090716737, 95.44787683744835, 267.90253010288615, 766.6621057206762, 28.98656796923862, 38.95909907350155], \"Category\": [\"Default\", \"Default\", \"Default\", \"Default\", \"Default\", \"Default\", \"Default\", \"Default\", \"Default\", \"Default\", \"Default\", \"Default\", \"Default\", \"Default\", \"Default\", \"Default\", \"Default\", \"Default\", \"Default\", \"Default\", \"Default\", \"Default\", \"Default\", \"Default\", \"Default\", \"Default\", \"Default\", \"Default\", \"Default\", \"Default\", \"Topic1\", \"Topic1\", \"Topic1\", \"Topic1\", \"Topic1\", \"Topic1\", \"Topic1\", \"Topic1\", \"Topic1\", \"Topic1\", \"Topic1\", \"Topic1\", \"Topic1\", \"Topic1\", \"Topic1\", \"Topic1\", \"Topic1\", \"Topic1\", \"Topic1\", \"Topic1\", \"Topic1\", \"Topic1\", \"Topic1\", \"Topic1\", \"Topic1\", \"Topic1\", \"Topic1\", \"Topic1\", \"Topic1\", \"Topic1\", \"Topic1\", \"Topic1\", \"Topic1\", \"Topic1\", \"Topic1\", \"Topic1\", \"Topic1\", \"Topic1\", \"Topic1\", \"Topic1\", \"Topic1\", \"Topic1\", \"Topic1\", \"Topic1\", \"Topic1\", \"Topic1\", \"Topic1\", \"Topic1\", \"Topic1\", \"Topic1\", \"Topic1\", \"Topic1\", \"Topic1\", \"Topic1\", \"Topic1\", \"Topic1\", \"Topic1\", \"Topic1\", \"Topic1\", \"Topic2\", \"Topic2\", \"Topic2\", \"Topic2\", \"Topic2\", \"Topic2\", \"Topic2\", \"Topic2\", \"Topic2\", \"Topic2\", \"Topic2\", \"Topic2\", \"Topic2\", \"Topic2\", \"Topic2\", \"Topic2\", \"Topic2\", \"Topic2\", \"Topic2\", \"Topic2\", \"Topic2\", \"Topic2\", \"Topic2\", \"Topic2\", \"Topic2\", \"Topic2\", \"Topic2\", \"Topic2\", \"Topic2\", \"Topic2\", \"Topic2\", \"Topic2\", \"Topic2\", \"Topic2\", \"Topic2\", \"Topic2\", \"Topic2\", \"Topic2\", \"Topic2\", \"Topic2\", \"Topic2\", \"Topic2\", \"Topic2\", \"Topic2\", \"Topic2\", \"Topic3\", \"Topic3\", \"Topic3\", \"Topic3\", \"Topic3\", \"Topic3\", \"Topic3\", \"Topic3\", \"Topic3\", \"Topic3\", \"Topic3\", \"Topic3\", \"Topic3\", \"Topic3\", \"Topic3\", \"Topic3\", \"Topic3\", \"Topic3\", \"Topic3\", \"Topic3\", \"Topic3\", \"Topic3\", \"Topic3\", \"Topic3\", \"Topic3\", \"Topic3\", \"Topic3\", \"Topic3\", \"Topic3\", \"Topic3\", \"Topic3\", \"Topic3\", \"Topic3\", \"Topic3\", \"Topic3\", \"Topic3\", \"Topic3\", \"Topic3\", \"Topic3\", \"Topic3\", \"Topic3\", \"Topic3\", \"Topic3\", \"Topic3\", \"Topic3\", \"Topic3\", \"Topic3\", \"Topic3\", \"Topic3\", \"Topic3\", \"Topic3\", \"Topic3\", \"Topic3\", \"Topic3\", \"Topic3\", \"Topic3\", \"Topic3\", \"Topic3\", \"Topic3\", \"Topic3\", \"Topic4\", \"Topic4\", \"Topic4\", \"Topic4\", \"Topic4\", \"Topic4\", \"Topic4\", \"Topic4\", \"Topic4\", \"Topic4\", \"Topic4\", \"Topic4\", \"Topic4\", \"Topic4\", \"Topic4\", \"Topic4\", \"Topic4\", \"Topic4\", \"Topic4\", \"Topic4\", \"Topic4\", \"Topic4\", \"Topic4\", \"Topic4\", \"Topic4\", \"Topic4\", \"Topic4\", \"Topic4\", \"Topic4\", \"Topic4\", \"Topic4\", \"Topic4\", \"Topic4\", \"Topic4\", \"Topic4\", \"Topic4\", \"Topic4\", \"Topic4\", \"Topic4\", \"Topic4\", \"Topic4\", \"Topic4\", \"Topic4\", \"Topic4\", \"Topic4\", \"Topic5\", \"Topic5\", \"Topic5\", \"Topic5\", \"Topic5\", \"Topic5\", \"Topic5\", \"Topic5\", \"Topic5\", \"Topic5\", \"Topic5\", \"Topic5\", \"Topic5\", \"Topic5\", \"Topic5\", \"Topic5\", \"Topic5\", \"Topic5\", \"Topic5\", \"Topic5\", \"Topic5\", \"Topic5\", \"Topic5\", \"Topic5\", \"Topic5\", \"Topic5\", \"Topic5\", \"Topic5\", \"Topic5\", \"Topic5\", \"Topic5\", \"Topic5\", \"Topic5\", \"Topic5\", \"Topic5\", \"Topic5\", \"Topic5\", \"Topic5\", \"Topic5\", \"Topic5\", \"Topic5\", \"Topic5\", \"Topic5\", \"Topic5\", \"Topic5\", \"Topic5\", \"Topic5\", \"Topic5\", \"Topic5\", \"Topic6\", \"Topic6\", \"Topic6\", \"Topic6\", \"Topic6\", \"Topic6\", \"Topic6\", \"Topic6\", \"Topic6\", \"Topic6\", \"Topic6\", \"Topic6\", \"Topic6\", \"Topic6\", \"Topic6\", \"Topic6\", \"Topic6\", \"Topic6\", \"Topic6\", \"Topic6\", \"Topic6\", \"Topic6\", \"Topic6\", \"Topic6\", \"Topic6\", \"Topic6\", \"Topic6\", \"Topic6\", \"Topic6\", \"Topic6\", \"Topic6\", \"Topic6\", \"Topic6\", \"Topic6\", \"Topic6\", \"Topic6\", \"Topic6\", \"Topic6\", \"Topic6\", \"Topic6\", \"Topic6\", \"Topic6\", \"Topic6\", \"Topic6\", \"Topic6\", \"Topic6\", \"Topic6\", \"Topic6\", \"Topic6\", \"Topic6\", \"Topic6\", \"Topic6\", \"Topic6\", \"Topic7\", \"Topic7\", \"Topic7\", \"Topic7\", \"Topic7\", \"Topic7\", \"Topic7\", \"Topic7\", \"Topic7\", \"Topic7\", \"Topic7\", \"Topic7\", \"Topic7\", \"Topic7\", \"Topic7\", \"Topic7\", \"Topic7\", \"Topic7\", \"Topic7\", \"Topic7\", \"Topic7\", \"Topic7\", \"Topic7\", \"Topic7\", \"Topic7\", \"Topic7\", \"Topic7\", \"Topic7\", \"Topic7\", \"Topic7\", \"Topic7\", \"Topic7\", \"Topic7\", \"Topic7\", \"Topic7\", \"Topic7\", \"Topic7\", \"Topic7\", \"Topic7\", \"Topic7\"], \"logprob\": [30.0, 29.0, 28.0, 27.0, 26.0, 25.0, 24.0, 23.0, 22.0, 21.0, 20.0, 19.0, 18.0, 17.0, 16.0, 15.0, 14.0, 13.0, 12.0, 11.0, 10.0, 9.0, 8.0, 7.0, 6.0, 5.0, 4.0, 3.0, 2.0, 1.0, -4.4166, -4.9889, -5.3693, -5.4459, -5.7223, -5.7339, -6.0611, -6.4599, -6.4806, -6.514, -6.5597, -6.5919, -6.6026, -6.6044, -6.6326, -6.6471, -6.6891, -6.703, -5.6337, -6.7714, -6.8007, -6.8263, -6.8461, -6.873, -6.878, -6.885, -6.9886, -7.1614, -7.2247, -7.2889, -2.1434, -4.1593, -2.2159, -4.294, -2.7767, -1.8903, -4.5153, -3.9338, -3.5, -3.6422, -2.7774, -4.4271, -4.8522, -6.2416, -4.3549, -4.941, -6.1672, -4.2478, -5.9407, -5.3996, -4.0787, -5.1941, -5.9032, -4.3515, -5.1639, -4.7709, -5.295, -5.3246, -5.5466, -3.4842, -3.4935, -3.8799, -4.0261, -4.0263, -4.1287, -4.2638, -4.414, -4.47, -4.676, -4.8576, -4.9463, -5.0263, -5.0742, -5.1108, -5.1869, -5.2354, -5.3159, -5.3324, -5.4062, -5.431, -5.4951, -5.5584, -5.5617, -5.5952, -5.6494, -5.695, -5.7398, -5.7518, -5.7975, -4.6336, -4.6288, -3.0639, -4.9769, -4.6034, -3.0529, -3.2165, -2.8314, -4.4982, -3.9712, -4.3846, -4.0749, -4.5852, -4.6096, -5.0594, -4.7225, -4.8673, -4.8708, -5.2025, -5.3967, -5.4155, -5.4988, -5.5425, -5.6535, -5.6685, -5.9005, -5.9567, -5.9657, -5.9656, -6.028, -6.0316, -6.1143, -6.161, -6.1762, -6.2473, -6.2772, -6.2913, -6.4021, -6.4458, -6.4437, -6.503, -6.6438, -6.6814, -6.721, -4.4597, -5.0275, -4.3545, -3.5908, -3.8056, -3.3292, -3.2323, -3.6767, -4.6854, -4.6369, -2.5452, -4.3191, -4.9509, -5.1947, -4.2656, -3.8912, -4.5769, -4.6103, -4.3424, -4.1788, -4.7314, -3.6619, -4.3788, -2.8417, -3.3671, -5.0117, -4.7792, -4.4843, -4.2551, -4.9115, -4.9082, -2.3387, -3.3243, -3.3843, -3.4778, -4.0433, -4.3505, -4.4379, -4.4632, -4.6131, -4.7925, -4.8052, -4.8116, -4.8391, -5.1182, -5.136, -5.1772, -5.25, -5.3496, -5.4756, -5.5159, -5.5612, -5.5972, -5.6237, -5.7496, -5.8244, -5.9903, -6.0988, -6.1247, -6.1383, -6.1974, -4.6535, -3.8235, -4.0526, -3.6073, -3.7238, -3.6165, -4.0717, -3.6193, -4.8242, -5.0119, -4.3906, -3.4492, -3.133, -4.5267, -5.0713, -2.1178, -3.6441, -4.1957, -5.5723, -5.7897, -5.8216, -5.9557, -6.2103, -6.3982, -6.4779, -6.508, -6.5656, -6.5991, -6.6687, -6.6905, -6.6906, -6.7777, -6.881, -6.9239, -6.947, -7.0158, -7.0319, -7.0343, -7.0703, -7.0746, -7.1077, -7.1277, -7.1591, -7.1679, -7.1728, -1.9919, -5.172, -1.5595, -4.6617, -5.3057, -4.8151, -3.9059, -2.9087, -3.903, -2.0689, -6.0509, -5.7092, -4.9589, -5.6153, -4.7183, -5.6651, -4.7391, -5.4761, -6.2448, -4.2536, -4.4585, -4.5262, -4.8319, -4.8794, -4.9815, -5.1036, -5.329, -5.4339, -5.5318, -5.5594, -5.6098, -5.6206, -5.6344, -5.6423, -5.648, -5.6903, -5.7315, -5.7783, -5.8128, -5.8137, -5.8156, -5.8545, -5.8992, -5.9374, -5.9408, -6.074, -6.0854, -6.0887, -6.1111, -4.5205, -2.885, -5.0794, -5.1945, -4.5056, -2.7595, -3.9569, -4.5899, -3.678, -3.3311, -3.427, -4.0085, -4.3075, -2.9048, -4.5722, -4.6224, -4.7946, -4.2568, -4.3871, -4.5584, -4.9675, -4.9849, -5.2472, -3.5419, -4.146, -4.2636, -4.2873, -4.6831, -4.7575, -4.8752, -5.0581, -5.1195, -5.2788, -5.2982, -5.3319, -5.3341, -5.3634, -5.4579, -5.5429, -5.5557, -5.6004, -5.6223, -5.6578, -5.7937, -5.8045, -5.8261, -5.8314, -5.8328, -5.8507, -5.8629, -5.8933, -5.9054, -6.0199, -1.0387, -3.352, -5.3665, -4.1271, -5.51, -5.1361, -5.0086, -4.7552, -5.6938, -5.6758], \"loglift\": [30.0, 29.0, 28.0, 27.0, 26.0, 25.0, 24.0, 23.0, 22.0, 21.0, 20.0, 19.0, 18.0, 17.0, 16.0, 15.0, 14.0, 13.0, 12.0, 11.0, 10.0, 9.0, 8.0, 7.0, 6.0, 5.0, 4.0, 3.0, 2.0, 1.0, 1.2723, 1.269, 1.2655, 1.2646, 1.2609, 1.2607, 1.2547, 1.2441, 1.2434, 1.2424, 1.2408, 1.2396, 1.2392, 1.2391, 1.238, 1.2375, 1.236, 1.2354, 1.2338, 1.2325, 1.2312, 1.23, 1.2292, 1.2279, 1.2276, 1.2274, 1.2221, 1.2117, 1.2081, 1.2036, 1.0832, 1.1158, 1.0376, 1.0915, 0.8928, 0.6332, 0.9423, 0.8251, 0.7346, 0.5668, 0.3705, 0.7225, 0.8092, 1.1113, 0.4934, 0.6795, 1.0472, 0.1805, 0.9031, 0.5954, -0.2655, 0.423, 0.8603, -0.2659, 0.3159, -0.0233, 0.1438, -0.0791, -0.016, 1.7478, 1.7478, 1.7465, 1.7459, 1.7459, 1.7454, 1.7447, 1.7437, 1.7433, 1.7417, 1.74, 1.739, 1.7381, 1.7374, 1.737, 1.7359, 1.7352, 1.7339, 1.7336, 1.7324, 1.7319, 1.7307, 1.7294, 1.7294, 1.7286, 1.7275, 1.7264, 1.7253, 1.7249, 1.7238, 1.5529, 1.4245, 0.6055, 1.3821, 1.1821, 0.2006, 0.0102, -0.3079, 0.5978, -0.1581, 0.0437, -0.611, 0.3076, 0.2449, 0.9158, 1.8254, 1.8238, 1.8238, 1.8193, 1.8158, 1.8155, 1.8138, 1.8128, 1.8102, 1.8098, 1.8032, 1.8014, 1.8011, 1.8011, 1.7989, 1.7988, 1.7957, 1.7939, 1.7932, 1.7902, 1.7889, 1.7882, 1.7828, 1.7806, 1.7806, 1.7775, 1.7689, 1.7665, 1.7635, 1.7622, 1.7299, 1.6298, 1.5809, 1.5844, 1.5253, 1.5152, 1.5493, 1.6001, 1.5785, 1.268, 1.5189, 1.5846, 1.5805, 1.3519, 1.2049, 1.3956, 1.3833, 1.2747, 1.1459, 1.3561, 0.7664, 1.1518, -0.3182, 0.0968, 1.413, 0.9776, 0.5267, -0.0461, 1.1456, 0.7972, 1.9384, 1.9367, 1.9365, 1.9362, 1.9337, 1.9317, 1.931, 1.9308, 1.9294, 1.9274, 1.9273, 1.9272, 1.9268, 1.9228, 1.9225, 1.9218, 1.9205, 1.9185, 1.9158, 1.9148, 1.9136, 1.9128, 1.9121, 1.9083, 1.9061, 1.9001, 1.8957, 1.8946, 1.894, 1.8913, 1.8172, 1.7505, 1.7437, 1.6383, 1.6425, 1.5004, 1.5497, 1.3917, 1.6543, 1.6569, 1.2305, 0.0147, -0.6095, -0.7136, 0.9083, 2.3339, 2.3293, 2.3251, 2.2955, 2.2861, 2.2845, 2.2774, 2.2614, 2.2467, 2.2397, 2.2366, 2.2314, 2.2279, 2.2206, 2.2185, 2.2184, 2.2082, 2.1947, 2.19, 2.1855, 2.1768, 2.1743, 2.1741, 2.1687, 2.1646, 2.1623, 2.1596, 2.1547, 2.1533, 2.1523, 2.0937, 1.966, 1.5883, 1.8891, 1.8598, 1.7711, 1.5329, 1.3002, 1.2465, 0.4546, 1.8335, 1.6355, 1.057, 1.4387, 0.8124, 1.3084, -0.3108, 0.1444, 1.439, 2.3379, 2.3355, 2.3346, 2.3298, 2.3288, 2.3268, 2.324, 2.318, 2.3147, 2.3113, 2.3103, 2.3083, 2.3079, 2.3074, 2.307, 2.3068, 2.3051, 2.3033, 2.3011, 2.2995, 2.2995, 2.2995, 2.2976, 2.2953, 2.2933, 2.2931, 2.2855, 2.2847, 2.2846, 2.2831, 2.1647, 2.0078, 2.1898, 2.1866, 2.0286, 1.4751, 1.7484, 1.9219, 1.6467, 1.5172, 1.3319, 1.4713, 1.3539, 0.2431, 1.4437, 1.4346, 1.5526, 0.86, 0.9793, 0.8315, 0.2585, 0.0262, 0.6947, 2.9536, 2.9457, 2.9435, 2.943, 2.9333, 2.9311, 2.9271, 2.9199, 2.9173, 2.9094, 2.9086, 2.9067, 2.9066, 2.9049, 2.8994, 2.8938, 2.8929, 2.8899, 2.8883, 2.8858, 2.8748, 2.874, 2.872, 2.8716, 2.8714, 2.8699, 2.8686, 2.866, 2.865, 2.8536, 2.4251, 2.4048, 2.2939, 0.7213, 2.3358, 1.3757, 0.4711, -0.3269, 2.0098, 1.732]}, \"token.table\": {\"Topic\": [2, 1, 6, 7, 3, 2, 3, 6, 2, 1, 3, 5, 4, 6, 1, 5, 1, 6, 1, 2, 3, 4, 3, 1, 2, 3, 1, 2, 1, 1, 6, 7, 1, 7, 5, 3, 4, 2, 4, 1, 1, 7, 2, 3, 6, 1, 3, 1, 3, 1, 3, 2, 3, 1, 4, 3, 7, 7, 3, 4, 6, 2, 7, 4, 2, 1, 4, 7, 6, 6, 1, 7, 2, 1, 2, 3, 1, 4, 5, 3, 7, 6, 7, 3, 3, 1, 2, 3, 4, 2, 6, 2, 4, 2, 4, 3, 3, 6, 1, 2, 6, 1, 3, 1, 4, 3, 7, 6, 3, 5, 3, 4, 7, 1, 4, 7, 5, 1, 2, 5, 7, 5, 2, 3, 2, 7, 7, 7, 5, 3, 4, 3, 6, 4, 5, 6, 1, 3, 6, 1, 5, 1, 6, 3, 6, 7, 6, 4, 6, 2, 1, 2, 3, 4, 5, 5, 5, 2, 4, 6, 1, 1, 2, 5, 4, 1, 5, 6, 5, 2, 5, 2, 3, 4, 4, 6, 1, 2, 3, 4, 4, 3, 4, 6, 6, 7, 5, 2, 5, 2, 5, 6, 7, 4, 6, 2, 6, 4, 5, 1, 5, 7, 2, 3, 4, 4, 6, 3, 2, 5, 6, 1, 6, 1, 2, 2, 2, 4, 5, 4, 4, 2, 1, 3, 5, 1, 2, 1, 2, 3, 6, 3, 1, 3, 2, 2, 2, 4, 3, 5, 4, 4, 6, 1, 2, 3, 6, 6, 3, 6, 7, 2, 3, 4, 7, 2, 6, 2, 3, 1, 5, 4, 2, 7, 4, 1, 3, 1, 3, 1, 2, 4, 5, 1, 1, 4, 4, 3, 5, 1, 6, 1, 2, 3, 6, 5, 3, 4, 5, 6, 7, 2, 2, 3, 4, 2, 7, 6, 5, 2, 3, 1, 2, 5, 1, 4, 1, 2, 3, 5, 6, 7, 5, 1, 2, 3, 4, 6, 1, 5, 6, 5, 1, 1, 5, 2, 6, 6, 6, 1, 2, 5, 1, 2, 3, 1, 5, 1, 4, 5, 7, 1, 5, 5, 2, 3, 2, 3, 6, 3, 7, 3, 3, 6, 6, 2, 5, 1, 3, 2, 3, 3, 7, 4, 2, 4, 4, 7, 1, 2, 6, 1, 2, 4, 3, 1, 7, 2, 1, 1, 6, 1, 2, 5, 5, 6, 7, 3, 2, 6, 1, 3, 5, 2, 3, 4, 6, 4, 4, 7, 2, 3, 4, 6, 7, 2, 7, 4, 3, 4, 6, 2, 4, 6, 6, 6, 7, 1, 1, 2, 2, 4, 6, 2, 4, 1, 2, 3, 2, 3, 7, 7, 3, 4, 6, 6, 3, 1, 3, 6, 7, 3, 3, 5, 3, 6], \"Freq\": [0.9798065228516235, 0.45659903098527665, 0.4347616860251112, 0.10720151162263017, 0.9634897435611043, 0.6924417997891977, 0.3057535219848405, 0.9832231206810923, 0.9950231962500549, 0.491244554270581, 0.15187731422011566, 0.355078686349098, 0.9943184545840565, 0.9631448713405942, 0.5750247961705912, 0.4058998561204173, 0.6372014941679289, 0.36126238558238705, 0.947184125904701, 0.1179650038645982, 0.77637432776003, 0.10699151513300767, 0.9555686738282222, 0.5061841630200891, 0.31870854708672275, 0.1687280543400297, 0.6815430148929529, 0.3181755472752943, 0.9848320939412898, 0.581376453059557, 0.4180322370428238, 0.9373114128317604, 0.6930345064977219, 0.28234739153610894, 0.9757865405585318, 0.6530529159485677, 0.3361301773264687, 0.17417010379534517, 0.8247466679720756, 0.9820156383084083, 0.5864785378538394, 0.3794861127289549, 0.22172571090411464, 0.7330931162325232, 0.04394563639541011, 0.27283176624328337, 0.7269530613719063, 0.9508014549583259, 0.9801107723182234, 0.9753459114115541, 0.9419590379515287, 0.06271934730538983, 0.9329502911676737, 0.9916142014893297, 0.9860960761632978, 0.4235289439020419, 0.5712715987515914, 0.9710604531540815, 0.3554939473100752, 0.09355103876580927, 0.5472735767799842, 0.9941248847733709, 0.9590263409698552, 0.9461414711547461, 0.9845174019428078, 0.9502576658974159, 0.9585650935610412, 0.9522361350832281, 0.9803229743068409, 0.9582370480874997, 0.4625730897625344, 0.4956140247455726, 0.9845409186016459, 0.9841094617881709, 0.9949821521488944, 0.9039959533415025, 0.25694689183801894, 0.7413065500154339, 0.8163053490732284, 0.9712479647465243, 0.8924169535587305, 0.9436209582086568, 0.8679582593533411, 0.955440304766202, 0.9884358119921572, 0.1413750350863931, 0.21420459861574712, 0.6169092440133518, 0.025704551833889654, 0.1619947110835909, 0.8348958186615839, 0.9704960254733122, 0.9716585180760254, 0.2329084251305878, 0.7477586280508345, 0.9770800432665318, 0.778000221678922, 0.21838602713794303, 0.8038492763472972, 0.19038535492435987, 0.9350925695138645, 0.4239471251020976, 0.5695451276624139, 0.8516801853220376, 0.14600231748377787, 0.9441539813093506, 0.9895345941939302, 0.9346001453650161, 0.9451538276520546, 0.870581308683647, 0.9754972977792195, 0.9991332092834111, 0.9700839665971575, 0.6603508346249124, 0.323437143489753, 0.932772484859987, 0.8010937151224853, 0.5741787494816516, 0.08585850459538714, 0.33538478357573104, 0.9515806035737799, 0.8843433454862787, 0.37701742481635414, 0.6169376042449431, 0.9869361990046025, 0.9887124098725512, 0.9539622316717996, 0.9916091457076536, 0.7750758975064338, 0.9757162765195636, 0.9939288536911497, 0.7831408556828561, 0.21455913854324823, 0.9860082784433756, 0.6201178972302871, 0.3720707383381723, 0.25102977773853213, 0.7263840377114973, 0.016023177302459498, 0.48191008816867226, 0.5060055925771059, 0.9783643050149481, 0.9699737020279662, 0.13619999135381014, 0.649569189533556, 0.20953844823663098, 0.9406925881479099, 0.124959820576192, 0.8497267799181056, 0.9898213246380727, 0.5255723092288419, 0.12775270759977023, 0.11610352453596139, 0.07824367957858268, 0.15241014508483225, 0.8482090780849847, 0.8794067894513223, 0.23659099807422945, 0.051883990805752074, 0.7118483538549184, 0.9346505107483285, 0.4144035402880142, 0.1801754522991366, 0.4144035402880142, 0.9821564113547766, 0.3126616790557029, 0.28075742609083526, 0.4019935873573323, 0.8696151737966895, 0.36257047646090335, 0.6244269316826669, 0.043005687776252716, 0.27953697054564264, 0.6751892980871677, 0.9665660371632379, 0.9775953793389094, 0.21363909976850368, 0.14806670280985404, 0.566883947900584, 0.07050795371897811, 0.9634898863752518, 0.7501317003330911, 0.12453923982364061, 0.12453923982364061, 0.9380730442059005, 0.9444881445437897, 0.8262110514598607, 0.977974538987431, 0.8487911956547038, 0.996662040310732, 0.9214096618873316, 0.9609123559088558, 0.9335681649522781, 0.7431818123667511, 0.25328169390077615, 0.1340658114714664, 0.8490834726526205, 0.9569231514613605, 0.9511456034183202, 0.9506164822573627, 0.8730550529887329, 0.9533168345710992, 0.24438914909965087, 0.6415215163865835, 0.1099751170948429, 0.9880326646239528, 0.9371285549134997, 0.9791691378807414, 0.9820509855882303, 0.8406436354510898, 0.9864187611251922, 0.5421416542487613, 0.4532659732243741, 0.9834780768056075, 0.9789153706621517, 0.9784927722574475, 0.1681726560560979, 0.8285579639837019, 0.9034343108103958, 0.996139445684127, 0.9565138179754514, 0.9804497258086179, 0.32246104176335133, 0.22572272923434594, 0.44786255800465463, 0.928316387182446, 0.9918186451831948, 0.2432523405200401, 0.5675887945467603, 0.18750701248419757, 0.9759024854665264, 0.9115137508702342, 0.9111989241624314, 0.9491461621878591, 0.977573876768521, 0.9968837373542484, 0.9822655451763199, 0.9910142212250993, 0.29396092846612504, 0.6859088330876251, 0.9871465652397925, 0.9716908505674248, 0.9519214831959378, 0.7156234098158826, 0.04381367815199281, 0.18255699229997005, 0.054767097689991016, 0.9686743048905608, 0.5018688242651546, 0.49547559083502524, 0.9426009797908217, 0.09446999462783938, 0.176012516306606, 0.14568267592608916, 0.5837251247004391, 0.9845108028538381, 0.9725169868913291, 0.9964676413951772, 0.9893011178924689, 0.21386502181144165, 0.785097569247197, 0.9691075605052173, 0.9926612628033187, 0.962876904200485, 0.9801549755262575, 0.6863824157934054, 0.3066815049289684, 0.9832760318621936, 0.9639562606661625, 0.5500078357107642, 0.17617438487610415, 0.15898664001014276, 0.11172034162874897, 0.9523878522464746, 0.9739438501345047, 0.9957979014674375, 0.9847023694431252, 0.9291565675251918, 0.8641194437118306, 0.9435337104309425, 0.9758230372691917, 0.2844329392488958, 0.1303650971557439, 0.3910952914672317, 0.18962195949926386, 0.921370785840281, 0.21611983268366056, 0.08312301257063867, 0.3657412553108102, 0.23274443519778829, 0.11637221759889414, 0.9931846551172093, 0.43497825489727154, 0.3614608033653383, 0.20217299171281633, 0.43750309823034955, 0.5170491160904132, 0.9780925321183118, 0.9374530186731981, 0.8173477534086381, 0.17406479933702476, 0.8503660957452469, 0.1457770449848995, 0.8009838376089077, 0.9507427067281551, 0.9626622679431458, 0.33391502995880484, 0.1813054264229448, 0.3430455190592409, 0.0704352016319354, 0.03260888964441454, 0.03782631198752086, 0.9267592101964689, 0.04299561225380304, 0.10748903063450758, 0.2493745510720576, 0.4901499796933546, 0.10748903063450758, 0.40418599962833546, 0.47378574126837164, 0.12179954787006342, 0.9987678150534851, 0.9904127981052919, 0.9581766186957326, 0.9511536222597187, 0.2678580980155698, 0.7285740266023498, 0.9354019426646798, 0.9871477406274727, 0.8240762096098484, 0.17532701841770693, 0.9968476629166729, 0.15005028495524422, 0.31535992092288617, 0.5315340602651872, 0.9802451275151549, 0.7768107189970157, 0.9509669357023278, 0.4176075255941236, 0.564334494046113, 0.980230098623928, 0.9599281252724146, 0.9176087721099486, 0.9287900529043056, 0.9625086857541275, 0.9741547433110884, 0.09308505292184122, 0.49866992636700647, 0.3989359410936052, 0.9837134098273052, 0.9447742795063726, 0.9902320137297597, 0.8974227956624874, 0.09376059059160316, 0.9307268748468042, 0.3485963758272727, 0.642724567931534, 0.21814335142488717, 0.7771356894511605, 0.21812635832906666, 0.7712324812349143, 0.9661386574664703, 0.889211416071741, 0.9934175692180426, 0.11061110206676107, 0.8848888165340886, 0.9774201571485005, 0.9384581085203201, 0.9785226272887433, 0.9943832900110616, 0.9406400748566008, 0.7876209879014253, 0.21231522282560158, 0.9782458410068615, 0.9770618675149773, 0.9327041830149253, 0.9092457003049398, 0.9676307752026571, 0.9300053581962023, 0.6266783253433716, 0.3715307214535703, 0.8322564223992719, 0.16645128447985438, 0.8925041754069719, 0.9937357630088366, 0.9504293646542951, 0.9145717082779796, 0.9311752826978299, 0.9887287147435491, 0.963587140858357, 0.27494243438064503, 0.506679629072903, 0.21995394750451602, 0.27690393764895055, 0.3322847251787407, 0.35689840852531407, 0.036920525019860075, 0.9559167386203247, 0.9966643020151688, 0.9279477639143142, 0.051391075486411815, 0.2709711252919896, 0.5793175782104605, 0.09811023501951346, 0.9024061085046265, 0.9842413978421489, 0.9286419867347206, 0.9899697354961505, 0.11147829915774732, 0.7499449216066638, 0.1317470808227923, 0.12723719482327348, 0.6439760064524862, 0.22591093774744475, 0.974406803955918, 0.9545703631684436, 0.9055477227497329, 0.9937933349670109, 0.966427891887118, 0.9951748088243206, 0.7219519313730078, 0.27155990079168185, 0.9704988762055399, 0.9848093415962081, 0.9928916783727463, 0.9570322086265545, 0.029907256519579827, 0.9936901252956057, 0.20053659772388904, 0.7937906993237275, 0.9870126583000091, 0.9520402537996137, 0.6365051896627107, 0.224648890469192, 0.13728543306450622, 0.9881385554702387, 0.9546546481587469, 0.3844681868455798, 0.11571372613799004, 0.4143297935908676, 0.08211941854954131, 0.9759135491817512, 0.9214110292828971, 0.863186756520699, 0.8161397046810228, 0.17930341996780047], \"Term\": [\"able\", \"amazing\", \"amazing\", \"amazing\", \"attractive\", \"audio\", \"audio\", \"aux\", \"average\", \"awesome\", \"awesome\", \"awesome\", \"awesomeread\", \"awsm\", \"awsome\", \"awsome\", \"backup\", \"backup\", \"backupread\", \"bad\", \"bad\", \"bad\", \"band\", \"base\", \"base\", \"base\", \"bass\", \"bass\", \"bassread\", \"battery\", \"battery\", \"beast\", \"beautiful\", \"beautiful\", \"bestread\", \"big\", \"big\", \"bit\", \"bit\", \"black\", \"blue\", \"blue\", \"bluetooth\", \"bluetooth\", \"bluetooth\", \"boat\", \"boat\", \"body\", \"box\", \"boy\", \"brilliant\", \"budget\", \"budget\", \"build\", \"button\", \"buy\", \"buy\", \"buyread\", \"cable\", \"cable\", \"cable\", \"call\", \"callingread\", \"callsread\", \"cancellation\", \"carry\", \"cause\", \"change\", \"charge\", \"charger\", \"choice\", \"choice\", \"clarity\", \"class\", \"clear\", \"combination\", \"comfortable\", \"comfortable\", \"comment\", \"company\", \"compatible\", \"complaint\", \"complete\", \"condition\", \"connection\", \"connectivity\", \"connectivity\", \"connectivity\", \"connectivity\", \"cool\", \"cool\", \"crystal\", \"cup\", \"cushion\", \"cushion\", \"customer\", \"day\", \"day\", \"deep\", \"deep\", \"delay\", \"delivery\", \"delivery\", \"design\", \"design\", \"designread\", \"don\", \"doubt\", \"drawback\", \"durability\", \"durable\", \"ear\", \"earsread\", \"easy\", \"easy\", \"effective\", \"epic\", \"excellent\", \"excellent\", \"excellent\", \"excellentread\", \"expectation\", \"experience\", \"experience\", \"extra\", \"fabulous\", \"facility\", \"fantastic\", \"favorite\", \"feel\", \"fine\", \"first\", \"first\", \"fit\", \"flipcart\", \"flipcart\", \"flipkart\", \"flipkart\", \"flipkart\", \"flipkartread\", \"flipkartread\", \"foldable\", \"free\", \"full\", \"full\", \"full\", \"function\", \"game\", \"game\", \"gaming\", \"good\", \"good\", \"good\", \"good\", \"good\", \"goood\", \"grab\", \"great\", \"great\", \"great\", \"green\", \"gud\", \"gud\", \"gud\", \"half\", \"happy\", \"happy\", \"happy\", \"happyread\", \"hard\", \"hard\", \"head\", \"head\", \"head\", \"headache\", \"headfone\", \"headphone\", \"headphone\", \"headphone\", \"headphone\", \"headphoneread\", \"headset\", \"headset\", \"headset\", \"headsetread\", \"hearing\", \"heart\", \"heavy\", \"help\", \"high\", \"highread\", \"honest\", \"horrible\", \"hour\", \"hour\", \"hrs\", \"hrs\", \"hurt\", \"iam\", \"impressed\", \"impression\", \"impressive\", \"issue\", \"issue\", \"issue\", \"item\", \"itread\", \"jack\", \"jbl\", \"kit\", \"last\", \"life\", \"life\", \"light\", \"listen\", \"listening\", \"little\", \"little\", \"local\", \"long\", \"loose\", \"loud\", \"love\", \"love\", \"love\", \"lovely\", \"lover\", \"low\", \"low\", \"low\", \"mark\", \"maximum\", \"medium\", \"meeting\", \"meter\", \"mic\", \"microphone\", \"min\", \"mind\", \"mind\", \"minute\", \"mode\", \"model\", \"money\", \"money\", \"money\", \"money\", \"moneyread\", \"month\", \"month\", \"monthsread\", \"more\", \"more\", \"more\", \"more\", \"movie\", \"muchread\", \"music\", \"new\", \"nice\", \"nice\", \"noice\", \"noise\", \"nyc\", \"oneread\", \"online\", \"online\", \"osm\", \"outstanding\", \"overall\", \"overall\", \"overall\", \"overall\", \"packaging\", \"packing\", \"pain\", \"painful\", \"paisa\", \"past\", \"pathetic\", \"penny\", \"perfect\", \"perfect\", \"perfect\", \"perfect\", \"perfectread\", \"performance\", \"performance\", \"performance\", \"performance\", \"performance\", \"person\", \"phone\", \"phone\", \"phone\", \"piece\", \"piece\", \"playing\", \"policy\", \"poor\", \"poor\", \"powerful\", \"powerful\", \"powerfull\", \"premium\", \"pressure\", \"price\", \"price\", \"price\", \"price\", \"price\", \"price\", \"prize\", \"problem\", \"problem\", \"problem\", \"problem\", \"problem\", \"product\", \"product\", \"product\", \"productread\", \"productsread\", \"proper\", \"properlyread\", \"pubg\", \"pubg\", \"pubgread\", \"purchase\", \"quality\", \"quality\", \"qualityread\", \"range\", \"range\", \"range\", \"rate\", \"rateread\", \"rating\", \"read\", \"read\", \"reasonable\", \"red\", \"replace\", \"replacement\", \"rest\", \"return\", \"review\", \"review\", \"review\", \"right\", \"rock\", \"rockerz\", \"sale\", \"sale\", \"satisfactory\", \"satisfied\", \"satisfied\", \"service\", \"service\", \"side\", \"side\", \"single\", \"site\", \"size\", \"small\", \"small\", \"soft\", \"sometime\", \"son\", \"song\", \"soo\", \"sound\", \"sound\", \"soundread\", \"speaker\", \"start\", \"stunning\", \"stylish\", \"such\", \"super\", \"super\", \"superb\", \"superb\", \"superbread\", \"superread\", \"support\", \"sure\", \"system\", \"talk\", \"terrific\", \"thank\", \"thank\", \"thank\", \"thing\", \"thing\", \"thing\", \"thing\", \"thisread\", \"tight\", \"tightread\", \"time\", \"time\", \"time\", \"time\", \"tooth\", \"treble\", \"ultimate\", \"uncomfortable\", \"usage\", \"usage\", \"usage\", \"use\", \"use\", \"use\", \"useful\", \"user\", \"valuable\", \"value\", \"version\", \"voice\", \"volume\", \"volume\", \"warranty\", \"waste\", \"wear\", \"weight\", \"weight\", \"wire\", \"wireless\", \"wireless\", \"wonderful\", \"word\", \"work\", \"work\", \"work\", \"working\", \"world\", \"worth\", \"worth\", \"worth\", \"worth\", \"worthy\", \"writing\", \"wrost\", \"year\", \"year\"]}, \"R\": 30, \"lambda.step\": 0.01, \"plot.opts\": {\"xlab\": \"PC1\", \"ylab\": \"PC2\"}, \"topic.order\": [5, 6, 1, 3, 2, 4, 7]};\n",
       "\n",
       "function LDAvis_load_lib(url, callback){\n",
       "  var s = document.createElement('script');\n",
       "  s.src = url;\n",
       "  s.async = true;\n",
       "  s.onreadystatechange = s.onload = callback;\n",
       "  s.onerror = function(){console.warn(\"failed to load library \" + url);};\n",
       "  document.getElementsByTagName(\"head\")[0].appendChild(s);\n",
       "}\n",
       "\n",
       "if(typeof(LDAvis) !== \"undefined\"){\n",
       "   // already loaded: just create the visualization\n",
       "   !function(LDAvis){\n",
       "       new LDAvis(\"#\" + \"ldavis_el236824313466543361890459906\", ldavis_el236824313466543361890459906_data);\n",
       "   }(LDAvis);\n",
       "}else if(typeof define === \"function\" && define.amd){\n",
       "   // require.js is available: use it to load d3/LDAvis\n",
       "   require.config({paths: {d3: \"https://d3js.org/d3.v5\"}});\n",
       "   require([\"d3\"], function(d3){\n",
       "      window.d3 = d3;\n",
       "      LDAvis_load_lib(\"https://cdn.jsdelivr.net/gh/bmabey/pyLDAvis@3.3.1/pyLDAvis/js/ldavis.v3.0.0.js\", function(){\n",
       "        new LDAvis(\"#\" + \"ldavis_el236824313466543361890459906\", ldavis_el236824313466543361890459906_data);\n",
       "      });\n",
       "    });\n",
       "}else{\n",
       "    // require.js not available: dynamically load d3 & LDAvis\n",
       "    LDAvis_load_lib(\"https://d3js.org/d3.v5.js\", function(){\n",
       "         LDAvis_load_lib(\"https://cdn.jsdelivr.net/gh/bmabey/pyLDAvis@3.3.1/pyLDAvis/js/ldavis.v3.0.0.js\", function(){\n",
       "                 new LDAvis(\"#\" + \"ldavis_el236824313466543361890459906\", ldavis_el236824313466543361890459906_data);\n",
       "            })\n",
       "         });\n",
       "}\n",
       "</script>"
      ],
      "text/plain": [
       "PreparedData(topic_coordinates=              x         y  topics  cluster       Freq\n",
       "topic                                                \n",
       "4      0.242191  0.040398       1        1  27.899798\n",
       "5      0.040861  0.234088       2        1  17.369368\n",
       "0     -0.053521  0.098515       3        1  15.955664\n",
       "2     -0.171109  0.115693       4        1  14.378396\n",
       "1      0.235969 -0.142018       5        1   9.678973\n",
       "3     -0.034339 -0.225607       6        1   9.552944\n",
       "6     -0.260052 -0.121068       7        1   5.164857, topic_info=          Term         Freq        Total Category  logprob  loglift\n",
       "44        more  2011.000000  2011.000000  Default  30.0000  30.0000\n",
       "9      product  2758.000000  2758.000000  Default  29.0000  29.0000\n",
       "10     quality  2549.000000  2549.000000  Default  28.0000  28.0000\n",
       "4         nice  1080.000000  1080.000000  Default  27.0000  27.0000\n",
       "11       sound  2482.000000  2482.000000  Default  26.0000  26.0000\n",
       "..         ...          ...          ...      ...      ...      ...\n",
       "105       full    19.511313    95.447877   Topic7  -5.1361   1.3757\n",
       "185      worth    22.163493   267.902530   Topic7  -5.0086   0.4711\n",
       "88       price    28.555245   766.662106   Topic7  -4.7552  -0.3269\n",
       "380       blue    11.170775    28.986568   Topic7  -5.6938   2.0098\n",
       "247  beautiful    11.373218    38.959099   Topic7  -5.6758   1.7320\n",
       "\n",
       "[381 rows x 6 columns], token_table=      Topic      Freq        Term\n",
       "term                             \n",
       "395       2  0.979807        able\n",
       "91        1  0.456599     amazing\n",
       "91        6  0.434762     amazing\n",
       "91        7  0.107202     amazing\n",
       "255       3  0.963490  attractive\n",
       "...     ...       ...         ...\n",
       "305       3  0.975914      worthy\n",
       "459       3  0.921411     writing\n",
       "2766      5  0.863187       wrost\n",
       "425       3  0.816140        year\n",
       "425       6  0.179303        year\n",
       "\n",
       "[446 rows x 3 columns], R=30, lambda_step=0.01, plot_opts={'xlab': 'PC1', 'ylab': 'PC2'}, topic_order=[5, 6, 1, 3, 2, 4, 7])"
      ]
     },
     "execution_count": 21,
     "metadata": {},
     "output_type": "execute_result"
    }
   ],
   "source": [
    "# Visualize the topics\n",
    "pyLDAvis.enable_notebook()\n",
    "vis = pyLDAvis.gensim_models.prepare(lda_model, doc_term_matrix, dictionary)\n",
    "vis"
   ]
  },
  {
   "cell_type": "code",
   "execution_count": 22,
   "metadata": {},
   "outputs": [
    {
     "name": "stdout",
     "output_type": "stream",
     "text": [
      "\n",
      "Perplexity:  -5.941119745448883\n",
      "\n",
      "Coherence Score:  0.5855350361910032\n"
     ]
    }
   ],
   "source": [
    "print('\\nPerplexity: ', lda_model.log_perplexity(doc_term_matrix,total_docs=10000))  # a measure of how good the model is. lower the better.\n",
    "\n",
    "# Compute Coherence Score\n",
    "from gensim.models.coherencemodel import CoherenceModel\n",
    "coherence_model_lda = CoherenceModel(model=lda_model, texts=reviews_2, dictionary=dictionary , coherence='c_v')\n",
    "coherence_lda = coherence_model_lda.get_coherence()\n",
    "print('\\nCoherence Score: ', coherence_lda)\n",
    "#perplexity lower\n",
    "#coherence higher great model"
   ]
  },
  {
   "cell_type": "code",
   "execution_count": 23,
   "metadata": {},
   "outputs": [],
   "source": [
    "def compute_coherence_values(dictionary, corpus, texts, limit, start, step):\n",
    "    \"\"\"\n",
    "    Compute c_v coherence for various number of topics\n",
    "\n",
    "    Parameters:\n",
    "    ----------\n",
    "    dictionary : Gensim dictionary\n",
    "    corpus : Gensim corpus\n",
    "    texts : List of input texts\n",
    "    limit : Max num of topics\n",
    "\n",
    "    Returns:\n",
    "    -------\n",
    "    model_list : List of LDA topic models\n",
    "    coherence_values : Coherence values corresponding to the LDA model with respective number of topics\n",
    "    \"\"\"\n",
    "    coherence_values = []\n",
    "    model_list = []\n",
    "    for num_topics in range(start, limit, step):\n",
    "        print(num_topics)\n",
    "        model = gensim.models.ldamodel.LdaModel(corpus=corpus, num_topics=num_topics, id2word=dictionary,random_state=100,chunksize=1000, passes=50)\n",
    "        model_list.append(model)\n",
    "        coherencemodel = CoherenceModel(model=model, texts=texts, dictionary=dictionary, coherence='c_v')\n",
    "        print(coherencemodel.get_coherence())\n",
    "        coherence_values.append(coherencemodel.get_coherence())\n",
    "\n",
    "    return model_list, coherence_values\n"
   ]
  },
  {
   "cell_type": "code",
   "execution_count": 26,
   "metadata": {},
   "outputs": [
    {
     "name": "stdout",
     "output_type": "stream",
     "text": [
      "2\n",
      "0.550567039120617\n",
      "3\n",
      "0.5432918490922285\n",
      "4\n",
      "0.5704826613802708\n",
      "5\n",
      "0.5517344460209271\n",
      "6\n",
      "0.592212848254514\n",
      "7\n",
      "0.5855350361910032\n",
      "8\n",
      "0.5780169905477551\n",
      "9\n",
      "0.538043360805815\n"
     ]
    }
   ],
   "source": [
    "model_list, coherence_values = compute_coherence_values(dictionary=dictionary, corpus=doc_term_matrix, texts=reviews_2, start=2, limit=10, step=1)\n"
   ]
  },
  {
   "cell_type": "code",
   "execution_count": 28,
   "metadata": {},
   "outputs": [
    {
     "data": {
      "image/png": "[encoded data removed]",
      "text/plain": [
       "<Figure size 432x288 with 1 Axes>"
      ]
     },
     "metadata": {
      "needs_background": "light"
     },
     "output_type": "display_data"
    }
   ],
   "source": [
    "# Show graph\n",
    "limit=10; start=2; step=1;\n",
    "x = range(start, limit, step)\n",
    "plt.plot(x, coherence_values)\n",
    "plt.xlabel(\"Num Topics\")\n",
    "plt.ylabel(\"Coherence score\")\n",
    "plt.legend((\"coherence_values\"), loc='best')\n",
    "plt.show()# Print the coherence scores"
   ]
  },
  {
   "cell_type": "code",
   "execution_count": 29,
   "metadata": {},
   "outputs": [
    {
     "name": "stdout",
     "output_type": "stream",
     "text": [
      "Num Topics = 2  has Coherence Value of 0.550567039120617\n",
      "Num Topics = 3  has Coherence Value of 0.5432918490922285\n",
      "Num Topics = 4  has Coherence Value of 0.5704826613802708\n",
      "Num Topics = 5  has Coherence Value of 0.5517344460209271\n",
      "Num Topics = 6  has Coherence Value of 0.592212848254514\n",
      "Num Topics = 7  has Coherence Value of 0.5855350361910032\n",
      "Num Topics = 8  has Coherence Value of 0.5780169905477551\n",
      "Num Topics = 9  has Coherence Value of 0.538043360805815\n"
     ]
    }
   ],
   "source": [
    "# Print the coherence scores\n",
    "for m, cv in zip(x, coherence_values):\n",
    "    print(\"Num Topics =\", m, \" has Coherence Value of\",cv)"
   ]
  },
  {
   "cell_type": "code",
   "execution_count": 30,
   "metadata": {},
   "outputs": [],
   "source": [
    "\n",
    "\n",
    "\n",
    "import os\n",
    "from gensim.models.wrappers import LdaMallet\n",
    "os.environ.update({'MALLET_HOME':r'C:/Users/kartik.sonaghela/Documents/mallet-2.0.8/'}) \n",
    "#You should update this path as per the path of Mallet directory on your system.\n",
    "mallet_path = r'C:/Users/kartik.sonaghela/Documents/mallet-2.0.8/bin/mallet' \n",
    "#You should update this path as per the path of Mallet directory on your system."
   ]
  },
  {
   "cell_type": "code",
   "execution_count": 31,
   "metadata": {},
   "outputs": [],
   "source": [
    "#mallet_path = r'C:\\Users\\kartik.sonaghela\\Documents\\mallet-2.0.8\\bin\\mallet' # update this path\n",
    "ldamallet = gensim.models.wrappers.LdaMallet(mallet_path, corpus=doc_term_matrix, num_topics=7, id2word=dictionary)"
   ]
  },
  {
   "cell_type": "code",
   "execution_count": 32,
   "metadata": {},
   "outputs": [
    {
     "name": "stdout",
     "output_type": "stream",
     "text": [
      "[(0, [('headphone', 0.11520522388059702), ('price', 0.07334421641791045), ('great', 0.06529850746268656), ('bluetooth', 0.05363805970149254), ('mic', 0.03801305970149254), ('call', 0.025652985074626867), ('voice', 0.02320429104477612), ('thing', 0.021455223880597014), ('phone', 0.021338619402985076), ('review', 0.02028917910447761)]), (1, [('ear', 0.10836128136926101), ('time', 0.052850699664623565), ('comfortable', 0.04082340696195212), ('tight', 0.040360818781080145), ('headset', 0.03804787787672025), ('hour', 0.03770093674106627), ('pain', 0.03654446628888632), ('long', 0.03307505493234648), ('head', 0.03110905516364057), ('problem', 0.028333526078408697)]), (2, [('awesome', 0.12893194593948093), ('boat', 0.07295778016983615), ('bass', 0.07188135390503528), ('headphone', 0.0668580313359646), ('amazing', 0.06063867958378184), ('superb', 0.03994737471594307), ('love', 0.03588087549336204), ('cable', 0.028824303313000836), ('perfect', 0.021050113622772395), ('happy', 0.021050113622772395)]), (3, [('product', 0.27986846912678115), ('good', 0.11094872731701376), ('bad', 0.03836317135549872), ('month', 0.03665814151747655), ('worth', 0.03556205090731945), ('money', 0.0339788089148703), ('day', 0.03373523322372427), ('delivery', 0.029716234319814884), ('buy', 0.025940811107051515), ('flipkart', 0.025697235415905493)]), (4, [('good', 0.2413198436422166), ('quality', 0.14348126005978387), ('battery', 0.11830305817429294), ('sound', 0.0924350425385146), ('backup', 0.068866406070361), ('range', 0.045297769602207404), ('bass', 0.025753046677397102), ('super', 0.025293170843872153), ('design', 0.024948263968728443), ('price', 0.022189008967578753)]), (5, [('sound', 0.17751955821445006), ('quality', 0.1296594569719282), ('bass', 0.11573861021629084), ('music', 0.04164749194661758), ('clear', 0.025080533824206167), ('low', 0.022434422457432122), ('high', 0.0223193741371376), ('volume', 0.017487344684767602), ('bit', 0.017257248044178556), ('base', 0.016336861481822364)]), (6, [('good', 0.3116296115318837), ('nice', 0.15233325189347666), ('productread', 0.09748350842902516), ('product', 0.0763498656242365), ('excellent', 0.04984119227950159), ('quality', 0.034204739799657956), ('sound', 0.030173466894698266), ('qualityread', 0.021622281944783776), ('full', 0.011849499144881506), ('easy', 0.01001710236989983)])]\n",
      "\n",
      "Coherence Score:  0.5359019623072945\n"
     ]
    }
   ],
   "source": [
    "print(ldamallet.show_topics(formatted=False))\n",
    "\n",
    "# Compute Coherence Score\n",
    "coherence_model_ldamallet = CoherenceModel(model=ldamallet, texts=reviews_2, dictionary=dictionary, coherence='c_v')\n",
    "coherence_ldamallet = coherence_model_ldamallet.get_coherence()\n",
    "print('\\nCoherence Score: ', coherence_ldamallet)"
   ]
  },
  {
   "cell_type": "code",
   "execution_count": 33,
   "metadata": {},
   "outputs": [],
   "source": [
    "def compute_coherence_values(dictionary, corpus, texts, limit, start, step):\n",
    "    \"\"\"\n",
    "    Compute c_v coherence for various number of topics\n",
    "\n",
    "    Parameters:\n",
    "    ----------\n",
    "    dictionary : Gensim dictionary\n",
    "    corpus : Gensim corpus\n",
    "    texts : List of input texts\n",
    "    limit : Max num of topics\n",
    "\n",
    "    Returns:\n",
    "    -------\n",
    "    model_list : List of LDA topic models\n",
    "    coherence_values : Coherence values corresponding to the LDA model with respective number of topics\n",
    "    \"\"\"\n",
    "    coherence_values = []\n",
    "    model_list = []\n",
    "    for num_topics in range(start, limit, step):\n",
    "        print(num_topics)\n",
    "        model = gensim.models.wrappers.LdaMallet(mallet_path, corpus=corpus, num_topics=num_topics, id2word=dictionary)\n",
    "        model_list.append(model)\n",
    "        coherencemodel = CoherenceModel(model=model, texts=texts, dictionary=dictionary, coherence='c_v')\n",
    "        print(coherencemodel.get_coherence())\n",
    "        coherence_values.append(coherencemodel.get_coherence())\n",
    "\n",
    "    return model_list, coherence_values"
   ]
  },
  {
   "cell_type": "code",
   "execution_count": 34,
   "metadata": {},
   "outputs": [
    {
     "name": "stdout",
     "output_type": "stream",
     "text": [
      "3\n",
      "0.5589861303245939\n",
      "4\n",
      "0.5470055000581637\n",
      "5\n",
      "0.5208860155014718\n",
      "6\n",
      "0.5511160772476479\n",
      "7\n",
      "0.5229724761391747\n",
      "8\n",
      "0.5167978988745837\n",
      "9\n",
      "0.5406912596844644\n",
      "10\n",
      "0.4944806339769435\n",
      "11\n",
      "0.49966420207271206\n",
      "12\n",
      "0.4954096159414663\n",
      "13\n",
      "0.48305133233714226\n",
      "14\n",
      "0.4814221168837239\n",
      "15\n",
      "0.4834911806864774\n",
      "16\n",
      "0.4721606482726721\n",
      "17\n",
      "0.4689421076447423\n",
      "18\n",
      "0.46484676210455234\n",
      "19\n",
      "0.46160286102697584\n"
     ]
    }
   ],
   "source": [
    "# Can take a long time to run.\n",
    "model_list, coherence_values = compute_coherence_values(dictionary, doc_term_matrix, reviews_2, 20, 3,1)"
   ]
  },
  {
   "cell_type": "code",
   "execution_count": 35,
   "metadata": {},
   "outputs": [
    {
     "data": {
      "image/png": "[encoded data removed]",
      "text/plain": [
       "<Figure size 432x288 with 1 Axes>"
      ]
     },
     "metadata": {
      "needs_background": "light"
     },
     "output_type": "display_data"
    }
   ],
   "source": [
    "# Show graph\n",
    "limit=20; start=3; step=1;\n",
    "x = range(start, limit, step)\n",
    "plt.plot(x, coherence_values)\n",
    "plt.xlabel(\"Num Topics\")\n",
    "plt.ylabel(\"Coherence score\")\n",
    "plt.legend((\"coherence_values\"), loc='best')\n",
    "plt.show()"
   ]
  },
  {
   "cell_type": "code",
   "execution_count": 36,
   "metadata": {},
   "outputs": [
    {
     "name": "stdout",
     "output_type": "stream",
     "text": [
      "Num Topics = 3  has Coherence Value of 0.5589861303245939\n",
      "Num Topics = 4  has Coherence Value of 0.5470055000581637\n",
      "Num Topics = 5  has Coherence Value of 0.5208860155014718\n",
      "Num Topics = 6  has Coherence Value of 0.5511160772476479\n",
      "Num Topics = 7  has Coherence Value of 0.5229724761391747\n",
      "Num Topics = 8  has Coherence Value of 0.5167978988745837\n",
      "Num Topics = 9  has Coherence Value of 0.5406912596844644\n",
      "Num Topics = 10  has Coherence Value of 0.4944806339769435\n",
      "Num Topics = 11  has Coherence Value of 0.49966420207271206\n",
      "Num Topics = 12  has Coherence Value of 0.4954096159414663\n",
      "Num Topics = 13  has Coherence Value of 0.48305133233714226\n",
      "Num Topics = 14  has Coherence Value of 0.4814221168837239\n",
      "Num Topics = 15  has Coherence Value of 0.4834911806864774\n",
      "Num Topics = 16  has Coherence Value of 0.4721606482726721\n",
      "Num Topics = 17  has Coherence Value of 0.4689421076447423\n",
      "Num Topics = 18  has Coherence Value of 0.46484676210455234\n",
      "Num Topics = 19  has Coherence Value of 0.46160286102697584\n"
     ]
    }
   ],
   "source": [
    "for m, cv in zip(x, coherence_values):\n",
    "    print(\"Num Topics =\", m, \" has Coherence Value of\",cv)"
   ]
  },
  {
   "cell_type": "code",
   "execution_count": 37,
   "metadata": {},
   "outputs": [
    {
     "name": "stdout",
     "output_type": "stream",
     "text": [
      "The 3 topics gives the highest coherence score \\\n",
      "of 0.5589861303245939\n"
     ]
    }
   ],
   "source": [
    "best_result_index = coherence_values.index(max(coherence_values))\n",
    "optimal_model = model_list[best_result_index]\n",
    "# Select the model and print the topics\n",
    "model_topics = optimal_model.show_topics(formatted=False)\n",
    "print(f'''The {x[best_result_index]} topics gives the highest coherence score \\\\\n",
    "of {coherence_values[best_result_index]}''')"
   ]
  },
  {
   "cell_type": "code",
   "execution_count": 38,
   "metadata": {},
   "outputs": [],
   "source": [
    "def convertldaGenToldaMallet(mallet_model):\n",
    "    model_gensim = LDA(\n",
    "        id2word=mallet_model.id2word, num_topics=mallet_model.num_topics,\n",
    "        alpha=mallet_model.alpha, eta=0,\n",
    "    )\n",
    "    model_gensim.state.sstats[...] = mallet_model.wordtopics\n",
    "    model_gensim.sync_state()\n",
    "    return model_gensim\n",
    "\n",
    "optimal_model = convertldaGenToldaMallet(optimal_model)"
   ]
  },
  {
   "cell_type": "code",
   "execution_count": 39,
   "metadata": {},
   "outputs": [
    {
     "data": {
      "text/html": [
       "\n",
       "<link rel=\"stylesheet\" type=\"text/css\" href=\"https://cdn.jsdelivr.net/gh/bmabey/pyLDAvis@3.3.1/pyLDAvis/js/ldavis.v1.0.0.css\">\n",
       "\n",
       "\n",
       "<div id=\"ldavis_el236824313478975043489642230\"></div>\n",
       "<script type=\"text/javascript\">\n",
       "\n",
       "var ldavis_el236824313478975043489642230_data = {\"mdsDat\": {\"x\": [-0.4030947766916563, 0.16437572887826435, 0.23871904781339165], \"y\": [0.034582129391659076, -0.2985512221179818, 0.2639690927263228], \"topics\": [1, 2, 3], \"cluster\": [1, 1, 1], \"Freq\": [34.527732851145885, 33.59247588598055, 31.879791262873564]}, \"tinfo\": {\"Term\": [\"product\", \"quality\", \"good\", \"sound\", \"bass\", \"nice\", \"awesome\", \"battery\", \"ear\", \"productread\", \"price\", \"boat\", \"backup\", \"headphone\", \"great\", \"amazing\", \"bluetooth\", \"time\", \"range\", \"music\", \"design\", \"comfortable\", \"tight\", \"superb\", \"love\", \"headset\", \"hour\", \"mic\", \"worth\", \"pain\", \"lot\", \"stylish\", \"brand\", \"consvery\", \"ear\", \"equaliser\", \"head\", \"important\", \"min\", \"option\", \"output\", \"pro\", \"time\", \"weightless\", \"case\", \"charge\", \"provide\", \"relief\", \"thing\", \"wire\", \"long\", \"average\", \"bluetooth\", \"connectivity\", \"maxfinal\", \"moto\", \"pain\", \"bit\", \"crack\", \"plastic\", \"range\", \"comfortable\", \"headset\", \"mic\", \"hour\", \"bad\", \"month\", \"tight\", \"problem\", \"cable\", \"voice\", \"low\", \"perfect\", \"review\", \"song\", \"work\", \"issue\", \"volume\", \"noise\", \"big\", \"poor\", \"price\", \"day\", \"phone\", \"headphone\", \"design\", \"adjuster\", \"approx\", \"bass\", \"battery\", \"call\", \"clear\", \"mention\", \"toomic\", \"traffic\", \"helpful\", \"sigh\", \"bettary\", \"grateful\", \"purchase\", \"backup\", \"build\", \"huge\", \"lover\", \"music\", \"powerful\", \"cron\", \"high\", \"opinion\", \"wireless\", \"light\", \"punchy\", \"super\", \"fit\", \"cool\", \"quality\", \"great\", \"superb\", \"life\", \"pubg\", \"clarity\", \"weight\", \"mind\", \"extra\", \"hrs\", \"wonderful\", \"effect\", \"jbl\", \"sound\", \"budget\", \"good\", \"excellent\", \"headphone\", \"awsome\", \"boat\", \"guy\", \"order\", \"fabulous\", \"choice\", \"wise\", \"writing\", \"microphone\", \"lovely\", \"oneread\", \"soundread\", \"earsread\", \"comfortableread\", \"carry\", \"easy\", \"nice\", \"produt\", \"product\", \"wary\", \"january\", \"pandamic\", \"situation\", \"electronic\", \"flipkart\", \"glad\", \"item\", \"lif\", \"team\", \"money\", \"awesome\", \"productread\", \"amazing\", \"love\", \"worth\", \"delivery\", \"buy\", \"qualityread\", \"happy\", \"year\", \"experience\", \"awesomeread\", \"don\", \"base\", \"superread\", \"rockerz\", \"fast\", \"service\", \"speaker\", \"gud\", \"gaming\", \"bassread\", \"satisfied\", \"good\", \"excellent\", \"sound\"], \"Freq\": [3377.0, 2838.0, 6021.0, 2775.0, 1957.0, 1364.0, 1179.0, 1100.0, 1015.0, 873.0, 979.0, 667.0, 643.0, 1668.0, 598.0, 554.0, 577.0, 495.0, 489.0, 389.0, 386.0, 382.0, 378.0, 357.0, 338.0, 357.0, 353.0, 353.0, 320.0, 342.0, 85.5907618740492, 46.58737913491476, 74.75648573507695, 2.1668547759299077, 1015.1714655893854, 10.83427355688915, 291.4419517086937, 20.585120532714317, 132.17813584479777, 55.25479694759284, 33.58624725173143, 112.67644705731364, 495.1262935453765, 3.250282002514667, 28.16911176432841, 85.5907618740492, 1.0834273879649539, 1.0834273879649539, 199.35063551242683, 89.92447336247136, 309.86021907928006, 132.17813584479777, 577.4667756762337, 261.1059867822373, 1.0834273879649539, 8.66741910371963, 342.3630474961968, 234.02030676313913, 11.917701428994686, 46.58737913491476, 489.7091658042228, 382.4498464880628, 357.53105061608994, 353.1973236351691, 353.1973236351691, 341.2796260792991, 326.1116436160709, 377.03271874690915, 265.4397137631582, 261.1059867822373, 215.60203939255277, 214.51861797565502, 190.68322286391498, 188.51635937345458, 185.2660744660964, 176.59866181758454, 171.1815237480984, 164.68096426171454, 153.84668812274228, 139.76212707641184, 133.26156759002797, 958.8332214040637, 359.69789344988544, 193.93350777127316, 1071.5096271480475, 386.9834025268885, 3.2070446352648143, 8.552119236717997, 1957.3662764085466, 1100.0162963930686, 235.18326864715954, 233.04525500989357, 3.2070446352648143, 2.1380298091794994, 3.2070446352648143, 17.104238473435995, 1.0690149045897497, 6.414089270529629, 2.1380298091794994, 96.211337173838, 643.5469683237898, 147.52405636235883, 10.69014857487089, 118.66065119078038, 389.1214161641544, 55.58877660875567, 1.0690149045897497, 207.38889039134935, 22.44931401694239, 150.73109691539307, 112.24656003614433, 12.828178541059257, 235.18326864715954, 94.0733134880044, 88.72823920056895, 2832.8896135064088, 598.6483603870403, 357.0509704395418, 129.3507997656513, 100.48740464264046, 97.2803540410386, 88.72823920056895, 67.34793702654336, 66.27892518362655, 58.795817161789884, 57.72680531887309, 54.519759741555056, 54.519759741555056, 2651.1570073450625, 130.4198166328519, 2770.886574917367, 253.3565252438671, 596.5103065555038, 37.208570119926875, 667.5655545741099, 72.22839927840589, 36.114199639202944, 50.34100873642674, 37.208570119926875, 47.05789729425495, 18.604285059963438, 72.22839927840589, 18.604285059963438, 47.05789729425495, 50.34100873642674, 18.604285059963438, 18.604285059963438, 27.3592429455988, 89.73831266561419, 1364.6789881565196, 2.1887394714088404, 3377.224843161619, 2.1887394714088404, 4.377478942817681, 1.0943697357044202, 4.377478942817681, 7.6605880009270395, 230.9120093165039, 10.943697655052006, 40.491679178036236, 1.0943697357044202, 10.943697655052006, 305.3291447882328, 1178.6361399409477, 873.3070142252143, 552.6567208518453, 338.1602210649518, 320.6503315183678, 267.0262065716444, 234.19511122242596, 193.70343204438976, 192.60907109991552, 168.53293959648852, 158.68360526997316, 146.64553951825965, 111.62571274384305, 193.70343204438976, 105.05948985949948, 101.77637841732769, 89.73831266561419, 83.17209931752033, 68.94529260435897, 65.66218116218718, 61.284704007416316, 59.09596304596846, 119.28629657266085, 3250.27798183264, 196.98655302281125, 124.7581489762805], \"Total\": [3377.0, 2838.0, 6021.0, 2775.0, 1957.0, 1364.0, 1179.0, 1100.0, 1015.0, 873.0, 979.0, 667.0, 643.0, 1668.0, 598.0, 554.0, 577.0, 495.0, 489.0, 389.0, 386.0, 382.0, 378.0, 357.0, 338.0, 357.0, 353.0, 353.0, 320.0, 342.0, 85.5907618740492, 46.58737913491476, 74.75648573507695, 2.1668547759299077, 1015.1714655893854, 10.83427355688915, 291.4419517086937, 20.585120532714317, 132.17813584479777, 55.25479694759284, 33.58624725173143, 112.67644705731364, 495.1262935453765, 3.250282002514667, 28.16911176432841, 85.5907618740492, 1.0834273879649539, 1.0834273879649539, 199.35063551242683, 89.92447336247136, 309.86021907928006, 132.17813584479777, 577.4667756762337, 261.1059867822373, 1.0834273879649539, 8.66741910371963, 342.3630474961968, 234.02030676313913, 11.917701428994686, 46.58737913491476, 489.7091658042228, 382.4498464880628, 357.53105061608994, 353.1973236351691, 353.1973236351691, 341.2796260792991, 326.1116436160709, 378.1017336514989, 265.4397137631582, 261.1059867822373, 215.60203939255277, 214.51861797565502, 190.68322286391498, 188.51635937345458, 185.2660744660964, 176.59866181758454, 171.1815237480984, 164.68096426171454, 153.84668812274228, 139.76212707641184, 133.26156759002797, 979.6262462334438, 365.0429677373209, 198.31098671409083, 1668.0199337035513, 386.9834025268885, 3.2070446352648143, 8.552119236717997, 1957.3662764085466, 1100.0162963930686, 235.18326864715954, 233.04525500989357, 3.2070446352648143, 2.1380298091794994, 3.2070446352648143, 17.104238473435995, 1.0690149045897497, 6.414089270529629, 2.1380298091794994, 96.211337173838, 643.5469683237898, 147.52405636235883, 10.69014857487089, 118.66065119078038, 389.1214161641544, 55.58877660875567, 1.0690149045897497, 207.38889039134935, 22.44931401694239, 150.73109691539307, 112.24656003614433, 12.828178541059257, 235.18326864715954, 94.0733134880044, 88.72823920056895, 2838.361462333935, 598.6483603870403, 357.0509704395418, 129.3507997656513, 100.48740464264046, 97.2803540410386, 88.72823920056895, 67.34793702654336, 66.27892518362655, 58.795817161789884, 57.72680531887309, 54.519759741555056, 54.519759741555056, 2775.915156321343, 138.00380850998678, 6021.164556750007, 450.3430782666784, 1668.0199337035513, 37.208570119926875, 667.5655545741099, 72.22839927840589, 36.114199639202944, 50.34100873642674, 37.208570119926875, 47.05789729425495, 18.604285059963438, 72.22839927840589, 18.604285059963438, 47.05789729425495, 50.34100873642674, 18.604285059963438, 18.604285059963438, 27.3592429455988, 89.73831266561419, 1364.6789881565196, 2.1887394714088404, 3377.224843161619, 2.1887394714088404, 4.377478942817681, 1.0943697357044202, 4.377478942817681, 7.6605880009270395, 230.9120093165039, 10.943697655052006, 40.491679178036236, 1.0943697357044202, 10.943697655052006, 305.3291447882328, 1179.7051548455374, 873.3070142252143, 554.7947506610248, 338.1602210649518, 320.6503315183678, 267.0262065716444, 234.19511122242596, 193.70343204438976, 192.60907109991552, 168.53293959648852, 158.68360526997316, 146.64553951825965, 111.62571274384305, 194.7868594323547, 105.05948985949948, 101.77637841732769, 89.73831266561419, 83.17209931752033, 68.94529260435897, 65.66218116218718, 61.284704007416316, 59.09596304596846, 122.49334120792565, 6021.164556750007, 450.3430782666784, 2775.915156321343], \"Category\": [\"Default\", \"Default\", \"Default\", \"Default\", \"Default\", \"Default\", \"Default\", \"Default\", \"Default\", \"Default\", \"Default\", \"Default\", \"Default\", \"Default\", \"Default\", \"Default\", \"Default\", \"Default\", \"Default\", \"Default\", \"Default\", \"Default\", \"Default\", \"Default\", \"Default\", \"Default\", \"Default\", \"Default\", \"Default\", \"Default\", \"Topic1\", \"Topic1\", \"Topic1\", \"Topic1\", \"Topic1\", \"Topic1\", \"Topic1\", \"Topic1\", \"Topic1\", \"Topic1\", \"Topic1\", \"Topic1\", \"Topic1\", \"Topic1\", \"Topic1\", \"Topic1\", \"Topic1\", \"Topic1\", \"Topic1\", \"Topic1\", \"Topic1\", \"Topic1\", \"Topic1\", \"Topic1\", \"Topic1\", \"Topic1\", \"Topic1\", \"Topic1\", \"Topic1\", \"Topic1\", \"Topic1\", \"Topic1\", \"Topic1\", \"Topic1\", \"Topic1\", \"Topic1\", \"Topic1\", \"Topic1\", \"Topic1\", \"Topic1\", \"Topic1\", \"Topic1\", \"Topic1\", \"Topic1\", \"Topic1\", \"Topic1\", \"Topic1\", \"Topic1\", \"Topic1\", \"Topic1\", \"Topic1\", \"Topic1\", \"Topic1\", \"Topic1\", \"Topic1\", \"Topic2\", \"Topic2\", \"Topic2\", \"Topic2\", \"Topic2\", \"Topic2\", \"Topic2\", \"Topic2\", \"Topic2\", \"Topic2\", \"Topic2\", \"Topic2\", \"Topic2\", \"Topic2\", \"Topic2\", \"Topic2\", \"Topic2\", \"Topic2\", \"Topic2\", \"Topic2\", \"Topic2\", \"Topic2\", \"Topic2\", \"Topic2\", \"Topic2\", \"Topic2\", \"Topic2\", \"Topic2\", \"Topic2\", \"Topic2\", \"Topic2\", \"Topic2\", \"Topic2\", \"Topic2\", \"Topic2\", \"Topic2\", \"Topic2\", \"Topic2\", \"Topic2\", \"Topic2\", \"Topic2\", \"Topic2\", \"Topic2\", \"Topic2\", \"Topic2\", \"Topic2\", \"Topic2\", \"Topic2\", \"Topic3\", \"Topic3\", \"Topic3\", \"Topic3\", \"Topic3\", \"Topic3\", \"Topic3\", \"Topic3\", \"Topic3\", \"Topic3\", \"Topic3\", \"Topic3\", \"Topic3\", \"Topic3\", \"Topic3\", \"Topic3\", \"Topic3\", \"Topic3\", \"Topic3\", \"Topic3\", \"Topic3\", \"Topic3\", \"Topic3\", \"Topic3\", \"Topic3\", \"Topic3\", \"Topic3\", \"Topic3\", \"Topic3\", \"Topic3\", \"Topic3\", \"Topic3\", \"Topic3\", \"Topic3\", \"Topic3\", \"Topic3\", \"Topic3\", \"Topic3\", \"Topic3\", \"Topic3\", \"Topic3\", \"Topic3\", \"Topic3\", \"Topic3\", \"Topic3\", \"Topic3\", \"Topic3\", \"Topic3\", \"Topic3\", \"Topic3\", \"Topic3\", \"Topic3\", \"Topic3\", \"Topic3\", \"Topic3\", \"Topic3\"], \"logprob\": [30.0, 29.0, 28.0, 27.0, 26.0, 25.0, 24.0, 23.0, 22.0, 21.0, 20.0, 19.0, 18.0, 17.0, 16.0, 15.0, 14.0, 13.0, 12.0, 11.0, 10.0, 9.0, 8.0, 7.0, 6.0, 5.0, 4.0, 3.0, 2.0, 1.0, -5.5574, -6.1656, -5.6927, -9.2337, -3.0841, -7.6242, -4.3321, -6.9824, -5.1228, -5.995, -6.4928, -5.2824, -3.8021, -8.8282, -6.6687, -5.5574, -9.9268, -9.9268, -4.7119, -5.508, -4.2708, -5.1228, -3.6483, -4.442, -9.9268, -7.8474, -4.1711, -4.5515, -7.5289, -6.1656, -3.8131, -4.0603, -4.1277, -4.1399, -4.1399, -4.1742, -4.2197, -4.0746, -4.4256, -4.442, -4.6335, -4.6385, -4.7563, -4.7678, -4.7851, -4.8331, -4.8642, -4.9029, -4.971, -5.067, -5.1146, -3.1412, -4.1217, -4.7394, -3.0301, -4.0211, -8.8141, -7.8333, -2.4001, -2.9764, -4.5191, -4.5282, -8.8141, -9.2196, -8.8141, -7.1402, -9.9127, -8.121, -9.2196, -5.4129, -3.5125, -4.9855, -7.6102, -5.2032, -4.0156, -5.9615, -9.9127, -4.6449, -6.8682, -4.964, -5.2588, -7.4278, -4.5191, -5.4354, -5.4939, -2.0304, -3.5848, -4.1016, -5.117, -5.3694, -5.4019, -5.4939, -5.7696, -5.7856, -5.9054, -5.9238, -5.9809, -5.9809, -2.0967, -5.1087, -2.0526, -4.4447, -3.5884, -6.3106, -3.4235, -5.6473, -6.3405, -6.0083, -6.3106, -6.0758, -7.0038, -5.6473, -7.0038, -6.0758, -6.0083, -7.0038, -7.0038, -6.6181, -5.4303, -2.7085, -9.1438, -1.8023, -9.1438, -8.4507, -9.837, -8.4507, -7.8911, -4.4851, -7.5344, -6.2261, -9.837, -7.5344, -4.2058, -2.855, -3.1549, -3.6124, -4.1036, -4.1568, -4.3398, -4.471, -4.6608, -4.6665, -4.8, -4.8602, -4.9391, -5.212, -4.6608, -5.2726, -5.3044, -5.4303, -5.5062, -5.6938, -5.7426, -5.8116, -5.848, -5.1456, -1.8407, -4.644, -5.1008], \"loglift\": [30.0, 29.0, 28.0, 27.0, 26.0, 25.0, 24.0, 23.0, 22.0, 21.0, 20.0, 19.0, 18.0, 17.0, 16.0, 15.0, 14.0, 13.0, 12.0, 11.0, 10.0, 9.0, 8.0, 7.0, 6.0, 5.0, 4.0, 3.0, 2.0, 1.0, 1.0634, 1.0634, 1.0634, 1.0634, 1.0634, 1.0634, 1.0634, 1.0634, 1.0634, 1.0634, 1.0634, 1.0634, 1.0634, 1.0634, 1.0634, 1.0634, 1.0634, 1.0634, 1.0634, 1.0634, 1.0634, 1.0634, 1.0634, 1.0634, 1.0634, 1.0634, 1.0634, 1.0634, 1.0634, 1.0634, 1.0634, 1.0634, 1.0634, 1.0634, 1.0634, 1.0634, 1.0634, 1.0606, 1.0634, 1.0634, 1.0634, 1.0634, 1.0634, 1.0634, 1.0634, 1.0634, 1.0634, 1.0634, 1.0634, 1.0634, 1.0634, 1.042, 1.0487, 1.0411, 0.6208, 1.0909, 1.0909, 1.0909, 1.0909, 1.0909, 1.0909, 1.0909, 1.0909, 1.0909, 1.0909, 1.0909, 1.0909, 1.0909, 1.0909, 1.0909, 1.0909, 1.0909, 1.0909, 1.0909, 1.0909, 1.0909, 1.0909, 1.0909, 1.0909, 1.0909, 1.0909, 1.0909, 1.0909, 1.0909, 1.0909, 1.0889, 1.0909, 1.0909, 1.0909, 1.0909, 1.0909, 1.0909, 1.0909, 1.0909, 1.0909, 1.0909, 1.0909, 1.0909, 1.0449, 1.0343, 0.3148, 0.5157, 0.0626, 1.1432, 1.1432, 1.1432, 1.1432, 1.1432, 1.1432, 1.1432, 1.1432, 1.1432, 1.1432, 1.1432, 1.1432, 1.1432, 1.1432, 1.1432, 1.1432, 1.1432, 1.1432, 1.1432, 1.1432, 1.1432, 1.1432, 1.1432, 1.1432, 1.1432, 1.1432, 1.1432, 1.1432, 1.1432, 1.1432, 1.1423, 1.1432, 1.1393, 1.1432, 1.1432, 1.1432, 1.1432, 1.1432, 1.1432, 1.1432, 1.1432, 1.1432, 1.1432, 1.1376, 1.1432, 1.1432, 1.1432, 1.1432, 1.1432, 1.1432, 1.1432, 1.1432, 1.1167, 0.5267, 0.3163, -1.9592]}, \"token.table\": {\"Topic\": [2, 2, 3, 2, 1, 2, 3, 3, 3, 2, 1, 1, 3, 2, 3, 2, 2, 1, 1, 1, 3, 1, 1, 2, 2, 3, 1, 2, 3, 1, 1, 3, 2, 2, 1, 3, 1, 1, 2, 1, 2, 1, 2, 3, 2, 3, 1, 3, 3, 2, 3, 1, 2, 3, 3, 2, 3, 3, 2, 3, 3, 3, 2, 3, 2, 2, 3, 3, 3, 1, 1, 2, 1, 2, 2, 1, 2, 2, 1, 1, 3, 3, 2, 3, 2, 2, 1, 1, 3, 3, 2, 1, 1, 2, 1, 3, 1, 2, 3, 1, 1, 2, 3, 1, 3, 2, 1, 3, 1, 1, 3, 1, 1, 3, 1, 1, 2, 1, 3, 1, 1, 3, 3, 3, 1, 2, 2, 2, 2, 3, 3, 1, 1, 1, 3, 2, 3, 3, 2, 3, 1, 2, 3, 3, 3, 1, 2, 2, 3, 3, 1, 1, 2, 1, 2, 2, 1, 1, 3, 2, 1, 1, 2, 3, 2, 1, 3, 3, 3], \"Freq\": [0.9354406755091146, 0.003604936776379098, 0.9967650186688206, 1.0523707341870367, 0.9986523047578237, 0.0008476694332415062, 0.9994022617917357, 1.0024171241955586, 0.9943945677231177, 1.0007039605475732, 0.9991806540504293, 0.005133816536260129, 0.9959604080344652, 0.9998128728317427, 0.9983761488768055, 0.9999851853166885, 0.9354406755091146, 1.0017019841395094, 0.9999132264912391, 0.9991916839272924, 1.0006507906570572, 1.0032574332852673, 0.057969414658734376, 0.9420029882044336, 1.0032262103508875, 0.9991668860147953, 0.9995940852082962, 0.9992207411342918, 0.986869412055256, 0.9939965531840957, 1.0047813352398125, 0.9943945677231177, 0.9971180816126518, 0.9998058102067272, 0.9988237765233962, 1.0212700965804993, 0.9995940852082962, 0.9229967888095768, 1.0030628445000103, 1.0069055741575375, 0.9354406526106994, 0.9861852763016387, 0.013697017726411648, 0.9999018576791361, 1.000042889366839, 1.0033530559129853, 0.9998310969179124, 1.0212700965804993, 1.0029161160558135, 1.008808554196157, 1.0443062593931285, 1.015296497936908, 0.5617939127071067, 0.4374442719498024, 1.0019938715753813, 0.995791645943959, 0.9932260249648119, 1.0029161160558135, 0.9992206770944264, 1.0003810571990455, 0.9953544034840756, 1.005144727744009, 0.4602099766387516, 0.5397626936398205, 0.9354406526106994, 1.0005873892525696, 1.0051448007335972, 0.9968378189093529, 1.0020296494752403, 0.9984835686622925, 0.6426781708896059, 0.3579093918107227, 1.00131163260674, 0.9939056933988681, 0.9981248253432693, 0.9994413218278717, 1.0034727442880547, 1.0289847632106324, 1.0201543375287188, 0.9989395832907438, 0.9878572786306443, 0.9137679591955487, 1.008808554196157, 0.9137679591955487, 0.9972879969332479, 0.997803406749704, 1.0004511096039863, 1.0047813352398125, 0.9995261977755774, 1.0212700965804993, 1.0028598259474746, 1.0022440104681245, 0.9229967888095768, 0.9354406755091146, 0.9994413218278717, 0.9968378189093529, 0.9986523047578237, 0.9948337389101283, 0.9989220000977599, 0.9996576521622075, 1.038371387410774, 0.999687973575571, 1.0002352288312975, 1.0009965237414498, 0.998769658280885, 0.9799854010415063, 0.9953886909070627, 0.9968378189093529, 1.012319112199927, 0.9989395832907438, 0.9137679591955487, 1.0016612742921338, 0.9782614832111846, 0.020170339860024422, 1.0088569237580485, 0.9980371866040728, 1.007397597434795, 0.9789447798966703, 0.021436747005036578, 1.0028715224089537, 0.9983434514868769, 0.9999334236919184, 0.9996484463994754, 0.9137679591955487, 0.9229967888095768, 0.9951495946743396, 1.013394065134874, 0.997803406749704, 0.9981110713328505, 0.00176157972349603, 1.0015310413061875, 1.0005938916730293, 0.9229967888095768, 1.0025655101135669, 1.0021971854977523, 0.024491127194478813, 0.9714813787143262, 0.9979308046937312, 0.9354406526106994, 0.9137679591955487, 0.9985638252072692, 0.9550003695044912, 0.045030194714470534, 0.9932260249648119, 1.0007934899334603, 1.0088569237580485, 0.9992207411342918, 0.9998572460411491, 0.9994337507294292, 1.005144727744009, 0.9982411116396718, 0.9970861449354941, 0.0026447908353726636, 0.9997449266035294, 0.9354406526106994, 0.9354406755091146, 1.0018458109606405, 1.0019372957871344, 0.9137679591955487, 1.0030628445000103, 0.9229968346374162, 1.0008398896841375, 1.0017839920899525, 0.998769658280885, 1.0047325446058868, 1.002272600359962, 1.0010904978016908, 1.0212700965804993, 1.0027713300713186], \"Term\": [\"adjuster\", \"amazing\", \"amazing\", \"approx\", \"average\", \"awesome\", \"awesome\", \"awesomeread\", \"awsome\", \"backup\", \"bad\", \"base\", \"base\", \"bass\", \"bassread\", \"battery\", \"bettary\", \"big\", \"bit\", \"bluetooth\", \"boat\", \"brand\", \"budget\", \"budget\", \"build\", \"buy\", \"cable\", \"call\", \"carry\", \"case\", \"charge\", \"choice\", \"clarity\", \"clear\", \"comfortable\", \"comfortableread\", \"connectivity\", \"consvery\", \"cool\", \"crack\", \"cron\", \"day\", \"day\", \"delivery\", \"design\", \"don\", \"ear\", \"earsread\", \"easy\", \"effect\", \"electronic\", \"equaliser\", \"excellent\", \"excellent\", \"experience\", \"extra\", \"fabulous\", \"fast\", \"fit\", \"flipkart\", \"gaming\", \"glad\", \"good\", \"good\", \"grateful\", \"great\", \"gud\", \"guy\", \"happy\", \"head\", \"headphone\", \"headphone\", \"headset\", \"helpful\", \"high\", \"hour\", \"hrs\", \"huge\", \"important\", \"issue\", \"item\", \"january\", \"jbl\", \"lif\", \"life\", \"light\", \"long\", \"lot\", \"love\", \"lovely\", \"lover\", \"low\", \"maxfinal\", \"mention\", \"mic\", \"microphone\", \"min\", \"mind\", \"money\", \"month\", \"moto\", \"music\", \"nice\", \"noise\", \"oneread\", \"opinion\", \"option\", \"order\", \"output\", \"pain\", \"pandamic\", \"perfect\", \"phone\", \"phone\", \"plastic\", \"poor\", \"powerful\", \"price\", \"price\", \"pro\", \"problem\", \"product\", \"productread\", \"produt\", \"provide\", \"pubg\", \"punchy\", \"purchase\", \"quality\", \"quality\", \"qualityread\", \"range\", \"relief\", \"review\", \"rockerz\", \"satisfied\", \"satisfied\", \"service\", \"sigh\", \"situation\", \"song\", \"sound\", \"sound\", \"soundread\", \"speaker\", \"stylish\", \"super\", \"superb\", \"superread\", \"team\", \"thing\", \"tight\", \"tight\", \"time\", \"toomic\", \"traffic\", \"voice\", \"volume\", \"wary\", \"weight\", \"weightless\", \"wire\", \"wireless\", \"wise\", \"wonderful\", \"work\", \"worth\", \"writing\", \"year\"]}, \"R\": 30, \"lambda.step\": 0.01, \"plot.opts\": {\"xlab\": \"PC1\", \"ylab\": \"PC2\"}, \"topic.order\": [1, 2, 3]};\n",
       "\n",
       "function LDAvis_load_lib(url, callback){\n",
       "  var s = document.createElement('script');\n",
       "  s.src = url;\n",
       "  s.async = true;\n",
       "  s.onreadystatechange = s.onload = callback;\n",
       "  s.onerror = function(){console.warn(\"failed to load library \" + url);};\n",
       "  document.getElementsByTagName(\"head\")[0].appendChild(s);\n",
       "}\n",
       "\n",
       "if(typeof(LDAvis) !== \"undefined\"){\n",
       "   // already loaded: just create the visualization\n",
       "   !function(LDAvis){\n",
       "       new LDAvis(\"#\" + \"ldavis_el236824313478975043489642230\", ldavis_el236824313478975043489642230_data);\n",
       "   }(LDAvis);\n",
       "}else if(typeof define === \"function\" && define.amd){\n",
       "   // require.js is available: use it to load d3/LDAvis\n",
       "   require.config({paths: {d3: \"https://d3js.org/d3.v5\"}});\n",
       "   require([\"d3\"], function(d3){\n",
       "      window.d3 = d3;\n",
       "      LDAvis_load_lib(\"https://cdn.jsdelivr.net/gh/bmabey/pyLDAvis@3.3.1/pyLDAvis/js/ldavis.v3.0.0.js\", function(){\n",
       "        new LDAvis(\"#\" + \"ldavis_el236824313478975043489642230\", ldavis_el236824313478975043489642230_data);\n",
       "      });\n",
       "    });\n",
       "}else{\n",
       "    // require.js not available: dynamically load d3 & LDAvis\n",
       "    LDAvis_load_lib(\"https://d3js.org/d3.v5.js\", function(){\n",
       "         LDAvis_load_lib(\"https://cdn.jsdelivr.net/gh/bmabey/pyLDAvis@3.3.1/pyLDAvis/js/ldavis.v3.0.0.js\", function(){\n",
       "                 new LDAvis(\"#\" + \"ldavis_el236824313478975043489642230\", ldavis_el236824313478975043489642230_data);\n",
       "            })\n",
       "         });\n",
       "}\n",
       "</script>"
      ],
      "text/plain": [
       "PreparedData(topic_coordinates=              x         y  topics  cluster       Freq\n",
       "topic                                                \n",
       "0     -0.403095  0.034582       1        1  34.527733\n",
       "1      0.164376 -0.298551       2        1  33.592476\n",
       "2      0.238719  0.263969       3        1  31.879791, topic_info=          Term         Freq        Total Category  logprob  loglift\n",
       "9      product  3377.000000  3377.000000  Default  30.0000  30.0000\n",
       "10     quality  2838.000000  2838.000000  Default  29.0000  29.0000\n",
       "8         good  6021.000000  6021.000000  Default  28.0000  28.0000\n",
       "11       sound  2775.000000  2775.000000  Default  27.0000  27.0000\n",
       "15        bass  1957.000000  1957.000000  Default  26.0000  26.0000\n",
       "..         ...          ...          ...      ...      ...      ...\n",
       "103   bassread    59.095963    59.095963   Topic3  -5.8480   1.1432\n",
       "232  satisfied   119.286297   122.493341   Topic3  -5.1456   1.1167\n",
       "8         good  3250.277982  6021.164557   Topic3  -1.8407   0.5267\n",
       "63   excellent   196.986553   450.343078   Topic3  -4.6440   0.3163\n",
       "11       sound   124.758149  2775.915156   Topic3  -5.1008  -1.9592\n",
       "\n",
       "[189 rows x 6 columns], token_table=      Topic      Freq       Term\n",
       "term                            \n",
       "13        2  0.935441   adjuster\n",
       "91        2  0.003605    amazing\n",
       "91        3  0.996765    amazing\n",
       "14        2  1.052371     approx\n",
       "79        1  0.998652    average\n",
       "...     ...       ...        ...\n",
       "184       2  1.004733  wonderful\n",
       "325       1  1.002273       work\n",
       "185       3  1.001090      worth\n",
       "459       3  1.021270    writing\n",
       "425       3  1.002771       year\n",
       "\n",
       "[169 rows x 3 columns], R=30, lambda_step=0.01, plot_opts={'xlab': 'PC1', 'ylab': 'PC2'}, topic_order=[1, 2, 3])"
      ]
     },
     "execution_count": 39,
     "metadata": {},
     "output_type": "execute_result"
    }
   ],
   "source": [
    "#Creating Topic Distance Visualization \n",
    "\n",
    "pyLDAvis.enable_notebook()\n",
    "p = pyLDAvis.gensim_models.prepare(optimal_model, doc_term_matrix, dictionary)\n",
    "p"
   ]
  },
  {
   "cell_type": "code",
   "execution_count": 51,
   "metadata": {},
   "outputs": [
    {
     "data": {
      "text/html": [
       "<div>\n",
       "<style scoped>\n",
       "    .dataframe tbody tr th:only-of-type {\n",
       "        vertical-align: middle;\n",
       "    }\n",
       "\n",
       "    .dataframe tbody tr th {\n",
       "        vertical-align: top;\n",
       "    }\n",
       "\n",
       "    .dataframe thead th {\n",
       "        text-align: right;\n",
       "    }\n",
       "</style>\n",
       "<table border=\"1\" class=\"dataframe\">\n",
       "  <thead>\n",
       "    <tr style=\"text-align: right;\">\n",
       "      <th></th>\n",
       "      <th>Document_No</th>\n",
       "      <th>Dominant_Topic</th>\n",
       "      <th>Topic_Perc_Contrib</th>\n",
       "      <th>Keywords</th>\n",
       "      <th>Text</th>\n",
       "    </tr>\n",
       "  </thead>\n",
       "  <tbody>\n",
       "    <tr>\n",
       "      <th>0</th>\n",
       "      <td>0</td>\n",
       "      <td>4.0</td>\n",
       "      <td>0.6424</td>\n",
       "      <td>good, quality, sound, bass, product, battery, awesome, backup, headphone, design</td>\n",
       "      <td>[nice, produt, design, lot, easy, carry, stylish]</td>\n",
       "    </tr>\n",
       "    <tr>\n",
       "      <th>1</th>\n",
       "      <td>1</td>\n",
       "      <td>4.0</td>\n",
       "      <td>0.9046</td>\n",
       "      <td>good, quality, sound, bass, product, battery, awesome, backup, headphone, design</td>\n",
       "      <td>[awesome, sound, sound, quality, good, wish, product, product]</td>\n",
       "    </tr>\n",
       "    <tr>\n",
       "      <th>2</th>\n",
       "      <td>2</td>\n",
       "      <td>4.0</td>\n",
       "      <td>0.6962</td>\n",
       "      <td>good, quality, sound, bass, product, battery, awesome, backup, headphone, design</td>\n",
       "      <td>[awesome, sound, quality, pro, battery, life, min, approx, call, time, awesome, sound, output, bass, treble, clear, equaliser, equaliser, sound, wary, handset, sound, quality, weightless, carry, h...</td>\n",
       "    </tr>\n",
       "    <tr>\n",
       "      <th>3</th>\n",
       "      <td>3</td>\n",
       "      <td>1.0</td>\n",
       "      <td>0.4289</td>\n",
       "      <td>product, nice, good, productread, awesome, qualityread, excellent, love, superread, satisfied</td>\n",
       "      <td>[good, product, quality, good, product, january, pandamic, situation, useful, helpful, overall, bass, sound, quality, good, thing, sigh, relief, provide, wire, help, case, charge, more]</td>\n",
       "    </tr>\n",
       "    <tr>\n",
       "      <th>4</th>\n",
       "      <td>4</td>\n",
       "      <td>4.0</td>\n",
       "      <td>0.4998</td>\n",
       "      <td>good, quality, sound, bass, product, battery, awesome, backup, headphone, design</td>\n",
       "      <td>[awesome, bass, sound, quality, good, bettary, long, life, purchase, grateful, product]</td>\n",
       "    </tr>\n",
       "  </tbody>\n",
       "</table>\n",
       "</div>"
      ],
      "text/plain": [
       "   Document_No  Dominant_Topic  Topic_Perc_Contrib  \\\n",
       "0            0             4.0              0.6424   \n",
       "1            1             4.0              0.9046   \n",
       "2            2             4.0              0.6962   \n",
       "3            3             1.0              0.4289   \n",
       "4            4             4.0              0.4998   \n",
       "\n",
       "                                                                                        Keywords  \\\n",
       "0               good, quality, sound, bass, product, battery, awesome, backup, headphone, design   \n",
       "1               good, quality, sound, bass, product, battery, awesome, backup, headphone, design   \n",
       "2               good, quality, sound, bass, product, battery, awesome, backup, headphone, design   \n",
       "3  product, nice, good, productread, awesome, qualityread, excellent, love, superread, satisfied   \n",
       "4               good, quality, sound, bass, product, battery, awesome, backup, headphone, design   \n",
       "\n",
       "                                                                                                                                                                                                      Text  \n",
       "0                                                                                                                                                        [nice, produt, design, lot, easy, carry, stylish]  \n",
       "1                                                                                                                                           [awesome, sound, sound, quality, good, wish, product, product]  \n",
       "2  [awesome, sound, quality, pro, battery, life, min, approx, call, time, awesome, sound, output, bass, treble, clear, equaliser, equaliser, sound, wary, handset, sound, quality, weightless, carry, h...  \n",
       "3                [good, product, quality, good, product, january, pandamic, situation, useful, helpful, overall, bass, sound, quality, good, thing, sigh, relief, provide, wire, help, case, charge, more]  \n",
       "4                                                                                                                  [awesome, bass, sound, quality, good, bettary, long, life, purchase, grateful, product]  "
      ]
     },
     "execution_count": 51,
     "metadata": {},
     "output_type": "execute_result"
    }
   ],
   "source": [
    "def format_topics_sentences(ldamodel=lda_model, corpus=doc_term_matrix, texts=reviews_2):\n",
    "    # Init output\n",
    "    sent_topics_df = pd.DataFrame()\n",
    "\n",
    "    # Get main topic in each document\n",
    "    for i, row in enumerate(ldamodel[corpus]):\n",
    "        \n",
    "        row = sorted(row, key=lambda x: (x[1]), reverse=True)\n",
    "    \n",
    "        # Get the Dominant topic, Perc Contribution and Keywords for each document\n",
    "        for j, (topic_num, prop_topic) in enumerate(row):\n",
    "            \n",
    "            if j == 0:  # => dominant topic\n",
    "                wp = ldamodel.show_topic(topic_num)\n",
    "                \n",
    "                topic_keywords = \", \".join([word for word, prop in wp])\n",
    "                \n",
    "                sent_topics_df = sent_topics_df.append(pd.Series([int(topic_num), round(prop_topic,4), topic_keywords]), ignore_index=True)\n",
    "                \n",
    "            else:\n",
    "                break\n",
    "    sent_topics_df.columns = ['Dominant_Topic', 'Perc_Contribution', 'Topic_Keywords']\n",
    "\n",
    "    # Add original text to the end of the output\n",
    "    contents = pd.Series(texts)\n",
    "    sent_topics_df = pd.concat([sent_topics_df, contents], axis=1)\n",
    "    return(sent_topics_df)\n",
    "\n",
    "\n",
    "df_topic_sents_keywords = format_topics_sentences(ldamodel=lda_model, corpus=doc_term_matrix, texts=reviews_2)\n",
    "\n",
    "# Format\n",
    "df_dominant_topic = df_topic_sents_keywords.reset_index()\n",
    "df_dominant_topic.columns = ['Document_No', 'Dominant_Topic', 'Topic_Perc_Contrib', 'Keywords', 'Text']\n",
    "\n",
    "# Show\n",
    "df_dominant_topic.head()"
   ]
  },
  {
   "cell_type": "code",
   "execution_count": 52,
   "metadata": {},
   "outputs": [
    {
     "data": {
      "text/html": [
       "<div>\n",
       "<style scoped>\n",
       "    .dataframe tbody tr th:only-of-type {\n",
       "        vertical-align: middle;\n",
       "    }\n",
       "\n",
       "    .dataframe tbody tr th {\n",
       "        vertical-align: top;\n",
       "    }\n",
       "\n",
       "    .dataframe thead th {\n",
       "        text-align: right;\n",
       "    }\n",
       "</style>\n",
       "<table border=\"1\" class=\"dataframe\">\n",
       "  <thead>\n",
       "    <tr style=\"text-align: right;\">\n",
       "      <th></th>\n",
       "      <th>Topic_Num</th>\n",
       "      <th>Topic_Perc_Contrib</th>\n",
       "      <th>Keywords</th>\n",
       "      <th>Text</th>\n",
       "    </tr>\n",
       "  </thead>\n",
       "  <tbody>\n",
       "    <tr>\n",
       "      <th>0</th>\n",
       "      <td>0.0</td>\n",
       "      <td>0.9340</td>\n",
       "      <td>headphone, good, boat, bluetooth, more, bad, price, headset, day, range</td>\n",
       "      <td>[awesome, first, thank, fast, delivery, withon, day, specification, good, well, credit, dear]</td>\n",
       "    </tr>\n",
       "    <tr>\n",
       "      <th>1</th>\n",
       "      <td>1.0</td>\n",
       "      <td>0.8775</td>\n",
       "      <td>product, nice, good, productread, awesome, qualityread, excellent, love, superread, satisfied</td>\n",
       "      <td>[nice, product, vishay, hard, ahe, bahi]</td>\n",
       "    </tr>\n",
       "    <tr>\n",
       "      <th>2</th>\n",
       "      <td>2.0</td>\n",
       "      <td>0.9387</td>\n",
       "      <td>ear, good, pain, tight, more, long, comfortable, use, time, hour</td>\n",
       "      <td>[indicator, comfortable, long, time, useafter, min, ear, little, bit, painbcoz, tight, fighting, more]</td>\n",
       "    </tr>\n",
       "    <tr>\n",
       "      <th>3</th>\n",
       "      <td>3.0</td>\n",
       "      <td>0.9047</td>\n",
       "      <td>battery, great, product, amazing, backup, month, cable, worth, purchase, use</td>\n",
       "      <td>[kollila, peten, complaint, ayi, month, polum, ayillawarranty, okke]</td>\n",
       "    </tr>\n",
       "    <tr>\n",
       "      <th>4</th>\n",
       "      <td>4.0</td>\n",
       "      <td>0.9591</td>\n",
       "      <td>good, quality, sound, bass, product, battery, awesome, backup, headphone, design</td>\n",
       "      <td>[good, product, price, range, battery, backup, good, careful, choosing, colour, different, different, colour, leather, finish, fabric, zoom, image, leather, finish]</td>\n",
       "    </tr>\n",
       "    <tr>\n",
       "      <th>5</th>\n",
       "      <td>5.0</td>\n",
       "      <td>0.9522</td>\n",
       "      <td>good, sound, bass, quality, music, mic, call, headphone, clear, voice</td>\n",
       "      <td>[poor, sound, quality, much, sound, good, comfort, hrs, use, good, calling, headphone, well, experience, budget, bullet, bass]</td>\n",
       "    </tr>\n",
       "    <tr>\n",
       "      <th>6</th>\n",
       "      <td>6.0</td>\n",
       "      <td>0.8282</td>\n",
       "      <td>more, buy, don, amazing, fantastic, wonderful, fabulous, reasonable, price, excellentread</td>\n",
       "      <td>[fragile, break, top, monthsread]</td>\n",
       "    </tr>\n",
       "  </tbody>\n",
       "</table>\n",
       "</div>"
      ],
      "text/plain": [
       "   Topic_Num  Topic_Perc_Contrib  \\\n",
       "0        0.0              0.9340   \n",
       "1        1.0              0.8775   \n",
       "2        2.0              0.9387   \n",
       "3        3.0              0.9047   \n",
       "4        4.0              0.9591   \n",
       "5        5.0              0.9522   \n",
       "6        6.0              0.8282   \n",
       "\n",
       "                                                                                        Keywords  \\\n",
       "0                        headphone, good, boat, bluetooth, more, bad, price, headset, day, range   \n",
       "1  product, nice, good, productread, awesome, qualityread, excellent, love, superread, satisfied   \n",
       "2                               ear, good, pain, tight, more, long, comfortable, use, time, hour   \n",
       "3                   battery, great, product, amazing, backup, month, cable, worth, purchase, use   \n",
       "4               good, quality, sound, bass, product, battery, awesome, backup, headphone, design   \n",
       "5                          good, sound, bass, quality, music, mic, call, headphone, clear, voice   \n",
       "6      more, buy, don, amazing, fantastic, wonderful, fabulous, reasonable, price, excellentread   \n",
       "\n",
       "                                                                                                                                                                   Text  \n",
       "0                                                                         [awesome, first, thank, fast, delivery, withon, day, specification, good, well, credit, dear]  \n",
       "1                                                                                                                              [nice, product, vishay, hard, ahe, bahi]  \n",
       "2                                                                [indicator, comfortable, long, time, useafter, min, ear, little, bit, painbcoz, tight, fighting, more]  \n",
       "3                                                                                                  [kollila, peten, complaint, ayi, month, polum, ayillawarranty, okke]  \n",
       "4  [good, product, price, range, battery, backup, good, careful, choosing, colour, different, different, colour, leather, finish, fabric, zoom, image, leather, finish]  \n",
       "5                                        [poor, sound, quality, much, sound, good, comfort, hrs, use, good, calling, headphone, well, experience, budget, bullet, bass]  \n",
       "6                                                                                                                                     [fragile, break, top, monthsread]  "
      ]
     },
     "execution_count": 52,
     "metadata": {},
     "output_type": "execute_result"
    }
   ],
   "source": [
    "# Group top 5 sentences under each topic\n",
    "sent_topics_sorteddf_mallet = pd.DataFrame()\n",
    "\n",
    "sent_topics_outdf_grpd = df_topic_sents_keywords.groupby('Dominant_Topic')\n",
    "\n",
    "for i, grp in sent_topics_outdf_grpd:\n",
    "    sent_topics_sorteddf_mallet = pd.concat([sent_topics_sorteddf_mallet, \n",
    "                                             grp.sort_values(['Perc_Contribution'], ascending=[0]).head(1)], \n",
    "                                            axis=0)\n",
    "\n",
    "# Reset Index    \n",
    "sent_topics_sorteddf_mallet.reset_index(drop=True, inplace=True)\n",
    "\n",
    "# Format\n",
    "sent_topics_sorteddf_mallet.columns = ['Topic_Num', \"Topic_Perc_Contrib\", \"Keywords\", \"Text\"]\n",
    "\n",
    "# Show\n",
    "sent_topics_sorteddf_mallet"
   ]
  },
  {
   "cell_type": "code",
   "execution_count": null,
   "metadata": {},
   "outputs": [],
   "source": []
  }
 ],
 "metadata": {
  "kernelspec": {
   "display_name": "Python 3",
   "language": "python",
   "name": "python3"
  },
  "language_info": {
   "codemirror_mode": {
    "name": "ipython",
    "version": 3
   },
   "file_extension": ".py",
   "mimetype": "text/x-python",
   "name": "python",
   "nbconvert_exporter": "python",
   "pygments_lexer": "ipython3",
   "version": "3.8.5"
  }
 },
 "nbformat": 4,
 "nbformat_minor": 4
}
